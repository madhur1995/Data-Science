{
 "cells": [
  {
   "cell_type": "code",
   "execution_count": 1,
   "id": "d7a882a2",
   "metadata": {},
   "outputs": [],
   "source": [
    "#setup working directory\n",
    "import os\n",
    "os.chdir(\"C:\\\\Users\\\\Lenovo\\\\Desktop\\\\New folder\\\\LetsUpgrade_Python_Aug\\\\DT\")"
   ]
  },
  {
   "cell_type": "code",
   "execution_count": 2,
   "id": "4e62caa6",
   "metadata": {},
   "outputs": [
    {
     "data": {
      "text/plain": [
       "'C:\\\\Users\\\\Lenovo\\\\Desktop\\\\New folder\\\\LetsUpgrade_Python_Aug\\\\DT'"
      ]
     },
     "execution_count": 2,
     "metadata": {},
     "output_type": "execute_result"
    }
   ],
   "source": [
    "os.getcwd()"
   ]
  },
  {
   "cell_type": "code",
   "execution_count": 3,
   "id": "084b8673",
   "metadata": {},
   "outputs": [],
   "source": [
    "import numpy as np # array and maths\n",
    "import pandas as pd # import and export / manipulation\n",
    "import matplotlib.pyplot as plt # visualization\n",
    "import seaborn as sns # adv visualisation + Stats\n",
    "%matplotlib inline"
   ]
  },
  {
   "cell_type": "code",
   "execution_count": 4,
   "id": "d6a92a41",
   "metadata": {},
   "outputs": [
    {
     "data": {
      "text/html": [
       "<div>\n",
       "<style scoped>\n",
       "    .dataframe tbody tr th:only-of-type {\n",
       "        vertical-align: middle;\n",
       "    }\n",
       "\n",
       "    .dataframe tbody tr th {\n",
       "        vertical-align: top;\n",
       "    }\n",
       "\n",
       "    .dataframe thead th {\n",
       "        text-align: right;\n",
       "    }\n",
       "</style>\n",
       "<table border=\"1\" class=\"dataframe\">\n",
       "  <thead>\n",
       "    <tr style=\"text-align: right;\">\n",
       "      <th></th>\n",
       "      <th>Kyphosis</th>\n",
       "      <th>Age</th>\n",
       "      <th>Number</th>\n",
       "      <th>Start</th>\n",
       "    </tr>\n",
       "  </thead>\n",
       "  <tbody>\n",
       "    <tr>\n",
       "      <th>0</th>\n",
       "      <td>absent</td>\n",
       "      <td>71</td>\n",
       "      <td>3</td>\n",
       "      <td>5</td>\n",
       "    </tr>\n",
       "    <tr>\n",
       "      <th>1</th>\n",
       "      <td>absent</td>\n",
       "      <td>158</td>\n",
       "      <td>3</td>\n",
       "      <td>14</td>\n",
       "    </tr>\n",
       "    <tr>\n",
       "      <th>2</th>\n",
       "      <td>present</td>\n",
       "      <td>128</td>\n",
       "      <td>4</td>\n",
       "      <td>5</td>\n",
       "    </tr>\n",
       "    <tr>\n",
       "      <th>3</th>\n",
       "      <td>absent</td>\n",
       "      <td>2</td>\n",
       "      <td>5</td>\n",
       "      <td>1</td>\n",
       "    </tr>\n",
       "    <tr>\n",
       "      <th>4</th>\n",
       "      <td>absent</td>\n",
       "      <td>1</td>\n",
       "      <td>4</td>\n",
       "      <td>15</td>\n",
       "    </tr>\n",
       "  </tbody>\n",
       "</table>\n",
       "</div>"
      ],
      "text/plain": [
       "  Kyphosis  Age  Number  Start\n",
       "0   absent   71       3      5\n",
       "1   absent  158       3     14\n",
       "2  present  128       4      5\n",
       "3   absent    2       5      1\n",
       "4   absent    1       4     15"
      ]
     },
     "execution_count": 4,
     "metadata": {},
     "output_type": "execute_result"
    }
   ],
   "source": [
    "# import dataset\n",
    "df = pd.read_csv(\"kyphosis.csv\")\n",
    "df.head()"
   ]
  },
  {
   "cell_type": "code",
   "execution_count": 14,
   "id": "c611e6ff",
   "metadata": {},
   "outputs": [
    {
     "data": {
      "text/plain": [
       "Kyphosis    False\n",
       "Age         False\n",
       "Number      False\n",
       "Start       False\n",
       "dtype: bool"
      ]
     },
     "execution_count": 14,
     "metadata": {},
     "output_type": "execute_result"
    }
   ],
   "source": [
    "# check1 - missing value\n",
    "df.isnull().any()"
   ]
  },
  {
   "cell_type": "code",
   "execution_count": 15,
   "id": "a7cff623",
   "metadata": {},
   "outputs": [
    {
     "data": {
      "text/plain": [
       "<AxesSubplot:ylabel='Age'>"
      ]
     },
     "execution_count": 15,
     "metadata": {},
     "output_type": "execute_result"
    },
    {
     "data": {
      "image/png": "[encoded data removed]",
      "text/plain": [
       "<Figure size 432x288 with 1 Axes>"
      ]
     },
     "metadata": {
      "needs_background": "light"
     },
     "output_type": "display_data"
    }
   ],
   "source": [
    "# check 2 - outlier \n",
    "# since it's classification problem\n",
    "sns.boxplot(y='Age', data=df)"
   ]
  },
  {
   "cell_type": "code",
   "execution_count": 16,
   "id": "661c4206",
   "metadata": {},
   "outputs": [
    {
     "data": {
      "text/plain": [
       "<AxesSubplot:ylabel='Number'>"
      ]
     },
     "execution_count": 16,
     "metadata": {},
     "output_type": "execute_result"
    },
    {
     "data": {
      "image/png": "[encoded data removed]",
      "text/plain": [
       "<Figure size 432x288 with 1 Axes>"
      ]
     },
     "metadata": {
      "needs_background": "light"
     },
     "output_type": "display_data"
    }
   ],
   "source": [
    "sns.boxplot(y='Number', data=df)"
   ]
  },
  {
   "cell_type": "code",
   "execution_count": 17,
   "id": "2674e3a8",
   "metadata": {},
   "outputs": [
    {
     "data": {
      "text/plain": [
       "Index(['Kyphosis', 'Age', 'Number', 'Start'], dtype='object')"
      ]
     },
     "execution_count": 17,
     "metadata": {},
     "output_type": "execute_result"
    }
   ],
   "source": [
    "# check 3 - label encoder \n",
    "df.columns\n",
    "# Kyphosis - dependent variable\n",
    "# Age / Number / Start - Independent variable\n",
    "# since independent variables are number so no need to handle encoding part"
   ]
  },
  {
   "cell_type": "code",
   "execution_count": 18,
   "id": "7596742d",
   "metadata": {},
   "outputs": [
    {
     "name": "stdout",
     "output_type": "stream",
     "text": [
      "<class 'pandas.core.frame.DataFrame'>\n",
      "RangeIndex: 81 entries, 0 to 80\n",
      "Data columns (total 4 columns):\n",
      " #   Column    Non-Null Count  Dtype \n",
      "---  ------    --------------  ----- \n",
      " 0   Kyphosis  81 non-null     object\n",
      " 1   Age       81 non-null     int64 \n",
      " 2   Number    81 non-null     int64 \n",
      " 3   Start     81 non-null     int64 \n",
      "dtypes: int64(3), object(1)\n",
      "memory usage: 2.7+ KB\n"
     ]
    }
   ],
   "source": [
    "df.info()"
   ]
  },
  {
   "cell_type": "code",
   "execution_count": 19,
   "id": "1e1f54d3",
   "metadata": {},
   "outputs": [
    {
     "data": {
      "text/html": [
       "<div>\n",
       "<style scoped>\n",
       "    .dataframe tbody tr th:only-of-type {\n",
       "        vertical-align: middle;\n",
       "    }\n",
       "\n",
       "    .dataframe tbody tr th {\n",
       "        vertical-align: top;\n",
       "    }\n",
       "\n",
       "    .dataframe thead th {\n",
       "        text-align: right;\n",
       "    }\n",
       "</style>\n",
       "<table border=\"1\" class=\"dataframe\">\n",
       "  <thead>\n",
       "    <tr style=\"text-align: right;\">\n",
       "      <th></th>\n",
       "      <th>Kyphosis</th>\n",
       "      <th>Age</th>\n",
       "      <th>Number</th>\n",
       "      <th>Start</th>\n",
       "    </tr>\n",
       "  </thead>\n",
       "  <tbody>\n",
       "    <tr>\n",
       "      <th>0</th>\n",
       "      <td>0</td>\n",
       "      <td>71</td>\n",
       "      <td>3</td>\n",
       "      <td>5</td>\n",
       "    </tr>\n",
       "    <tr>\n",
       "      <th>1</th>\n",
       "      <td>0</td>\n",
       "      <td>158</td>\n",
       "      <td>3</td>\n",
       "      <td>14</td>\n",
       "    </tr>\n",
       "    <tr>\n",
       "      <th>2</th>\n",
       "      <td>1</td>\n",
       "      <td>128</td>\n",
       "      <td>4</td>\n",
       "      <td>5</td>\n",
       "    </tr>\n",
       "    <tr>\n",
       "      <th>3</th>\n",
       "      <td>0</td>\n",
       "      <td>2</td>\n",
       "      <td>5</td>\n",
       "      <td>1</td>\n",
       "    </tr>\n",
       "    <tr>\n",
       "      <th>4</th>\n",
       "      <td>0</td>\n",
       "      <td>1</td>\n",
       "      <td>4</td>\n",
       "      <td>15</td>\n",
       "    </tr>\n",
       "  </tbody>\n",
       "</table>\n",
       "</div>"
      ],
      "text/plain": [
       "   Kyphosis  Age  Number  Start\n",
       "0         0   71       3      5\n",
       "1         0  158       3     14\n",
       "2         1  128       4      5\n",
       "3         0    2       5      1\n",
       "4         0    1       4     15"
      ]
     },
     "execution_count": 19,
     "metadata": {},
     "output_type": "execute_result"
    }
   ],
   "source": [
    "# Kyphosis - number\n",
    "df['Kyphosis'] = df['Kyphosis'].astype('category')\n",
    "df['Kyphosis'] = df['Kyphosis'].cat.codes\n",
    "df.head()"
   ]
  },
  {
   "cell_type": "code",
   "execution_count": null,
   "id": "b380151c",
   "metadata": {},
   "outputs": [],
   "source": []
  },
  {
   "cell_type": "code",
   "execution_count": null,
   "id": "2e6ffe5f",
   "metadata": {},
   "outputs": [],
   "source": []
  },
  {
   "cell_type": "code",
   "execution_count": null,
   "id": "fd713954",
   "metadata": {},
   "outputs": [],
   "source": []
  },
  {
   "cell_type": "code",
   "execution_count": 10,
   "id": "3c8d5242",
   "metadata": {},
   "outputs": [],
   "source": [
    "# split the data into ind variable and dependent variable\n",
    "x = df.iloc[:,1:]\n",
    "y = df.iloc[:,0]"
   ]
  },
  {
   "cell_type": "code",
   "execution_count": 21,
   "id": "7a5e86f1",
   "metadata": {},
   "outputs": [],
   "source": [
    "# check 4 - feature scaling \n",
    "from sklearn.preprocessing import StandardScaler\n",
    "sc_df = StandardScaler()\n",
    "x_sc = sc_df.fit_transform(x)"
   ]
  },
  {
   "cell_type": "code",
   "execution_count": 22,
   "id": "b274a401",
   "metadata": {},
   "outputs": [
    {
     "data": {
      "text/plain": [
       "array([[-0.21914343, -0.65203532, -1.33790708],\n",
       "       [ 1.28749437, -0.65203532,  0.51634056],\n",
       "       [ 0.7679641 , -0.03068401, -1.33790708],\n",
       "       [-1.41406306,  0.59066729, -2.16201714],\n",
       "       [-1.43138074, -0.03068401,  0.72236808],\n",
       "       [-1.43138074, -1.27338662,  0.92839559],\n",
       "       [-0.39232019, -1.27338662,  1.13442311],\n",
       "       [-0.80794441, -0.65203532,  0.92839559],\n",
       "       [ 0.50819896, -1.27338662,  0.92839559],\n",
       "       [-0.42695554,  1.21201859,  0.10428553],\n",
       "       [-0.02864899,  0.59066729,  0.51634056],\n",
       "       [ 1.11431761, -0.65203532,  0.92839559],\n",
       "       [-1.13698025,  0.59066729, -1.95598962],\n",
       "       [-1.43138074, -0.03068401,  0.10428553],\n",
       "       [ 1.46067113, -0.65203532,  1.34045062],\n",
       "       [-1.43138074, -0.65203532,  0.92839559],\n",
       "       [-0.0979197 ,  1.21201859,  0.72236808],\n",
       "       [ 1.58189486,  0.59066729,  0.31031305],\n",
       "       [-0.06328435,  0.59066729,  0.92839559],\n",
       "       [-0.98112117, -0.03068401, -0.51379701],\n",
       "       [-1.06770955, -1.27338662,  0.92839559],\n",
       "       [ 0.36965755,  1.21201859, -1.33790708],\n",
       "       [ 0.21379847, -0.65203532,  0.10428553],\n",
       "       [ 0.81991712, -1.27338662, -1.74996211],\n",
       "       [-1.18893328,  1.83336989, -1.95598962],\n",
       "       [-1.29283933,  0.59066729,  0.31031305],\n",
       "       [-1.31015701, -0.65203532, -1.13187956],\n",
       "       [ 0.28306917, -0.65203532,  0.51634056],\n",
       "       [-1.37942771, -0.65203532,  0.92839559],\n",
       "       [ 1.16627064, -1.27338662,  0.92839559],\n",
       "       [-0.91185046, -0.65203532,  0.92839559],\n",
       "       [ 0.71601107, -1.27338662, -0.10174198],\n",
       "       [ 0.80259945,  0.59066729,  0.31031305],\n",
       "       [ 0.49088128, -0.65203532,  0.92839559],\n",
       "       [ 0.97577621,  0.59066729, -0.10174198],\n",
       "       [ 0.16184544, -0.65203532,  0.92839559],\n",
       "       [-1.43138074, -0.65203532, -0.51379701],\n",
       "       [-0.54817927,  0.59066729, -1.13187956],\n",
       "       [-1.1023449 ,  1.21201859, -0.51379701],\n",
       "       [ 0.12721009,  0.59066729,  0.10428553],\n",
       "       [-0.18450808,  0.59066729, -2.16201714],\n",
       "       [-0.84257976, -0.65203532,  0.31031305],\n",
       "       [ 1.02772923,  3.07607249, -1.74996211],\n",
       "       [-0.39232019, -0.03068401, -2.16201714],\n",
       "       [ 0.23111614, -0.65203532,  0.92839559],\n",
       "       [ 0.95845853, -0.65203532, -0.3077695 ],\n",
       "       [ 0.9065055 , -0.03068401,  0.72236808],\n",
       "       [ 0.81991712,  0.59066729,  0.31031305],\n",
       "       [ 0.64674036, -0.65203532, -1.74996211],\n",
       "       [ 1.61653021, -1.27338662,  0.51634056],\n",
       "       [-0.27109646,  0.59066729, -0.3077695 ],\n",
       "       [-1.29283933, -1.27338662,  1.13442311],\n",
       "       [ 0.95845853,  3.69742379, -1.13187956],\n",
       "       [-1.41406306, -1.27338662,  1.13442311],\n",
       "       [ 0.97577621, -0.03068401,  0.72236808],\n",
       "       [-0.20182575,  0.59066729,  0.72236808],\n",
       "       [-1.41406306, -0.65203532,  0.31031305],\n",
       "       [ 0.62942269,  0.59066729, -0.71982453],\n",
       "       [-0.56549695,  1.83336989, -0.51379701],\n",
       "       [ 0.31770452, -0.65203532,  0.31031305],\n",
       "       [ 0.80259945, -0.03068401, -2.16201714],\n",
       "       [ 0.52551663,  1.83336989, -0.71982453],\n",
       "       [-0.04596667, -0.03068401, -2.16201714],\n",
       "       [ 0.59478734, -0.65203532,  0.92839559],\n",
       "       [ 0.59478734, -0.03068401,  0.92839559],\n",
       "       [-1.15429793, -0.03068401, -0.3077695 ],\n",
       "       [ 1.92824838, -1.27338662,  1.13442311],\n",
       "       [ 1.30481205, -0.03068401,  0.31031305],\n",
       "       [-1.13698025, -0.03068401, -0.10174198],\n",
       "       [-1.18893328,  0.59066729,  0.92839559],\n",
       "       [ 1.28749437,  0.59066729,  0.51634056],\n",
       "       [ 0.75064642, -0.03068401,  0.10428553],\n",
       "       [ 0.05793938, -0.03068401,  0.92839559],\n",
       "       [ 2.11874281, -0.03068401, -0.3077695 ],\n",
       "       [-1.25820398, -0.65203532,  0.72236808],\n",
       "       [ 1.63384789, -0.03068401,  0.72236808],\n",
       "       [ 1.2701767 , -0.65203532,  0.31031305],\n",
       "       [-0.99843884,  1.83336989,  0.31031305],\n",
       "       [ 0.62942269, -1.27338662,  0.31031305],\n",
       "       [-0.72135603,  1.83336989, -1.13187956],\n",
       "       [-0.82526208, -0.03068401,  0.31031305]])"
      ]
     },
     "execution_count": 22,
     "metadata": {},
     "output_type": "execute_result"
    }
   ],
   "source": [
    "x_sc"
   ]
  },
  {
   "cell_type": "code",
   "execution_count": 11,
   "id": "b062c643",
   "metadata": {},
   "outputs": [
    {
     "name": "stdout",
     "output_type": "stream",
     "text": [
      "    Age  Number  Start\n",
      "0    71       3      5\n",
      "1   158       3     14\n",
      "2   128       4      5\n",
      "3     2       5      1\n",
      "4     1       4     15\n",
      "..  ...     ...    ...\n",
      "76  157       3     13\n",
      "77   26       7     13\n",
      "78  120       2     13\n",
      "79   42       7      6\n",
      "80   36       4     13\n",
      "\n",
      "[81 rows x 3 columns]\n",
      "0      absent\n",
      "1      absent\n",
      "2     present\n",
      "3      absent\n",
      "4      absent\n",
      "       ...   \n",
      "76    present\n",
      "77     absent\n",
      "78     absent\n",
      "79    present\n",
      "80     absent\n",
      "Name: Kyphosis, Length: 81, dtype: object\n"
     ]
    }
   ],
   "source": [
    "print(x)\n",
    "print(y)"
   ]
  },
  {
   "cell_type": "code",
   "execution_count": 23,
   "id": "c9515455",
   "metadata": {},
   "outputs": [
    {
     "data": {
      "text/plain": [
       "0    64\n",
       "1    17\n",
       "Name: Kyphosis, dtype: int64"
      ]
     },
     "execution_count": 23,
     "metadata": {},
     "output_type": "execute_result"
    }
   ],
   "source": [
    "# check 5 : imbalanced dataset - found\n",
    "# we have to treat this\n",
    "df['Kyphosis'].value_counts()"
   ]
  },
  {
   "cell_type": "code",
   "execution_count": null,
   "id": "a1a816e9",
   "metadata": {},
   "outputs": [],
   "source": [
    "!pip install imblearn"
   ]
  },
  {
   "cell_type": "code",
   "execution_count": 24,
   "id": "b1979c2d",
   "metadata": {},
   "outputs": [],
   "source": [
    "import imblearn"
   ]
  },
  {
   "cell_type": "code",
   "execution_count": 25,
   "id": "69e5e8a2",
   "metadata": {},
   "outputs": [],
   "source": [
    "from imblearn.over_sampling import RandomOverSampler\n",
    "over = RandomOverSampler()\n",
    "x_over, y_over = over.fit_resample(x_sc,y)"
   ]
  },
  {
   "cell_type": "code",
   "execution_count": 26,
   "id": "9aed440f",
   "metadata": {},
   "outputs": [
    {
     "name": "stdout",
     "output_type": "stream",
     "text": [
      "(128, 3)\n",
      "(128,)\n"
     ]
    }
   ],
   "source": [
    "print(x_over.shape)\n",
    "print(y_over.shape)"
   ]
  },
  {
   "cell_type": "code",
   "execution_count": 27,
   "id": "8dc997fd",
   "metadata": {},
   "outputs": [
    {
     "data": {
      "text/plain": [
       "<seaborn.axisgrid.PairGrid at 0x1e5bb85c130>"
      ]
     },
     "execution_count": 27,
     "metadata": {},
     "output_type": "execute_result"
    },
    {
     "data": {
      "image/png": "[encoded data removed]",
      "text/plain": [
       "<Figure size 720x720 with 20 Axes>"
      ]
     },
     "metadata": {
      "needs_background": "light"
     },
     "output_type": "display_data"
    }
   ],
   "source": [
    "# EDA \n",
    "sns.pairplot(df)"
   ]
  },
  {
   "cell_type": "code",
   "execution_count": 29,
   "id": "0f950868",
   "metadata": {},
   "outputs": [
    {
     "data": {
      "text/html": [
       "<div>\n",
       "<style scoped>\n",
       "    .dataframe tbody tr th:only-of-type {\n",
       "        vertical-align: middle;\n",
       "    }\n",
       "\n",
       "    .dataframe tbody tr th {\n",
       "        vertical-align: top;\n",
       "    }\n",
       "\n",
       "    .dataframe thead th {\n",
       "        text-align: right;\n",
       "    }\n",
       "</style>\n",
       "<table border=\"1\" class=\"dataframe\">\n",
       "  <thead>\n",
       "    <tr style=\"text-align: right;\">\n",
       "      <th></th>\n",
       "      <th>Kyphosis</th>\n",
       "      <th>Age</th>\n",
       "      <th>Number</th>\n",
       "      <th>Start</th>\n",
       "    </tr>\n",
       "  </thead>\n",
       "  <tbody>\n",
       "    <tr>\n",
       "      <th>Kyphosis</th>\n",
       "      <td>1.000000</td>\n",
       "      <td>0.126465</td>\n",
       "      <td>0.360935</td>\n",
       "      <td>-0.445943</td>\n",
       "    </tr>\n",
       "    <tr>\n",
       "      <th>Age</th>\n",
       "      <td>0.126465</td>\n",
       "      <td>1.000000</td>\n",
       "      <td>-0.016687</td>\n",
       "      <td>0.057828</td>\n",
       "    </tr>\n",
       "    <tr>\n",
       "      <th>Number</th>\n",
       "      <td>0.360935</td>\n",
       "      <td>-0.016687</td>\n",
       "      <td>1.000000</td>\n",
       "      <td>-0.425099</td>\n",
       "    </tr>\n",
       "    <tr>\n",
       "      <th>Start</th>\n",
       "      <td>-0.445943</td>\n",
       "      <td>0.057828</td>\n",
       "      <td>-0.425099</td>\n",
       "      <td>1.000000</td>\n",
       "    </tr>\n",
       "  </tbody>\n",
       "</table>\n",
       "</div>"
      ],
      "text/plain": [
       "          Kyphosis       Age    Number     Start\n",
       "Kyphosis  1.000000  0.126465  0.360935 -0.445943\n",
       "Age       0.126465  1.000000 -0.016687  0.057828\n",
       "Number    0.360935 -0.016687  1.000000 -0.425099\n",
       "Start    -0.445943  0.057828 -0.425099  1.000000"
      ]
     },
     "execution_count": 29,
     "metadata": {},
     "output_type": "execute_result"
    }
   ],
   "source": [
    "# correlation between dv and idv\n",
    "df.corr()"
   ]
  },
  {
   "cell_type": "code",
   "execution_count": 32,
   "id": "003120d9",
   "metadata": {},
   "outputs": [
    {
     "data": {
      "text/plain": [
       "<AxesSubplot:>"
      ]
     },
     "execution_count": 32,
     "metadata": {},
     "output_type": "execute_result"
    },
    {
     "data": {
      "image/png": "[encoded data removed]",
      "text/plain": [
       "<Figure size 432x288 with 2 Axes>"
      ]
     },
     "metadata": {
      "needs_background": "light"
     },
     "output_type": "display_data"
    }
   ],
   "source": [
    "sns.heatmap(df.corr())"
   ]
  },
  {
   "cell_type": "code",
   "execution_count": 33,
   "id": "3c2119c4",
   "metadata": {},
   "outputs": [],
   "source": [
    "# split the data into training and test\n",
    "# 2.7 or any version - plesae use cross_validation instead of model_selection\n",
    "\n",
    "from sklearn.model_selection import train_test_split\n",
    "x_sc_train, x_sc_test, y_train, y_test = train_test_split(x_sc, y, test_size=0.25, random_state=100)"
   ]
  },
  {
   "cell_type": "code",
   "execution_count": 34,
   "id": "7b16d85e",
   "metadata": {},
   "outputs": [
    {
     "name": "stdout",
     "output_type": "stream",
     "text": [
      "(60, 3)\n",
      "(21, 3)\n",
      "(60,)\n",
      "(21,)\n"
     ]
    }
   ],
   "source": [
    "print(x_sc_train.shape)\n",
    "print(x_sc_test.shape)\n",
    "print(y_train.shape)\n",
    "print(y_test.shape)"
   ]
  },
  {
   "cell_type": "code",
   "execution_count": 36,
   "id": "a2be245c",
   "metadata": {},
   "outputs": [
    {
     "data": {
      "text/plain": [
       "DecisionTreeClassifier()"
      ]
     },
     "execution_count": 36,
     "metadata": {},
     "output_type": "execute_result"
    }
   ],
   "source": [
    "# Model Building \n",
    "from sklearn.tree import DecisionTreeClassifier\n",
    "dt = DecisionTreeClassifier(criterion='gini')\n",
    "dt.fit(x_sc_train, y_train)"
   ]
  },
  {
   "cell_type": "code",
   "execution_count": 55,
   "id": "9f86866a",
   "metadata": {},
   "outputs": [
    {
     "data": {
      "text/plain": [
       "DecisionTreeClassifier(criterion='entropy')"
      ]
     },
     "execution_count": 55,
     "metadata": {},
     "output_type": "execute_result"
    }
   ],
   "source": [
    "from sklearn.tree import DecisionTreeClassifier\n",
    "dt1 = DecisionTreeClassifier(criterion='entropy')\n",
    "dt1.fit(x_sc_train, y_train)"
   ]
  },
  {
   "cell_type": "code",
   "execution_count": 56,
   "id": "192736e5",
   "metadata": {},
   "outputs": [],
   "source": [
    "dt1_pred_test = dt.predict(x_sc_test)\n",
    "dt1_pred_train = dt.predict(x_sc_train)"
   ]
  },
  {
   "cell_type": "code",
   "execution_count": 38,
   "id": "2d302707",
   "metadata": {},
   "outputs": [
    {
     "name": "stdout",
     "output_type": "stream",
     "text": [
      "55     absent\n",
      "50     absent\n",
      "28     absent\n",
      "43     absent\n",
      "32     absent\n",
      "37    present\n",
      "54     absent\n",
      "21    present\n",
      "33     absent\n",
      "35     absent\n",
      "78     absent\n",
      "80     absent\n",
      "17     absent\n",
      "76    present\n",
      "40    present\n",
      "0      absent\n",
      "18     absent\n",
      "42     absent\n",
      "57    present\n",
      "71     absent\n",
      "56     absent\n",
      "30     absent\n",
      "41     absent\n",
      "64     absent\n",
      "73     absent\n",
      "51     absent\n",
      "72     absent\n",
      "59     absent\n",
      "47     absent\n",
      "49     absent\n",
      "7      absent\n",
      "3      absent\n",
      "63     absent\n",
      "61    present\n",
      "36     absent\n",
      "19     absent\n",
      "74     absent\n",
      "13     absent\n",
      "1      absent\n",
      "31     absent\n",
      "4      absent\n",
      "44     absent\n",
      "27     absent\n",
      "2     present\n",
      "9     present\n",
      "16     absent\n",
      "58     absent\n",
      "60    present\n",
      "15     absent\n",
      "79    present\n",
      "34     absent\n",
      "14     absent\n",
      "66     absent\n",
      "53     absent\n",
      "52    present\n",
      "10    present\n",
      "48    present\n",
      "67     absent\n",
      "24    present\n",
      "8      absent\n",
      "Name: Kyphosis, dtype: object\n",
      "['absent' 'absent' 'absent' 'absent' 'absent' 'present' 'absent' 'present'\n",
      " 'absent' 'absent' 'absent' 'absent' 'absent' 'present' 'present' 'absent'\n",
      " 'absent' 'absent' 'present' 'absent' 'absent' 'absent' 'absent' 'absent'\n",
      " 'absent' 'absent' 'absent' 'absent' 'absent' 'absent' 'absent' 'absent'\n",
      " 'absent' 'present' 'absent' 'absent' 'absent' 'absent' 'absent' 'absent'\n",
      " 'absent' 'absent' 'absent' 'present' 'present' 'absent' 'absent'\n",
      " 'present' 'absent' 'present' 'absent' 'absent' 'absent' 'absent'\n",
      " 'present' 'present' 'present' 'absent' 'present' 'absent']\n"
     ]
    }
   ],
   "source": [
    "print(y_train)\n",
    "print(dt_pred_train)"
   ]
  },
  {
   "cell_type": "code",
   "execution_count": 39,
   "id": "84bf488d",
   "metadata": {},
   "outputs": [
    {
     "name": "stdout",
     "output_type": "stream",
     "text": [
      "['absent' 'absent' 'absent' 'absent' 'present' 'absent' 'absent' 'absent'\n",
      " 'present' 'absent' 'absent' 'absent' 'absent' 'absent' 'absent' 'absent'\n",
      " 'absent' 'absent' 'absent' 'present' 'absent']\n",
      "11     absent\n",
      "77     absent\n",
      "25     absent\n",
      "5      absent\n",
      "62     absent\n",
      "70     absent\n",
      "20     absent\n",
      "22    present\n",
      "23     absent\n",
      "65     absent\n",
      "69     absent\n",
      "45    present\n",
      "46     absent\n",
      "26     absent\n",
      "39    present\n",
      "29     absent\n",
      "6      absent\n",
      "75     absent\n",
      "38     absent\n",
      "12     absent\n",
      "68     absent\n",
      "Name: Kyphosis, dtype: object\n"
     ]
    }
   ],
   "source": [
    "print(dt_pred_test)\n",
    "print(y_test)"
   ]
  },
  {
   "cell_type": "code",
   "execution_count": 42,
   "id": "980cd454",
   "metadata": {},
   "outputs": [],
   "source": [
    "from sklearn.metrics import confusion_matrix, accuracy_score"
   ]
  },
  {
   "cell_type": "code",
   "execution_count": 41,
   "id": "043ce74b",
   "metadata": {},
   "outputs": [
    {
     "data": {
      "text/plain": [
       "array([[15,  3],\n",
       "       [ 3,  0]], dtype=int64)"
      ]
     },
     "execution_count": 41,
     "metadata": {},
     "output_type": "execute_result"
    }
   ],
   "source": [
    "confusion_matrix(y_test, dt_pred_test)"
   ]
  },
  {
   "cell_type": "code",
   "execution_count": 43,
   "id": "1ab9cb2e",
   "metadata": {},
   "outputs": [
    {
     "data": {
      "text/plain": [
       "0.7142857142857143"
      ]
     },
     "execution_count": 43,
     "metadata": {},
     "output_type": "execute_result"
    }
   ],
   "source": [
    "(15+0)/(15+3+3+0)"
   ]
  },
  {
   "cell_type": "code",
   "execution_count": 57,
   "id": "2783fe0f",
   "metadata": {},
   "outputs": [
    {
     "name": "stdout",
     "output_type": "stream",
     "text": [
      "0.7142857142857143\n",
      "1.0\n"
     ]
    }
   ],
   "source": [
    "# test dataset\n",
    "print(accuracy_score(y_test, dt1_pred_test))\n",
    "print(accuracy_score(y_train, dt1_pred_train))"
   ]
  },
  {
   "cell_type": "code",
   "execution_count": null,
   "id": "bc71495a",
   "metadata": {},
   "outputs": [],
   "source": []
  },
  {
   "cell_type": "code",
   "execution_count": 45,
   "id": "4556f4c9",
   "metadata": {},
   "outputs": [
    {
     "data": {
      "text/plain": [
       "1.0"
      ]
     },
     "execution_count": 45,
     "metadata": {},
     "output_type": "execute_result"
    }
   ],
   "source": [
    "# training dataset\n",
    "accuracy_score(y_train, dt1_pred_train)"
   ]
  },
  {
   "cell_type": "code",
   "execution_count": null,
   "id": "a6b7ab73",
   "metadata": {},
   "outputs": [],
   "source": [
    "# High Variance (Overfitting problem)- variance between train and test would be more than 15%\n",
    "# High Bias (Underfit problem) - both training and test result less than threshold value (70%)"
   ]
  },
  {
   "cell_type": "code",
   "execution_count": null,
   "id": "86a88bc4",
   "metadata": {},
   "outputs": [],
   "source": [
    "# we have overfitting problem in this model\n",
    "# Sol - we have to build RandomForest and apply cross validation method"
   ]
  },
  {
   "cell_type": "code",
   "execution_count": 47,
   "id": "f524b336",
   "metadata": {},
   "outputs": [
    {
     "data": {
      "text/plain": [
       "RandomForestClassifier(n_estimators=1000)"
      ]
     },
     "execution_count": 47,
     "metadata": {},
     "output_type": "execute_result"
    }
   ],
   "source": [
    "from sklearn.ensemble import RandomForestClassifier\n",
    "rf = RandomForestClassifier(n_estimators=1000)\n",
    "rf.fit(x_sc_train, y_train)"
   ]
  },
  {
   "cell_type": "code",
   "execution_count": 48,
   "id": "8750357a",
   "metadata": {},
   "outputs": [],
   "source": [
    "y_rf_train = rf.predict(x_sc_train)\n",
    "y_rf_test = rf.predict(x_sc_test)"
   ]
  },
  {
   "cell_type": "code",
   "execution_count": 49,
   "id": "6a47d05c",
   "metadata": {},
   "outputs": [
    {
     "name": "stdout",
     "output_type": "stream",
     "text": [
      "1.0\n",
      "0.8095238095238095\n"
     ]
    }
   ],
   "source": [
    "print(accuracy_score(y_train, y_rf_train))\n",
    "print(accuracy_score(y_test, y_rf_test))"
   ]
  },
  {
   "cell_type": "code",
   "execution_count": 51,
   "id": "4dac4d11",
   "metadata": {},
   "outputs": [
    {
     "data": {
      "text/plain": [
       "array([0.83333333, 1.        , 0.5       , 0.83333333, 1.        ,\n",
       "       0.83333333, 0.83333333, 0.83333333, 0.66666667, 0.66666667])"
      ]
     },
     "execution_count": 51,
     "metadata": {},
     "output_type": "execute_result"
    }
   ],
   "source": [
    "# cross validation (k-fold method) - to improve your accuracy\n",
    "from sklearn.model_selection import cross_val_score\n",
    "accuracy = cross_val_score(estimator = rf, X= x_sc_train, y = y_train, cv=10)\n",
    "accuracy"
   ]
  },
  {
   "cell_type": "code",
   "execution_count": 52,
   "id": "3692104d",
   "metadata": {},
   "outputs": [
    {
     "data": {
      "text/plain": [
       "1.0"
      ]
     },
     "execution_count": 52,
     "metadata": {},
     "output_type": "execute_result"
    }
   ],
   "source": [
    "accuracy[1]"
   ]
  },
  {
   "cell_type": "code",
   "execution_count": 54,
   "id": "53e1904a",
   "metadata": {},
   "outputs": [
    {
     "name": "stderr",
     "output_type": "stream",
     "text": [
      "C:\\Users\\Lenovo\\anaconda3\\lib\\site-packages\\sklearn\\model_selection\\_split.py:666: UserWarning: The least populated class in y has only 14 members, which is less than n_splits=15.\n",
      "  warnings.warn((\"The least populated class in y has only %d\"\n"
     ]
    },
    {
     "data": {
      "text/plain": [
       "0.7833333333333333"
      ]
     },
     "execution_count": 54,
     "metadata": {},
     "output_type": "execute_result"
    }
   ],
   "source": [
    "# cross validation (k-fold method) - to improve your accuracy\n",
    "from sklearn.model_selection import cross_val_score\n",
    "accuracy = cross_val_score(estimator = rf, X= x_sc_train, y = y_train, cv=15)\n",
    "accuracy.mean()"
   ]
  },
  {
   "cell_type": "code",
   "execution_count": 58,
   "id": "7023012a",
   "metadata": {},
   "outputs": [],
   "source": [
    "from sklearn.linear_model import LinearRegression\n",
    "LinearRegression()"
   ]
  },
  {
   "cell_type": "code",
   "execution_count": 59,
   "id": "98c98ecb",
   "metadata": {},
   "outputs": [
    {
     "data": {
      "text/plain": [
       "LogisticRegression()"
      ]
     },
     "execution_count": 59,
     "metadata": {},
     "output_type": "execute_result"
    }
   ],
   "source": [
    "from sklearn.linear_model import LogisticRegression\n",
    "LogisticRegression()"
   ]
  },
  {
   "cell_type": "code",
   "execution_count": null,
   "id": "ce5cd4f2",
   "metadata": {},
   "outputs": [],
   "source": []
  }
 ],
 "metadata": {
  "kernelspec": {
   "display_name": "Python 3",
   "language": "python",
   "name": "python3"
  },
  "language_info": {
   "codemirror_mode": {
    "name": "ipython",
    "version": 3
   },
   "file_extension": ".py",
   "mimetype": "text/x-python",
   "name": "python",
   "nbconvert_exporter": "python",
   "pygments_lexer": "ipython3",
   "version": "3.8.8"
  }
 },
 "nbformat": 4,
 "nbformat_minor": 5
}
