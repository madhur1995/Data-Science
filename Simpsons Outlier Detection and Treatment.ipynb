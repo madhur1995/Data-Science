{
 "cells": [
  {
   "cell_type": "code",
   "execution_count": 1,
   "id": "d5880021",
   "metadata": {},
   "outputs": [],
   "source": [
    "import numpy as np\n",
    "import matplotlib.pyplot as plt\n",
    "import pandas as pd\n",
    "import seaborn as sns\n"
   ]
  },
  {
   "cell_type": "code",
   "execution_count": 2,
   "id": "4dd4f6ae",
   "metadata": {},
   "outputs": [],
   "source": [
    "df=pd.read_csv(\"data_simpsons_episodes.csv\")"
   ]
  },
  {
   "cell_type": "code",
   "execution_count": 3,
   "id": "5c91a7e0",
   "metadata": {},
   "outputs": [
    {
     "data": {
      "text/html": [
       "<div>\n",
       "<style scoped>\n",
       "    .dataframe tbody tr th:only-of-type {\n",
       "        vertical-align: middle;\n",
       "    }\n",
       "\n",
       "    .dataframe tbody tr th {\n",
       "        vertical-align: top;\n",
       "    }\n",
       "\n",
       "    .dataframe thead th {\n",
       "        text-align: right;\n",
       "    }\n",
       "</style>\n",
       "<table border=\"1\" class=\"dataframe\">\n",
       "  <thead>\n",
       "    <tr style=\"text-align: right;\">\n",
       "      <th></th>\n",
       "      <th>id</th>\n",
       "      <th>title</th>\n",
       "      <th>original_air_date</th>\n",
       "      <th>production_code</th>\n",
       "      <th>season</th>\n",
       "      <th>number_in_season</th>\n",
       "      <th>number_in_series</th>\n",
       "      <th>us_viewers_in_millions</th>\n",
       "      <th>views</th>\n",
       "      <th>imdb_rating</th>\n",
       "      <th>imdb_votes</th>\n",
       "      <th>image_url</th>\n",
       "      <th>video_url</th>\n",
       "    </tr>\n",
       "  </thead>\n",
       "  <tbody>\n",
       "    <tr>\n",
       "      <th>0</th>\n",
       "      <td>10</td>\n",
       "      <td>Homer's Night Out</td>\n",
       "      <td>1990-03-25</td>\n",
       "      <td>7G10</td>\n",
       "      <td>1</td>\n",
       "      <td>10</td>\n",
       "      <td>10</td>\n",
       "      <td>30.30</td>\n",
       "      <td>50816.0</td>\n",
       "      <td>7.4</td>\n",
       "      <td>1511.0</td>\n",
       "      <td>http://static-media.fxx.com/img/FX_Networks_-_...</td>\n",
       "      <td>http://www.simpsonsworld.com/video/275197507879</td>\n",
       "    </tr>\n",
       "    <tr>\n",
       "      <th>1</th>\n",
       "      <td>12</td>\n",
       "      <td>Krusty Gets Busted</td>\n",
       "      <td>1990-04-29</td>\n",
       "      <td>7G12</td>\n",
       "      <td>1</td>\n",
       "      <td>12</td>\n",
       "      <td>12</td>\n",
       "      <td>30.40</td>\n",
       "      <td>62561.0</td>\n",
       "      <td>8.3</td>\n",
       "      <td>1716.0</td>\n",
       "      <td>http://static-media.fxx.com/img/FX_Networks_-_...</td>\n",
       "      <td>http://www.simpsonsworld.com/video/288019523914</td>\n",
       "    </tr>\n",
       "    <tr>\n",
       "      <th>2</th>\n",
       "      <td>14</td>\n",
       "      <td>Bart Gets an \"F\"</td>\n",
       "      <td>1990-10-11</td>\n",
       "      <td>7F03</td>\n",
       "      <td>2</td>\n",
       "      <td>1</td>\n",
       "      <td>14</td>\n",
       "      <td>33.60</td>\n",
       "      <td>59575.0</td>\n",
       "      <td>8.2</td>\n",
       "      <td>1638.0</td>\n",
       "      <td>http://static-media.fxx.com/img/FX_Networks_-_...</td>\n",
       "      <td>http://www.simpsonsworld.com/video/260539459671</td>\n",
       "    </tr>\n",
       "    <tr>\n",
       "      <th>3</th>\n",
       "      <td>17</td>\n",
       "      <td>Two Cars in Every Garage and Three Eyes on Eve...</td>\n",
       "      <td>1990-11-01</td>\n",
       "      <td>7F01</td>\n",
       "      <td>2</td>\n",
       "      <td>4</td>\n",
       "      <td>17</td>\n",
       "      <td>26.10</td>\n",
       "      <td>64959.0</td>\n",
       "      <td>8.1</td>\n",
       "      <td>1457.0</td>\n",
       "      <td>http://static-media.fxx.com/img/FX_Networks_-_...</td>\n",
       "      <td>http://www.simpsonsworld.com/video/260537411822</td>\n",
       "    </tr>\n",
       "    <tr>\n",
       "      <th>4</th>\n",
       "      <td>19</td>\n",
       "      <td>Dead Putting Society</td>\n",
       "      <td>1990-11-15</td>\n",
       "      <td>7F08</td>\n",
       "      <td>2</td>\n",
       "      <td>6</td>\n",
       "      <td>19</td>\n",
       "      <td>25.40</td>\n",
       "      <td>50691.0</td>\n",
       "      <td>8.0</td>\n",
       "      <td>1366.0</td>\n",
       "      <td>http://static-media.fxx.com/img/FX_Networks_-_...</td>\n",
       "      <td>http://www.simpsonsworld.com/video/260539459670</td>\n",
       "    </tr>\n",
       "    <tr>\n",
       "      <th>...</th>\n",
       "      <td>...</td>\n",
       "      <td>...</td>\n",
       "      <td>...</td>\n",
       "      <td>...</td>\n",
       "      <td>...</td>\n",
       "      <td>...</td>\n",
       "      <td>...</td>\n",
       "      <td>...</td>\n",
       "      <td>...</td>\n",
       "      <td>...</td>\n",
       "      <td>...</td>\n",
       "      <td>...</td>\n",
       "      <td>...</td>\n",
       "    </tr>\n",
       "    <tr>\n",
       "      <th>595</th>\n",
       "      <td>500</td>\n",
       "      <td>At Long Last Leave</td>\n",
       "      <td>2012-02-19</td>\n",
       "      <td>PABF07</td>\n",
       "      <td>23</td>\n",
       "      <td>14</td>\n",
       "      <td>500</td>\n",
       "      <td>5.77</td>\n",
       "      <td>45226.0</td>\n",
       "      <td>7.0</td>\n",
       "      <td>580.0</td>\n",
       "      <td>http://static-media.fxx.com/img/FX_Networks_-_...</td>\n",
       "      <td>http://www.simpsonsworld.com/video/230541891832</td>\n",
       "    </tr>\n",
       "    <tr>\n",
       "      <th>596</th>\n",
       "      <td>502</td>\n",
       "      <td>How I Wet Your Mother</td>\n",
       "      <td>2012-03-11</td>\n",
       "      <td>PABF08</td>\n",
       "      <td>23</td>\n",
       "      <td>16</td>\n",
       "      <td>502</td>\n",
       "      <td>4.97</td>\n",
       "      <td>44818.0</td>\n",
       "      <td>7.3</td>\n",
       "      <td>541.0</td>\n",
       "      <td>http://static-media.fxx.com/img/FX_Networks_-_...</td>\n",
       "      <td>http://www.simpsonsworld.com/video/230597187582</td>\n",
       "    </tr>\n",
       "    <tr>\n",
       "      <th>597</th>\n",
       "      <td>511</td>\n",
       "      <td>Adventures in Baby-Getting</td>\n",
       "      <td>2012-11-04</td>\n",
       "      <td>PABF18</td>\n",
       "      <td>24</td>\n",
       "      <td>3</td>\n",
       "      <td>511</td>\n",
       "      <td>5.65</td>\n",
       "      <td>39687.0</td>\n",
       "      <td>6.9</td>\n",
       "      <td>460.0</td>\n",
       "      <td>http://static-media.fxx.com/img/FX_Networks_-_...</td>\n",
       "      <td>http://www.simpsonsworld.com/video/221688899646</td>\n",
       "    </tr>\n",
       "    <tr>\n",
       "      <th>598</th>\n",
       "      <td>542</td>\n",
       "      <td>Diggs</td>\n",
       "      <td>2014-03-09</td>\n",
       "      <td>SABF08</td>\n",
       "      <td>25</td>\n",
       "      <td>12</td>\n",
       "      <td>542</td>\n",
       "      <td>2.69</td>\n",
       "      <td>39292.0</td>\n",
       "      <td>6.4</td>\n",
       "      <td>473.0</td>\n",
       "      <td>http://static-media.fxx.com/img/FX_Networks_-_...</td>\n",
       "      <td>http://www.simpsonsworld.com/video/310529091639</td>\n",
       "    </tr>\n",
       "    <tr>\n",
       "      <th>599</th>\n",
       "      <td>548</td>\n",
       "      <td>Days of Future Future</td>\n",
       "      <td>2014-04-13</td>\n",
       "      <td>SABF13</td>\n",
       "      <td>25</td>\n",
       "      <td>18</td>\n",
       "      <td>548</td>\n",
       "      <td>3.64</td>\n",
       "      <td>55742.0</td>\n",
       "      <td>7.0</td>\n",
       "      <td>504.0</td>\n",
       "      <td>http://static-media.fxx.com/img/FX_Networks_-_...</td>\n",
       "      <td>http://www.simpsonsworld.com/video/310257731892</td>\n",
       "    </tr>\n",
       "  </tbody>\n",
       "</table>\n",
       "<p>600 rows × 13 columns</p>\n",
       "</div>"
      ],
      "text/plain": [
       "      id                                              title original_air_date  \\\n",
       "0     10                                  Homer's Night Out        1990-03-25   \n",
       "1     12                                 Krusty Gets Busted        1990-04-29   \n",
       "2     14                                   Bart Gets an \"F\"        1990-10-11   \n",
       "3     17  Two Cars in Every Garage and Three Eyes on Eve...        1990-11-01   \n",
       "4     19                               Dead Putting Society        1990-11-15   \n",
       "..   ...                                                ...               ...   \n",
       "595  500                                 At Long Last Leave        2012-02-19   \n",
       "596  502                              How I Wet Your Mother        2012-03-11   \n",
       "597  511                         Adventures in Baby-Getting        2012-11-04   \n",
       "598  542                                              Diggs        2014-03-09   \n",
       "599  548                              Days of Future Future        2014-04-13   \n",
       "\n",
       "    production_code  season  number_in_season  number_in_series  \\\n",
       "0              7G10       1                10                10   \n",
       "1              7G12       1                12                12   \n",
       "2              7F03       2                 1                14   \n",
       "3              7F01       2                 4                17   \n",
       "4              7F08       2                 6                19   \n",
       "..              ...     ...               ...               ...   \n",
       "595          PABF07      23                14               500   \n",
       "596          PABF08      23                16               502   \n",
       "597          PABF18      24                 3               511   \n",
       "598          SABF08      25                12               542   \n",
       "599          SABF13      25                18               548   \n",
       "\n",
       "     us_viewers_in_millions    views  imdb_rating  imdb_votes  \\\n",
       "0                     30.30  50816.0          7.4      1511.0   \n",
       "1                     30.40  62561.0          8.3      1716.0   \n",
       "2                     33.60  59575.0          8.2      1638.0   \n",
       "3                     26.10  64959.0          8.1      1457.0   \n",
       "4                     25.40  50691.0          8.0      1366.0   \n",
       "..                      ...      ...          ...         ...   \n",
       "595                    5.77  45226.0          7.0       580.0   \n",
       "596                    4.97  44818.0          7.3       541.0   \n",
       "597                    5.65  39687.0          6.9       460.0   \n",
       "598                    2.69  39292.0          6.4       473.0   \n",
       "599                    3.64  55742.0          7.0       504.0   \n",
       "\n",
       "                                             image_url  \\\n",
       "0    http://static-media.fxx.com/img/FX_Networks_-_...   \n",
       "1    http://static-media.fxx.com/img/FX_Networks_-_...   \n",
       "2    http://static-media.fxx.com/img/FX_Networks_-_...   \n",
       "3    http://static-media.fxx.com/img/FX_Networks_-_...   \n",
       "4    http://static-media.fxx.com/img/FX_Networks_-_...   \n",
       "..                                                 ...   \n",
       "595  http://static-media.fxx.com/img/FX_Networks_-_...   \n",
       "596  http://static-media.fxx.com/img/FX_Networks_-_...   \n",
       "597  http://static-media.fxx.com/img/FX_Networks_-_...   \n",
       "598  http://static-media.fxx.com/img/FX_Networks_-_...   \n",
       "599  http://static-media.fxx.com/img/FX_Networks_-_...   \n",
       "\n",
       "                                           video_url  \n",
       "0    http://www.simpsonsworld.com/video/275197507879  \n",
       "1    http://www.simpsonsworld.com/video/288019523914  \n",
       "2    http://www.simpsonsworld.com/video/260539459671  \n",
       "3    http://www.simpsonsworld.com/video/260537411822  \n",
       "4    http://www.simpsonsworld.com/video/260539459670  \n",
       "..                                               ...  \n",
       "595  http://www.simpsonsworld.com/video/230541891832  \n",
       "596  http://www.simpsonsworld.com/video/230597187582  \n",
       "597  http://www.simpsonsworld.com/video/221688899646  \n",
       "598  http://www.simpsonsworld.com/video/310529091639  \n",
       "599  http://www.simpsonsworld.com/video/310257731892  \n",
       "\n",
       "[600 rows x 13 columns]"
      ]
     },
     "execution_count": 3,
     "metadata": {},
     "output_type": "execute_result"
    }
   ],
   "source": [
    "df"
   ]
  },
  {
   "cell_type": "code",
   "execution_count": 4,
   "id": "c58d80a6",
   "metadata": {},
   "outputs": [
    {
     "data": {
      "text/html": [
       "<div>\n",
       "<style scoped>\n",
       "    .dataframe tbody tr th:only-of-type {\n",
       "        vertical-align: middle;\n",
       "    }\n",
       "\n",
       "    .dataframe tbody tr th {\n",
       "        vertical-align: top;\n",
       "    }\n",
       "\n",
       "    .dataframe thead th {\n",
       "        text-align: right;\n",
       "    }\n",
       "</style>\n",
       "<table border=\"1\" class=\"dataframe\">\n",
       "  <thead>\n",
       "    <tr style=\"text-align: right;\">\n",
       "      <th></th>\n",
       "      <th>id</th>\n",
       "      <th>season</th>\n",
       "      <th>number_in_season</th>\n",
       "      <th>number_in_series</th>\n",
       "      <th>us_viewers_in_millions</th>\n",
       "      <th>views</th>\n",
       "      <th>imdb_rating</th>\n",
       "      <th>imdb_votes</th>\n",
       "    </tr>\n",
       "  </thead>\n",
       "  <tbody>\n",
       "    <tr>\n",
       "      <th>count</th>\n",
       "      <td>600.000000</td>\n",
       "      <td>600.000000</td>\n",
       "      <td>600.000000</td>\n",
       "      <td>600.000000</td>\n",
       "      <td>594.000000</td>\n",
       "      <td>596.000000</td>\n",
       "      <td>597.000000</td>\n",
       "      <td>597.000000</td>\n",
       "    </tr>\n",
       "    <tr>\n",
       "      <th>mean</th>\n",
       "      <td>300.500000</td>\n",
       "      <td>14.100000</td>\n",
       "      <td>11.585000</td>\n",
       "      <td>300.500000</td>\n",
       "      <td>11.842795</td>\n",
       "      <td>48759.377517</td>\n",
       "      <td>7.386097</td>\n",
       "      <td>832.365159</td>\n",
       "    </tr>\n",
       "    <tr>\n",
       "      <th>std</th>\n",
       "      <td>173.349358</td>\n",
       "      <td>7.755444</td>\n",
       "      <td>6.549881</td>\n",
       "      <td>173.349358</td>\n",
       "      <td>6.414218</td>\n",
       "      <td>17751.308464</td>\n",
       "      <td>0.732439</td>\n",
       "      <td>396.117937</td>\n",
       "    </tr>\n",
       "    <tr>\n",
       "      <th>min</th>\n",
       "      <td>1.000000</td>\n",
       "      <td>1.000000</td>\n",
       "      <td>1.000000</td>\n",
       "      <td>1.000000</td>\n",
       "      <td>2.320000</td>\n",
       "      <td>144.000000</td>\n",
       "      <td>4.500000</td>\n",
       "      <td>104.000000</td>\n",
       "    </tr>\n",
       "    <tr>\n",
       "      <th>25%</th>\n",
       "      <td>150.750000</td>\n",
       "      <td>7.000000</td>\n",
       "      <td>6.000000</td>\n",
       "      <td>150.750000</td>\n",
       "      <td>7.055000</td>\n",
       "      <td>41301.750000</td>\n",
       "      <td>6.900000</td>\n",
       "      <td>560.000000</td>\n",
       "    </tr>\n",
       "    <tr>\n",
       "      <th>50%</th>\n",
       "      <td>300.500000</td>\n",
       "      <td>14.000000</td>\n",
       "      <td>11.000000</td>\n",
       "      <td>300.500000</td>\n",
       "      <td>10.300000</td>\n",
       "      <td>46036.000000</td>\n",
       "      <td>7.300000</td>\n",
       "      <td>697.000000</td>\n",
       "    </tr>\n",
       "    <tr>\n",
       "      <th>75%</th>\n",
       "      <td>450.250000</td>\n",
       "      <td>21.000000</td>\n",
       "      <td>17.000000</td>\n",
       "      <td>450.250000</td>\n",
       "      <td>15.250000</td>\n",
       "      <td>57593.750000</td>\n",
       "      <td>8.000000</td>\n",
       "      <td>1095.000000</td>\n",
       "    </tr>\n",
       "    <tr>\n",
       "      <th>max</th>\n",
       "      <td>600.000000</td>\n",
       "      <td>28.000000</td>\n",
       "      <td>25.000000</td>\n",
       "      <td>600.000000</td>\n",
       "      <td>33.600000</td>\n",
       "      <td>171408.000000</td>\n",
       "      <td>9.200000</td>\n",
       "      <td>3734.000000</td>\n",
       "    </tr>\n",
       "  </tbody>\n",
       "</table>\n",
       "</div>"
      ],
      "text/plain": [
       "               id      season  number_in_season  number_in_series  \\\n",
       "count  600.000000  600.000000        600.000000        600.000000   \n",
       "mean   300.500000   14.100000         11.585000        300.500000   \n",
       "std    173.349358    7.755444          6.549881        173.349358   \n",
       "min      1.000000    1.000000          1.000000          1.000000   \n",
       "25%    150.750000    7.000000          6.000000        150.750000   \n",
       "50%    300.500000   14.000000         11.000000        300.500000   \n",
       "75%    450.250000   21.000000         17.000000        450.250000   \n",
       "max    600.000000   28.000000         25.000000        600.000000   \n",
       "\n",
       "       us_viewers_in_millions          views  imdb_rating   imdb_votes  \n",
       "count              594.000000     596.000000   597.000000   597.000000  \n",
       "mean                11.842795   48759.377517     7.386097   832.365159  \n",
       "std                  6.414218   17751.308464     0.732439   396.117937  \n",
       "min                  2.320000     144.000000     4.500000   104.000000  \n",
       "25%                  7.055000   41301.750000     6.900000   560.000000  \n",
       "50%                 10.300000   46036.000000     7.300000   697.000000  \n",
       "75%                 15.250000   57593.750000     8.000000  1095.000000  \n",
       "max                 33.600000  171408.000000     9.200000  3734.000000  "
      ]
     },
     "execution_count": 4,
     "metadata": {},
     "output_type": "execute_result"
    }
   ],
   "source": [
    "df.describe()"
   ]
  },
  {
   "cell_type": "code",
   "execution_count": 5,
   "id": "370752f5",
   "metadata": {},
   "outputs": [
    {
     "data": {
      "text/plain": [
       "<AxesSubplot:xlabel='imdb_rating'>"
      ]
     },
     "execution_count": 5,
     "metadata": {},
     "output_type": "execute_result"
    },
    {
     "data": {
      "image/png": "[encoded data removed]",
      "text/plain": [
       "<Figure size 432x288 with 1 Axes>"
      ]
     },
     "metadata": {
      "needs_background": "light"
     },
     "output_type": "display_data"
    }
   ],
   "source": [
    "sns.boxplot(x=\"imdb_rating\",data=df)"
   ]
  },
  {
   "cell_type": "code",
   "execution_count": 6,
   "id": "41f266de",
   "metadata": {},
   "outputs": [
    {
     "data": {
      "text/plain": [
       "{'whiskers': [<matplotlib.lines.Line2D at 0x171b7015400>,\n",
       "  <matplotlib.lines.Line2D at 0x171b7015760>],\n",
       " 'caps': [<matplotlib.lines.Line2D at 0x171b7015a60>,\n",
       "  <matplotlib.lines.Line2D at 0x171b7015dc0>],\n",
       " 'boxes': [<matplotlib.lines.Line2D at 0x171b70150a0>],\n",
       " 'medians': [<matplotlib.lines.Line2D at 0x171b7022160>],\n",
       " 'fliers': [<matplotlib.lines.Line2D at 0x171b70224c0>],\n",
       " 'means': []}"
      ]
     },
     "execution_count": 6,
     "metadata": {},
     "output_type": "execute_result"
    },
    {
     "data": {
      "image/png": "[encoded data removed]",
      "text/plain": [
       "<Figure size 432x288 with 1 Axes>"
      ]
     },
     "metadata": {
      "needs_background": "light"
     },
     "output_type": "display_data"
    }
   ],
   "source": [
    "plt.boxplot(df[\"imdb_rating\"])"
   ]
  },
  {
   "cell_type": "code",
   "execution_count": 7,
   "id": "e4277876",
   "metadata": {},
   "outputs": [
    {
     "data": {
      "text/plain": [
       "id                          540.10\n",
       "season                       25.00\n",
       "number_in_season             21.00\n",
       "number_in_series            540.10\n",
       "us_viewers_in_millions       21.77\n",
       "views                     68884.50\n",
       "imdb_rating                   8.40\n",
       "imdb_votes                 1358.40\n",
       "Name: 0.9, dtype: float64"
      ]
     },
     "execution_count": 7,
     "metadata": {},
     "output_type": "execute_result"
    }
   ],
   "source": [
    "df.quantile(0.90)"
   ]
  },
  {
   "cell_type": "code",
   "execution_count": 8,
   "id": "cdce70f1",
   "metadata": {},
   "outputs": [
    {
     "data": {
      "text/plain": [
       "8.4"
      ]
     },
     "execution_count": 8,
     "metadata": {},
     "output_type": "execute_result"
    }
   ],
   "source": [
    "df[\"imdb_rating\"].quantile(0.90)"
   ]
  },
  {
   "cell_type": "code",
   "execution_count": 9,
   "id": "3d4e6541",
   "metadata": {},
   "outputs": [],
   "source": [
    "df[\"imdb_rating\"]=np.where(df[\"imdb_rating\"]>8.4,8.4,df[\"imdb_rating\"])"
   ]
  },
  {
   "cell_type": "code",
   "execution_count": 10,
   "id": "6d124d2c",
   "metadata": {},
   "outputs": [
    {
     "data": {
      "text/plain": [
       "<AxesSubplot:xlabel='imdb_rating'>"
      ]
     },
     "execution_count": 10,
     "metadata": {},
     "output_type": "execute_result"
    },
    {
     "data": {
      "image/png": "[encoded data removed]",
      "text/plain": [
       "<Figure size 432x288 with 1 Axes>"
      ]
     },
     "metadata": {
      "needs_background": "light"
     },
     "output_type": "display_data"
    }
   ],
   "source": [
    "sns.boxenplot(x=\"imdb_rating\",data=df)"
   ]
  },
  {
   "cell_type": "code",
   "execution_count": 11,
   "id": "b1aa5e85",
   "metadata": {},
   "outputs": [
    {
     "data": {
      "text/plain": [
       "<AxesSubplot:xlabel='imdb_rating'>"
      ]
     },
     "execution_count": 11,
     "metadata": {},
     "output_type": "execute_result"
    },
    {
     "data": {
      "image/png": "[encoded data removed]",
      "text/plain": [
       "<Figure size 432x288 with 1 Axes>"
      ]
     },
     "metadata": {
      "needs_background": "light"
     },
     "output_type": "display_data"
    }
   ],
   "source": [
    "sns.boxplot(x=\"imdb_rating\",data=df)"
   ]
  },
  {
   "cell_type": "code",
   "execution_count": 12,
   "id": "350afcc7",
   "metadata": {},
   "outputs": [
    {
     "data": {
      "text/plain": [
       "6.5"
      ]
     },
     "execution_count": 12,
     "metadata": {},
     "output_type": "execute_result"
    }
   ],
   "source": [
    "df[\"imdb_rating\"].quantile(0.10)"
   ]
  },
  {
   "cell_type": "code",
   "execution_count": 13,
   "id": "7cb91743",
   "metadata": {},
   "outputs": [],
   "source": [
    "df[\"imdb_rating\"]=np.where(df[\"imdb_rating\"]<6.5,6.5,df[\"imdb_rating\"])"
   ]
  },
  {
   "cell_type": "code",
   "execution_count": 14,
   "id": "52893b9d",
   "metadata": {},
   "outputs": [
    {
     "data": {
      "text/plain": [
       "<AxesSubplot:xlabel='imdb_rating'>"
      ]
     },
     "execution_count": 14,
     "metadata": {},
     "output_type": "execute_result"
    },
    {
     "data": {
      "image/png": "[encoded data removed]",
      "text/plain": [
       "<Figure size 432x288 with 1 Axes>"
      ]
     },
     "metadata": {
      "needs_background": "light"
     },
     "output_type": "display_data"
    }
   ],
   "source": [
    "sns.boxplot(x=\"imdb_rating\",data=df)"
   ]
  },
  {
   "cell_type": "code",
   "execution_count": 15,
   "id": "1f23fc06",
   "metadata": {},
   "outputs": [
    {
     "data": {
      "text/plain": [
       "0.2777013173299801"
      ]
     },
     "execution_count": 15,
     "metadata": {},
     "output_type": "execute_result"
    }
   ],
   "source": [
    "df[\"imdb_rating\"].skew()"
   ]
  },
  {
   "cell_type": "code",
   "execution_count": 16,
   "id": "7b3126fc",
   "metadata": {},
   "outputs": [
    {
     "data": {
      "text/plain": [
       "count    597.000000\n",
       "mean       7.382747\n",
       "std        0.625992\n",
       "min        6.500000\n",
       "25%        6.900000\n",
       "50%        7.300000\n",
       "75%        8.000000\n",
       "max        8.400000\n",
       "Name: imdb_rating, dtype: float64"
      ]
     },
     "execution_count": 16,
     "metadata": {},
     "output_type": "execute_result"
    }
   ],
   "source": [
    "df[\"imdb_rating\"].describe()"
   ]
  },
  {
   "cell_type": "code",
   "execution_count": 17,
   "id": "6884e739",
   "metadata": {},
   "outputs": [
    {
     "name": "stderr",
     "output_type": "stream",
     "text": [
      "C:\\Users\\csaya\\anaconda3\\lib\\site-packages\\seaborn\\_decorators.py:36: FutureWarning: Pass the following variable as a keyword arg: x. From version 0.12, the only valid positional argument will be `data`, and passing other arguments without an explicit keyword will result in an error or misinterpretation.\n",
      "  warnings.warn(\n"
     ]
    },
    {
     "data": {
      "text/plain": [
       "<AxesSubplot:xlabel='imdb_votes'>"
      ]
     },
     "execution_count": 17,
     "metadata": {},
     "output_type": "execute_result"
    },
    {
     "data": {
      "image/png": "[encoded data removed]",
      "text/plain": [
       "<Figure size 432x288 with 1 Axes>"
      ]
     },
     "metadata": {
      "needs_background": "light"
     },
     "output_type": "display_data"
    }
   ],
   "source": [
    "sns.boxplot(df[\"imdb_votes\"])"
   ]
  },
  {
   "cell_type": "code",
   "execution_count": 18,
   "id": "9904b9a7",
   "metadata": {},
   "outputs": [
    {
     "data": {
      "text/plain": [
       "697.0"
      ]
     },
     "execution_count": 18,
     "metadata": {},
     "output_type": "execute_result"
    }
   ],
   "source": [
    "df[\"imdb_votes\"].quantile(0.50)"
   ]
  },
  {
   "cell_type": "code",
   "execution_count": 19,
   "id": "3a1ff1e8",
   "metadata": {},
   "outputs": [
    {
     "data": {
      "text/plain": [
       "697.0"
      ]
     },
     "execution_count": 19,
     "metadata": {},
     "output_type": "execute_result"
    }
   ],
   "source": [
    "df[\"imdb_votes\"].median()"
   ]
  },
  {
   "cell_type": "code",
   "execution_count": 20,
   "id": "99e79484",
   "metadata": {},
   "outputs": [],
   "source": [
    "df[\"imdb_votes\"]=np.where(df[\"imdb_votes\"]>df[\"imdb_votes\"].quantile(0.95),697,df[\"imdb_votes\"])"
   ]
  },
  {
   "cell_type": "code",
   "execution_count": 21,
   "id": "15b66dcc",
   "metadata": {},
   "outputs": [
    {
     "data": {
      "text/plain": [
       "<AxesSubplot:xlabel='imdb_votes'>"
      ]
     },
     "execution_count": 21,
     "metadata": {},
     "output_type": "execute_result"
    },
    {
     "data": {
      "image/png": "[encoded data removed]",
      "text/plain": [
       "<Figure size 432x288 with 1 Axes>"
      ]
     },
     "metadata": {
      "needs_background": "light"
     },
     "output_type": "display_data"
    }
   ],
   "source": [
    "sns.boxplot(x=\"imdb_votes\",data=df)"
   ]
  },
  {
   "cell_type": "code",
   "execution_count": 22,
   "id": "0e70277d",
   "metadata": {},
   "outputs": [
    {
     "data": {
      "text/plain": [
       "0.6557365716620684"
      ]
     },
     "execution_count": 22,
     "metadata": {},
     "output_type": "execute_result"
    }
   ],
   "source": [
    "df[\"imdb_votes\"].skew()"
   ]
  },
  {
   "cell_type": "code",
   "execution_count": 23,
   "id": "90597aaa",
   "metadata": {},
   "outputs": [
    {
     "data": {
      "text/html": [
       "<div>\n",
       "<style scoped>\n",
       "    .dataframe tbody tr th:only-of-type {\n",
       "        vertical-align: middle;\n",
       "    }\n",
       "\n",
       "    .dataframe tbody tr th {\n",
       "        vertical-align: top;\n",
       "    }\n",
       "\n",
       "    .dataframe thead th {\n",
       "        text-align: right;\n",
       "    }\n",
       "</style>\n",
       "<table border=\"1\" class=\"dataframe\">\n",
       "  <thead>\n",
       "    <tr style=\"text-align: right;\">\n",
       "      <th></th>\n",
       "      <th>id</th>\n",
       "      <th>season</th>\n",
       "      <th>number_in_season</th>\n",
       "      <th>number_in_series</th>\n",
       "      <th>us_viewers_in_millions</th>\n",
       "      <th>views</th>\n",
       "      <th>imdb_rating</th>\n",
       "      <th>imdb_votes</th>\n",
       "    </tr>\n",
       "  </thead>\n",
       "  <tbody>\n",
       "    <tr>\n",
       "      <th>count</th>\n",
       "      <td>600.000000</td>\n",
       "      <td>600.000000</td>\n",
       "      <td>600.000000</td>\n",
       "      <td>600.000000</td>\n",
       "      <td>594.000000</td>\n",
       "      <td>596.000000</td>\n",
       "      <td>597.000000</td>\n",
       "      <td>597.000000</td>\n",
       "    </tr>\n",
       "    <tr>\n",
       "      <th>mean</th>\n",
       "      <td>300.500000</td>\n",
       "      <td>14.100000</td>\n",
       "      <td>11.585000</td>\n",
       "      <td>300.500000</td>\n",
       "      <td>11.842795</td>\n",
       "      <td>48759.377517</td>\n",
       "      <td>7.382747</td>\n",
       "      <td>774.911223</td>\n",
       "    </tr>\n",
       "    <tr>\n",
       "      <th>std</th>\n",
       "      <td>173.349358</td>\n",
       "      <td>7.755444</td>\n",
       "      <td>6.549881</td>\n",
       "      <td>173.349358</td>\n",
       "      <td>6.414218</td>\n",
       "      <td>17751.308464</td>\n",
       "      <td>0.625992</td>\n",
       "      <td>308.686453</td>\n",
       "    </tr>\n",
       "    <tr>\n",
       "      <th>min</th>\n",
       "      <td>1.000000</td>\n",
       "      <td>1.000000</td>\n",
       "      <td>1.000000</td>\n",
       "      <td>1.000000</td>\n",
       "      <td>2.320000</td>\n",
       "      <td>144.000000</td>\n",
       "      <td>6.500000</td>\n",
       "      <td>104.000000</td>\n",
       "    </tr>\n",
       "    <tr>\n",
       "      <th>25%</th>\n",
       "      <td>150.750000</td>\n",
       "      <td>7.000000</td>\n",
       "      <td>6.000000</td>\n",
       "      <td>150.750000</td>\n",
       "      <td>7.055000</td>\n",
       "      <td>41301.750000</td>\n",
       "      <td>6.900000</td>\n",
       "      <td>560.000000</td>\n",
       "    </tr>\n",
       "    <tr>\n",
       "      <th>50%</th>\n",
       "      <td>300.500000</td>\n",
       "      <td>14.000000</td>\n",
       "      <td>11.000000</td>\n",
       "      <td>300.500000</td>\n",
       "      <td>10.300000</td>\n",
       "      <td>46036.000000</td>\n",
       "      <td>7.300000</td>\n",
       "      <td>697.000000</td>\n",
       "    </tr>\n",
       "    <tr>\n",
       "      <th>75%</th>\n",
       "      <td>450.250000</td>\n",
       "      <td>21.000000</td>\n",
       "      <td>17.000000</td>\n",
       "      <td>450.250000</td>\n",
       "      <td>15.250000</td>\n",
       "      <td>57593.750000</td>\n",
       "      <td>8.000000</td>\n",
       "      <td>1006.000000</td>\n",
       "    </tr>\n",
       "    <tr>\n",
       "      <th>max</th>\n",
       "      <td>600.000000</td>\n",
       "      <td>28.000000</td>\n",
       "      <td>25.000000</td>\n",
       "      <td>600.000000</td>\n",
       "      <td>33.600000</td>\n",
       "      <td>171408.000000</td>\n",
       "      <td>8.400000</td>\n",
       "      <td>1588.000000</td>\n",
       "    </tr>\n",
       "  </tbody>\n",
       "</table>\n",
       "</div>"
      ],
      "text/plain": [
       "               id      season  number_in_season  number_in_series  \\\n",
       "count  600.000000  600.000000        600.000000        600.000000   \n",
       "mean   300.500000   14.100000         11.585000        300.500000   \n",
       "std    173.349358    7.755444          6.549881        173.349358   \n",
       "min      1.000000    1.000000          1.000000          1.000000   \n",
       "25%    150.750000    7.000000          6.000000        150.750000   \n",
       "50%    300.500000   14.000000         11.000000        300.500000   \n",
       "75%    450.250000   21.000000         17.000000        450.250000   \n",
       "max    600.000000   28.000000         25.000000        600.000000   \n",
       "\n",
       "       us_viewers_in_millions          views  imdb_rating   imdb_votes  \n",
       "count              594.000000     596.000000   597.000000   597.000000  \n",
       "mean                11.842795   48759.377517     7.382747   774.911223  \n",
       "std                  6.414218   17751.308464     0.625992   308.686453  \n",
       "min                  2.320000     144.000000     6.500000   104.000000  \n",
       "25%                  7.055000   41301.750000     6.900000   560.000000  \n",
       "50%                 10.300000   46036.000000     7.300000   697.000000  \n",
       "75%                 15.250000   57593.750000     8.000000  1006.000000  \n",
       "max                 33.600000  171408.000000     8.400000  1588.000000  "
      ]
     },
     "execution_count": 23,
     "metadata": {},
     "output_type": "execute_result"
    }
   ],
   "source": [
    "df.describe()"
   ]
  },
  {
   "cell_type": "code",
   "execution_count": 24,
   "id": "d8694535",
   "metadata": {},
   "outputs": [
    {
     "data": {
      "text/plain": [
       "0.88326557283507"
      ]
     },
     "execution_count": 24,
     "metadata": {},
     "output_type": "execute_result"
    }
   ],
   "source": [
    "df[\"us_viewers_in_millions\"].skew()"
   ]
  },
  {
   "cell_type": "code",
   "execution_count": 25,
   "id": "a55192e4",
   "metadata": {},
   "outputs": [
    {
     "data": {
      "text/plain": [
       "<AxesSubplot:xlabel='us_viewers_in_millions'>"
      ]
     },
     "execution_count": 25,
     "metadata": {},
     "output_type": "execute_result"
    },
    {
     "data": {
      "image/png": "[encoded data removed]",
      "text/plain": [
       "<Figure size 432x288 with 1 Axes>"
      ]
     },
     "metadata": {
      "needs_background": "light"
     },
     "output_type": "display_data"
    }
   ],
   "source": [
    "sns.boxplot(x=\"us_viewers_in_millions\",data=df)"
   ]
  },
  {
   "cell_type": "code",
   "execution_count": 26,
   "id": "2419ce01",
   "metadata": {},
   "outputs": [],
   "source": [
    "df[\"us_viewers_in_millions\"]=np.where(df[\"us_viewers_in_millions\"]>df[\"us_viewers_in_millions\"].quantile(0.95),df[\"us_viewers_in_millions\"].median(),df[\"us_viewers_in_millions\"])"
   ]
  },
  {
   "cell_type": "code",
   "execution_count": 27,
   "id": "de5a0510",
   "metadata": {},
   "outputs": [
    {
     "data": {
      "text/plain": [
       "0.6829253189186787"
      ]
     },
     "execution_count": 27,
     "metadata": {},
     "output_type": "execute_result"
    }
   ],
   "source": [
    "df[\"us_viewers_in_millions\"].skew()"
   ]
  },
  {
   "cell_type": "code",
   "execution_count": 28,
   "id": "67ae3b6f",
   "metadata": {},
   "outputs": [
    {
     "data": {
      "text/plain": [
       "<AxesSubplot:xlabel='us_viewers_in_millions'>"
      ]
     },
     "execution_count": 28,
     "metadata": {},
     "output_type": "execute_result"
    },
    {
     "data": {
      "image/png": "[encoded data removed]",
      "text/plain": [
       "<Figure size 432x288 with 1 Axes>"
      ]
     },
     "metadata": {
      "needs_background": "light"
     },
     "output_type": "display_data"
    }
   ],
   "source": [
    "sns.boxplot(x=\"us_viewers_in_millions\",data=df)"
   ]
  },
  {
   "cell_type": "code",
   "execution_count": 29,
   "id": "f95854da",
   "metadata": {},
   "outputs": [
    {
     "data": {
      "text/plain": [
       "<AxesSubplot:xlabel='views'>"
      ]
     },
     "execution_count": 29,
     "metadata": {},
     "output_type": "execute_result"
    },
    {
     "data": {
      "image/png": "[encoded data removed]",
      "text/plain": [
       "<Figure size 432x288 with 1 Axes>"
      ]
     },
     "metadata": {
      "needs_background": "light"
     },
     "output_type": "display_data"
    }
   ],
   "source": [
    "sns.boxplot(x=\"views\",data=df)"
   ]
  },
  {
   "cell_type": "code",
   "execution_count": 30,
   "id": "07ecaea8",
   "metadata": {},
   "outputs": [
    {
     "data": {
      "text/plain": [
       "0.5758100156934227"
      ]
     },
     "execution_count": 30,
     "metadata": {},
     "output_type": "execute_result"
    }
   ],
   "source": [
    "df[\"views\"].skew()"
   ]
  },
  {
   "cell_type": "code",
   "execution_count": 32,
   "id": "af312089",
   "metadata": {},
   "outputs": [
    {
     "data": {
      "text/plain": [
       "74488.5"
      ]
     },
     "execution_count": 32,
     "metadata": {},
     "output_type": "execute_result"
    }
   ],
   "source": [
    "df[\"views\"].quantile(0.95)"
   ]
  },
  {
   "cell_type": "code",
   "execution_count": 33,
   "id": "bf825676",
   "metadata": {},
   "outputs": [
    {
     "data": {
      "text/plain": [
       "21095.25"
      ]
     },
     "execution_count": 33,
     "metadata": {},
     "output_type": "execute_result"
    }
   ],
   "source": [
    "df[\"views\"].quantile(0.05)"
   ]
  },
  {
   "cell_type": "code",
   "execution_count": 36,
   "id": "43334014",
   "metadata": {},
   "outputs": [],
   "source": [
    "index=df[(df[\"views\"]<=21095)|(df[\"views\"]>=74488)].index"
   ]
  },
  {
   "cell_type": "code",
   "execution_count": 37,
   "id": "0a490a8f",
   "metadata": {},
   "outputs": [],
   "source": [
    "df.drop(index,inplace=True)"
   ]
  },
  {
   "cell_type": "code",
   "execution_count": 38,
   "id": "5fe74115",
   "metadata": {},
   "outputs": [
    {
     "data": {
      "text/plain": [
       "count      536.000000\n",
       "mean     48892.667910\n",
       "std      10598.833125\n",
       "min      21214.000000\n",
       "25%      41732.750000\n",
       "50%      46036.000000\n",
       "75%      56005.250000\n",
       "max      74427.000000\n",
       "Name: views, dtype: float64"
      ]
     },
     "execution_count": 38,
     "metadata": {},
     "output_type": "execute_result"
    }
   ],
   "source": [
    "df[\"views\"].describe()"
   ]
  },
  {
   "cell_type": "code",
   "execution_count": 39,
   "id": "b8bf1857",
   "metadata": {},
   "outputs": [
    {
     "data": {
      "text/plain": [
       "0.4301470127839864"
      ]
     },
     "execution_count": 39,
     "metadata": {},
     "output_type": "execute_result"
    }
   ],
   "source": [
    "df[\"views\"].skew()"
   ]
  },
  {
   "cell_type": "code",
   "execution_count": 40,
   "id": "8016260e",
   "metadata": {},
   "outputs": [
    {
     "data": {
      "text/plain": [
       "<AxesSubplot:xlabel='views'>"
      ]
     },
     "execution_count": 40,
     "metadata": {},
     "output_type": "execute_result"
    },
    {
     "data": {
      "image/png": "[encoded data removed]",
      "text/plain": [
       "<Figure size 432x288 with 1 Axes>"
      ]
     },
     "metadata": {
      "needs_background": "light"
     },
     "output_type": "display_data"
    }
   ],
   "source": [
    "sns.boxplot(x=\"views\",data=df)"
   ]
  },
  {
   "cell_type": "code",
   "execution_count": null,
   "id": "1186e661",
   "metadata": {},
   "outputs": [],
   "source": []
  }
 ],
 "metadata": {
  "kernelspec": {
   "display_name": "Python 3",
   "language": "python",
   "name": "python3"
  },
  "language_info": {
   "codemirror_mode": {
    "name": "ipython",
    "version": 3
   },
   "file_extension": ".py",
   "mimetype": "text/x-python",
   "name": "python",
   "nbconvert_exporter": "python",
   "pygments_lexer": "ipython3",
   "version": "3.8.8"
  }
 },
 "nbformat": 4,
 "nbformat_minor": 5
}
