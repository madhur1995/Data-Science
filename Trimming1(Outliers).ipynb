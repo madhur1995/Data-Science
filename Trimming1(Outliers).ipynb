{
 "cells": [
  {
   "cell_type": "code",
   "execution_count": 17,
   "id": "360a6fdf-b844-4e51-926d-143bd2c3d001",
   "metadata": {},
   "outputs": [],
   "source": [
    "import pandas as pd\n",
    "import seaborn as sns"
   ]
  },
  {
   "cell_type": "code",
   "execution_count": 15,
   "id": "fffdcae4-542a-4b40-a517-97e4fffada7d",
   "metadata": {},
   "outputs": [
    {
     "data": {
      "text/html": [
       "<div>\n",
       "<style scoped>\n",
       "    .dataframe tbody tr th:only-of-type {\n",
       "        vertical-align: middle;\n",
       "    }\n",
       "\n",
       "    .dataframe tbody tr th {\n",
       "        vertical-align: top;\n",
       "    }\n",
       "\n",
       "    .dataframe thead th {\n",
       "        text-align: right;\n",
       "    }\n",
       "</style>\n",
       "<table border=\"1\" class=\"dataframe\">\n",
       "  <thead>\n",
       "    <tr style=\"text-align: right;\">\n",
       "      <th></th>\n",
       "      <th>id</th>\n",
       "      <th>title</th>\n",
       "      <th>original_air_date</th>\n",
       "      <th>production_code</th>\n",
       "      <th>season</th>\n",
       "      <th>number_in_season</th>\n",
       "      <th>number_in_series</th>\n",
       "      <th>us_viewers_in_millions</th>\n",
       "      <th>views</th>\n",
       "      <th>imdb_rating</th>\n",
       "      <th>imdb_votes</th>\n",
       "      <th>image_url</th>\n",
       "      <th>video_url</th>\n",
       "    </tr>\n",
       "  </thead>\n",
       "  <tbody>\n",
       "    <tr>\n",
       "      <th>0</th>\n",
       "      <td>10</td>\n",
       "      <td>Homer's Night Out</td>\n",
       "      <td>1990-03-25</td>\n",
       "      <td>7G10</td>\n",
       "      <td>1</td>\n",
       "      <td>10</td>\n",
       "      <td>10</td>\n",
       "      <td>30.30</td>\n",
       "      <td>50816.0</td>\n",
       "      <td>7.4</td>\n",
       "      <td>1511.0</td>\n",
       "      <td>http://static-media.fxx.com/img/FX_Networks_-_...</td>\n",
       "      <td>http://www.simpsonsworld.com/video/275197507879</td>\n",
       "    </tr>\n",
       "    <tr>\n",
       "      <th>1</th>\n",
       "      <td>12</td>\n",
       "      <td>Krusty Gets Busted</td>\n",
       "      <td>1990-04-29</td>\n",
       "      <td>7G12</td>\n",
       "      <td>1</td>\n",
       "      <td>12</td>\n",
       "      <td>12</td>\n",
       "      <td>30.40</td>\n",
       "      <td>62561.0</td>\n",
       "      <td>8.3</td>\n",
       "      <td>1716.0</td>\n",
       "      <td>http://static-media.fxx.com/img/FX_Networks_-_...</td>\n",
       "      <td>http://www.simpsonsworld.com/video/288019523914</td>\n",
       "    </tr>\n",
       "    <tr>\n",
       "      <th>2</th>\n",
       "      <td>14</td>\n",
       "      <td>Bart Gets an \"F\"</td>\n",
       "      <td>1990-10-11</td>\n",
       "      <td>7F03</td>\n",
       "      <td>2</td>\n",
       "      <td>1</td>\n",
       "      <td>14</td>\n",
       "      <td>33.60</td>\n",
       "      <td>59575.0</td>\n",
       "      <td>8.2</td>\n",
       "      <td>1638.0</td>\n",
       "      <td>http://static-media.fxx.com/img/FX_Networks_-_...</td>\n",
       "      <td>http://www.simpsonsworld.com/video/260539459671</td>\n",
       "    </tr>\n",
       "    <tr>\n",
       "      <th>3</th>\n",
       "      <td>17</td>\n",
       "      <td>Two Cars in Every Garage and Three Eyes on Eve...</td>\n",
       "      <td>1990-11-01</td>\n",
       "      <td>7F01</td>\n",
       "      <td>2</td>\n",
       "      <td>4</td>\n",
       "      <td>17</td>\n",
       "      <td>26.10</td>\n",
       "      <td>64959.0</td>\n",
       "      <td>8.1</td>\n",
       "      <td>1457.0</td>\n",
       "      <td>http://static-media.fxx.com/img/FX_Networks_-_...</td>\n",
       "      <td>http://www.simpsonsworld.com/video/260537411822</td>\n",
       "    </tr>\n",
       "    <tr>\n",
       "      <th>4</th>\n",
       "      <td>19</td>\n",
       "      <td>Dead Putting Society</td>\n",
       "      <td>1990-11-15</td>\n",
       "      <td>7F08</td>\n",
       "      <td>2</td>\n",
       "      <td>6</td>\n",
       "      <td>19</td>\n",
       "      <td>25.40</td>\n",
       "      <td>50691.0</td>\n",
       "      <td>8.0</td>\n",
       "      <td>1366.0</td>\n",
       "      <td>http://static-media.fxx.com/img/FX_Networks_-_...</td>\n",
       "      <td>http://www.simpsonsworld.com/video/260539459670</td>\n",
       "    </tr>\n",
       "    <tr>\n",
       "      <th>...</th>\n",
       "      <td>...</td>\n",
       "      <td>...</td>\n",
       "      <td>...</td>\n",
       "      <td>...</td>\n",
       "      <td>...</td>\n",
       "      <td>...</td>\n",
       "      <td>...</td>\n",
       "      <td>...</td>\n",
       "      <td>...</td>\n",
       "      <td>...</td>\n",
       "      <td>...</td>\n",
       "      <td>...</td>\n",
       "      <td>...</td>\n",
       "    </tr>\n",
       "    <tr>\n",
       "      <th>595</th>\n",
       "      <td>500</td>\n",
       "      <td>At Long Last Leave</td>\n",
       "      <td>2012-02-19</td>\n",
       "      <td>PABF07</td>\n",
       "      <td>23</td>\n",
       "      <td>14</td>\n",
       "      <td>500</td>\n",
       "      <td>5.77</td>\n",
       "      <td>45226.0</td>\n",
       "      <td>7.0</td>\n",
       "      <td>580.0</td>\n",
       "      <td>http://static-media.fxx.com/img/FX_Networks_-_...</td>\n",
       "      <td>http://www.simpsonsworld.com/video/230541891832</td>\n",
       "    </tr>\n",
       "    <tr>\n",
       "      <th>596</th>\n",
       "      <td>502</td>\n",
       "      <td>How I Wet Your Mother</td>\n",
       "      <td>2012-03-11</td>\n",
       "      <td>PABF08</td>\n",
       "      <td>23</td>\n",
       "      <td>16</td>\n",
       "      <td>502</td>\n",
       "      <td>4.97</td>\n",
       "      <td>44818.0</td>\n",
       "      <td>7.3</td>\n",
       "      <td>541.0</td>\n",
       "      <td>http://static-media.fxx.com/img/FX_Networks_-_...</td>\n",
       "      <td>http://www.simpsonsworld.com/video/230597187582</td>\n",
       "    </tr>\n",
       "    <tr>\n",
       "      <th>597</th>\n",
       "      <td>511</td>\n",
       "      <td>Adventures in Baby-Getting</td>\n",
       "      <td>2012-11-04</td>\n",
       "      <td>PABF18</td>\n",
       "      <td>24</td>\n",
       "      <td>3</td>\n",
       "      <td>511</td>\n",
       "      <td>5.65</td>\n",
       "      <td>39687.0</td>\n",
       "      <td>6.9</td>\n",
       "      <td>460.0</td>\n",
       "      <td>http://static-media.fxx.com/img/FX_Networks_-_...</td>\n",
       "      <td>http://www.simpsonsworld.com/video/221688899646</td>\n",
       "    </tr>\n",
       "    <tr>\n",
       "      <th>598</th>\n",
       "      <td>542</td>\n",
       "      <td>Diggs</td>\n",
       "      <td>2014-03-09</td>\n",
       "      <td>SABF08</td>\n",
       "      <td>25</td>\n",
       "      <td>12</td>\n",
       "      <td>542</td>\n",
       "      <td>2.69</td>\n",
       "      <td>39292.0</td>\n",
       "      <td>6.4</td>\n",
       "      <td>473.0</td>\n",
       "      <td>http://static-media.fxx.com/img/FX_Networks_-_...</td>\n",
       "      <td>http://www.simpsonsworld.com/video/310529091639</td>\n",
       "    </tr>\n",
       "    <tr>\n",
       "      <th>599</th>\n",
       "      <td>548</td>\n",
       "      <td>Days of Future Future</td>\n",
       "      <td>2014-04-13</td>\n",
       "      <td>SABF13</td>\n",
       "      <td>25</td>\n",
       "      <td>18</td>\n",
       "      <td>548</td>\n",
       "      <td>3.64</td>\n",
       "      <td>55742.0</td>\n",
       "      <td>7.0</td>\n",
       "      <td>504.0</td>\n",
       "      <td>http://static-media.fxx.com/img/FX_Networks_-_...</td>\n",
       "      <td>http://www.simpsonsworld.com/video/310257731892</td>\n",
       "    </tr>\n",
       "  </tbody>\n",
       "</table>\n",
       "<p>600 rows × 13 columns</p>\n",
       "</div>"
      ],
      "text/plain": [
       "      id                                              title original_air_date  \\\n",
       "0     10                                  Homer's Night Out        1990-03-25   \n",
       "1     12                                 Krusty Gets Busted        1990-04-29   \n",
       "2     14                                   Bart Gets an \"F\"        1990-10-11   \n",
       "3     17  Two Cars in Every Garage and Three Eyes on Eve...        1990-11-01   \n",
       "4     19                               Dead Putting Society        1990-11-15   \n",
       "..   ...                                                ...               ...   \n",
       "595  500                                 At Long Last Leave        2012-02-19   \n",
       "596  502                              How I Wet Your Mother        2012-03-11   \n",
       "597  511                         Adventures in Baby-Getting        2012-11-04   \n",
       "598  542                                              Diggs        2014-03-09   \n",
       "599  548                              Days of Future Future        2014-04-13   \n",
       "\n",
       "    production_code  season  number_in_season  number_in_series  \\\n",
       "0              7G10       1                10                10   \n",
       "1              7G12       1                12                12   \n",
       "2              7F03       2                 1                14   \n",
       "3              7F01       2                 4                17   \n",
       "4              7F08       2                 6                19   \n",
       "..              ...     ...               ...               ...   \n",
       "595          PABF07      23                14               500   \n",
       "596          PABF08      23                16               502   \n",
       "597          PABF18      24                 3               511   \n",
       "598          SABF08      25                12               542   \n",
       "599          SABF13      25                18               548   \n",
       "\n",
       "     us_viewers_in_millions    views  imdb_rating  imdb_votes  \\\n",
       "0                     30.30  50816.0          7.4      1511.0   \n",
       "1                     30.40  62561.0          8.3      1716.0   \n",
       "2                     33.60  59575.0          8.2      1638.0   \n",
       "3                     26.10  64959.0          8.1      1457.0   \n",
       "4                     25.40  50691.0          8.0      1366.0   \n",
       "..                      ...      ...          ...         ...   \n",
       "595                    5.77  45226.0          7.0       580.0   \n",
       "596                    4.97  44818.0          7.3       541.0   \n",
       "597                    5.65  39687.0          6.9       460.0   \n",
       "598                    2.69  39292.0          6.4       473.0   \n",
       "599                    3.64  55742.0          7.0       504.0   \n",
       "\n",
       "                                             image_url  \\\n",
       "0    http://static-media.fxx.com/img/FX_Networks_-_...   \n",
       "1    http://static-media.fxx.com/img/FX_Networks_-_...   \n",
       "2    http://static-media.fxx.com/img/FX_Networks_-_...   \n",
       "3    http://static-media.fxx.com/img/FX_Networks_-_...   \n",
       "4    http://static-media.fxx.com/img/FX_Networks_-_...   \n",
       "..                                                 ...   \n",
       "595  http://static-media.fxx.com/img/FX_Networks_-_...   \n",
       "596  http://static-media.fxx.com/img/FX_Networks_-_...   \n",
       "597  http://static-media.fxx.com/img/FX_Networks_-_...   \n",
       "598  http://static-media.fxx.com/img/FX_Networks_-_...   \n",
       "599  http://static-media.fxx.com/img/FX_Networks_-_...   \n",
       "\n",
       "                                           video_url  \n",
       "0    http://www.simpsonsworld.com/video/275197507879  \n",
       "1    http://www.simpsonsworld.com/video/288019523914  \n",
       "2    http://www.simpsonsworld.com/video/260539459671  \n",
       "3    http://www.simpsonsworld.com/video/260537411822  \n",
       "4    http://www.simpsonsworld.com/video/260539459670  \n",
       "..                                               ...  \n",
       "595  http://www.simpsonsworld.com/video/230541891832  \n",
       "596  http://www.simpsonsworld.com/video/230597187582  \n",
       "597  http://www.simpsonsworld.com/video/221688899646  \n",
       "598  http://www.simpsonsworld.com/video/310529091639  \n",
       "599  http://www.simpsonsworld.com/video/310257731892  \n",
       "\n",
       "[600 rows x 13 columns]"
      ]
     },
     "execution_count": 15,
     "metadata": {},
     "output_type": "execute_result"
    }
   ],
   "source": [
    "df=pd.read_csv(\"data.csv\")\n",
    "df"
   ]
  },
  {
   "cell_type": "code",
   "execution_count": 18,
   "id": "521e514b-bb86-4dc3-ad10-e07c5d2ac34b",
   "metadata": {},
   "outputs": [
    {
     "data": {
      "text/plain": [
       "<AxesSubplot:xlabel='views'>"
      ]
     },
     "execution_count": 18,
     "metadata": {},
     "output_type": "execute_result"
    },
    {
     "data": {
      "image/png": "[encoded data removed]",
      "text/plain": [
       "<Figure size 432x288 with 1 Axes>"
      ]
     },
     "metadata": {
      "needs_background": "light"
     },
     "output_type": "display_data"
    }
   ],
   "source": [
    "sns.boxplot(data=df,x=df[\"views\"])"
   ]
  },
  {
   "cell_type": "code",
   "execution_count": 27,
   "id": "97170dde-d818-4c6b-99c5-621f00b4f42a",
   "metadata": {},
   "outputs": [
    {
     "data": {
      "text/plain": [
       "0.4301470127839864"
      ]
     },
     "execution_count": 27,
     "metadata": {},
     "output_type": "execute_result"
    }
   ],
   "source": [
    "df[\"views\"].skew()"
   ]
  },
  {
   "cell_type": "code",
   "execution_count": 20,
   "id": "74665e36-6e9a-4336-89bd-4eef6cec8bde",
   "metadata": {},
   "outputs": [],
   "source": [
    "index=df[(df[\"views\"]<=21095)|(df[\"views\"]>=74488)].index\n",
    "df.drop(index,inplace=True)"
   ]
  },
  {
   "cell_type": "code",
   "execution_count": 21,
   "id": "f9d41369-0a76-4490-8de3-71447fa353cf",
   "metadata": {},
   "outputs": [
    {
     "data": {
      "text/plain": [
       "0.4301470127839864"
      ]
     },
     "execution_count": 21,
     "metadata": {},
     "output_type": "execute_result"
    }
   ],
   "source": [
    "df[\"views\"].skew()"
   ]
  },
  {
   "cell_type": "code",
   "execution_count": 22,
   "id": "514e895a-d648-442e-909b-cd24ad25abf2",
   "metadata": {},
   "outputs": [
    {
     "data": {
      "text/plain": [
       "<AxesSubplot:xlabel='views'>"
      ]
     },
     "execution_count": 22,
     "metadata": {},
     "output_type": "execute_result"
    },
    {
     "data": {
      "image/png": "[encoded data removed]",
      "text/plain": [
       "<Figure size 432x288 with 1 Axes>"
      ]
     },
     "metadata": {
      "needs_background": "light"
     },
     "output_type": "display_data"
    }
   ],
   "source": [
    "sns.boxplot(data=df,x=df[\"views\"])"
   ]
  },
  {
   "cell_type": "code",
   "execution_count": null,
   "id": "65545be4-d093-4d1c-b313-f0bcdbb3d4e0",
   "metadata": {},
   "outputs": [],
   "source": []
  }
 ],
 "metadata": {
  "kernelspec": {
   "display_name": "Python",
   "language": "python",
   "name": "conda-env-python-py"
  },
  "language_info": {
   "codemirror_mode": {
    "name": "ipython",
    "version": 3
   },
   "file_extension": ".py",
   "mimetype": "text/x-python",
   "name": "python",
   "nbconvert_exporter": "python",
   "pygments_lexer": "ipython3",
   "version": "3.6.13"
  }
 },
 "nbformat": 4,
 "nbformat_minor": 5
}
