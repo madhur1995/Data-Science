{
 "cells": [
  {
   "cell_type": "code",
   "execution_count": 1,
   "metadata": {},
   "outputs": [
    {
     "data": {
      "text/plain": [
       "'C:\\\\Users\\\\Kumar Sundram\\\\Desktop\\\\LetsUpgrade_Python_Aug'"
      ]
     },
     "execution_count": 1,
     "metadata": {},
     "output_type": "execute_result"
    }
   ],
   "source": [
    "import os\n",
    "os.getcwd()"
   ]
  },
  {
   "cell_type": "code",
   "execution_count": 2,
   "metadata": {},
   "outputs": [
    {
     "data": {
      "text/plain": [
       "'C:\\\\Users\\\\Kumar Sundram\\\\Desktop\\\\LetsUpgrade_Python_Aug'"
      ]
     },
     "execution_count": 2,
     "metadata": {},
     "output_type": "execute_result"
    }
   ],
   "source": [
    "os.chdir(\"C:\\\\Users\\\\Kumar Sundram\\\\Desktop\\\\LetsUpgrade_Python_Aug\")\n",
    "os.getcwd()"
   ]
  },
  {
   "cell_type": "code",
   "execution_count": 3,
   "metadata": {},
   "outputs": [],
   "source": [
    "import numpy as np # maths and array\n",
    "import pandas as pd # importing or exporting and manipulation\n",
    "import matplotlib.pyplot as plt # visualization\n",
    "import seaborn as sns # vis + stats\n",
    "# %matplotlib inline - will explain you the difference "
   ]
  },
  {
   "cell_type": "code",
   "execution_count": 4,
   "metadata": {},
   "outputs": [
    {
     "data": {
      "text/html": [
       "<div>\n",
       "<style scoped>\n",
       "    .dataframe tbody tr th:only-of-type {\n",
       "        vertical-align: middle;\n",
       "    }\n",
       "\n",
       "    .dataframe tbody tr th {\n",
       "        vertical-align: top;\n",
       "    }\n",
       "\n",
       "    .dataframe thead th {\n",
       "        text-align: right;\n",
       "    }\n",
       "</style>\n",
       "<table border=\"1\" class=\"dataframe\">\n",
       "  <thead>\n",
       "    <tr style=\"text-align: right;\">\n",
       "      <th></th>\n",
       "      <th>Employee Id</th>\n",
       "      <th>First Name</th>\n",
       "      <th>Last Name</th>\n",
       "      <th>Department</th>\n",
       "      <th>Age</th>\n",
       "      <th>Experience</th>\n",
       "      <th>Salary</th>\n",
       "    </tr>\n",
       "  </thead>\n",
       "  <tbody>\n",
       "    <tr>\n",
       "      <th>0</th>\n",
       "      <td>1</td>\n",
       "      <td>Joy</td>\n",
       "      <td>Bass</td>\n",
       "      <td>Sales and Marketing</td>\n",
       "      <td>28.0</td>\n",
       "      <td>3.0</td>\n",
       "      <td>32889</td>\n",
       "    </tr>\n",
       "    <tr>\n",
       "      <th>1</th>\n",
       "      <td>2</td>\n",
       "      <td>Sheila</td>\n",
       "      <td>Garza</td>\n",
       "      <td>Sales and Marketing</td>\n",
       "      <td>22.0</td>\n",
       "      <td>1.0</td>\n",
       "      <td>15944</td>\n",
       "    </tr>\n",
       "    <tr>\n",
       "      <th>2</th>\n",
       "      <td>3</td>\n",
       "      <td>John</td>\n",
       "      <td>Bryant</td>\n",
       "      <td>Customer Relations</td>\n",
       "      <td>22.0</td>\n",
       "      <td>1.0</td>\n",
       "      <td>40343</td>\n",
       "    </tr>\n",
       "    <tr>\n",
       "      <th>3</th>\n",
       "      <td>4</td>\n",
       "      <td>Christian</td>\n",
       "      <td>Farley</td>\n",
       "      <td>Customer Relations</td>\n",
       "      <td>22.0</td>\n",
       "      <td>1.0</td>\n",
       "      <td>19018</td>\n",
       "    </tr>\n",
       "    <tr>\n",
       "      <th>4</th>\n",
       "      <td>5</td>\n",
       "      <td>Colorado</td>\n",
       "      <td>Bowen</td>\n",
       "      <td>Accounting</td>\n",
       "      <td>27.0</td>\n",
       "      <td>0.0</td>\n",
       "      <td>24795</td>\n",
       "    </tr>\n",
       "  </tbody>\n",
       "</table>\n",
       "</div>"
      ],
      "text/plain": [
       "   Employee Id First Name Last Name           Department   Age  Experience  \\\n",
       "0            1        Joy      Bass  Sales and Marketing  28.0         3.0   \n",
       "1            2     Sheila     Garza  Sales and Marketing  22.0         1.0   \n",
       "2            3       John    Bryant   Customer Relations  22.0         1.0   \n",
       "3            4  Christian    Farley   Customer Relations  22.0         1.0   \n",
       "4            5   Colorado     Bowen           Accounting  27.0         0.0   \n",
       "\n",
       "   Salary  \n",
       "0   32889  \n",
       "1   15944  \n",
       "2   40343  \n",
       "3   19018  \n",
       "4   24795  "
      ]
     },
     "execution_count": 4,
     "metadata": {},
     "output_type": "execute_result"
    }
   ],
   "source": [
    "# import the dataset \n",
    "\n",
    "dataset = pd.read_excel(\"Employee_Data.xls\")\n",
    "\n",
    "dataset.head()"
   ]
  },
  {
   "cell_type": "code",
   "execution_count": 5,
   "metadata": {},
   "outputs": [
    {
     "name": "stdout",
     "output_type": "stream",
     "text": [
      "(100, 7)\n"
     ]
    }
   ],
   "source": [
    "print(dataset.shape)"
   ]
  },
  {
   "cell_type": "code",
   "execution_count": 6,
   "metadata": {},
   "outputs": [
    {
     "data": {
      "text/plain": [
       "Employee Id     0\n",
       "First Name      0\n",
       "Last Name       0\n",
       "Department     19\n",
       "Age            18\n",
       "Experience     10\n",
       "Salary          0\n",
       "dtype: int64"
      ]
     },
     "execution_count": 6,
     "metadata": {},
     "output_type": "execute_result"
    }
   ],
   "source": [
    "dataset.isnull().sum()"
   ]
  },
  {
   "cell_type": "code",
   "execution_count": 7,
   "metadata": {},
   "outputs": [
    {
     "data": {
      "text/plain": [
       "Employee Id    False\n",
       "First Name     False\n",
       "Last Name      False\n",
       "Department      True\n",
       "Age             True\n",
       "Experience      True\n",
       "Salary         False\n",
       "dtype: bool"
      ]
     },
     "execution_count": 7,
     "metadata": {},
     "output_type": "execute_result"
    }
   ],
   "source": [
    "dataset.isnull().any()"
   ]
  },
  {
   "cell_type": "code",
   "execution_count": 8,
   "metadata": {},
   "outputs": [
    {
     "name": "stdout",
     "output_type": "stream",
     "text": [
      "<class 'pandas.core.frame.DataFrame'>\n",
      "RangeIndex: 100 entries, 0 to 99\n",
      "Data columns (total 7 columns):\n",
      " #   Column       Non-Null Count  Dtype  \n",
      "---  ------       --------------  -----  \n",
      " 0   Employee Id  100 non-null    int64  \n",
      " 1   First Name   100 non-null    object \n",
      " 2   Last Name    100 non-null    object \n",
      " 3   Department   81 non-null     object \n",
      " 4   Age          82 non-null     float64\n",
      " 5   Experience   90 non-null     float64\n",
      " 6   Salary       100 non-null    int64  \n",
      "dtypes: float64(2), int64(2), object(3)\n",
      "memory usage: 5.6+ KB\n"
     ]
    }
   ],
   "source": [
    "dataset.info()"
   ]
  },
  {
   "cell_type": "code",
   "execution_count": 9,
   "metadata": {},
   "outputs": [
    {
     "data": {
      "text/plain": [
       "Department\n",
       "Accounting             27\n",
       "Customer Relations     24\n",
       "Sales and Marketing    30\n",
       "dtype: int64"
      ]
     },
     "execution_count": 9,
     "metadata": {},
     "output_type": "execute_result"
    }
   ],
   "source": [
    "dataset.groupby('Department').size()"
   ]
  },
  {
   "cell_type": "code",
   "execution_count": 10,
   "metadata": {},
   "outputs": [],
   "source": [
    "dataset['Department'] = dataset['Department'].fillna('Sales and Marketing')"
   ]
  },
  {
   "cell_type": "code",
   "execution_count": 11,
   "metadata": {},
   "outputs": [
    {
     "name": "stdout",
     "output_type": "stream",
     "text": [
      "<class 'pandas.core.frame.DataFrame'>\n",
      "RangeIndex: 100 entries, 0 to 99\n",
      "Data columns (total 7 columns):\n",
      " #   Column       Non-Null Count  Dtype  \n",
      "---  ------       --------------  -----  \n",
      " 0   Employee Id  100 non-null    int64  \n",
      " 1   First Name   100 non-null    object \n",
      " 2   Last Name    100 non-null    object \n",
      " 3   Department   100 non-null    object \n",
      " 4   Age          82 non-null     float64\n",
      " 5   Experience   90 non-null     float64\n",
      " 6   Salary       100 non-null    int64  \n",
      "dtypes: float64(2), int64(2), object(3)\n",
      "memory usage: 5.6+ KB\n"
     ]
    }
   ],
   "source": [
    "dataset.info()"
   ]
  },
  {
   "cell_type": "code",
   "execution_count": 12,
   "metadata": {},
   "outputs": [
    {
     "data": {
      "text/plain": [
       "<AxesSubplot:ylabel='Age'>"
      ]
     },
     "execution_count": 12,
     "metadata": {},
     "output_type": "execute_result"
    },
    {
     "data": {
      "image/png": "[encoded data removed]",
      "text/plain": [
       "<Figure size 432x288 with 1 Axes>"
      ]
     },
     "metadata": {
      "needs_background": "light"
     },
     "output_type": "display_data"
    }
   ],
   "source": [
    "sns.boxplot(y='Age', data=dataset)"
   ]
  },
  {
   "cell_type": "code",
   "execution_count": 13,
   "metadata": {},
   "outputs": [
    {
     "data": {
      "text/plain": [
       "<AxesSubplot:ylabel='Experience'>"
      ]
     },
     "execution_count": 13,
     "metadata": {},
     "output_type": "execute_result"
    },
    {
     "data": {
      "image/png": "[encoded data removed]",
      "text/plain": [
       "<Figure size 432x288 with 1 Axes>"
      ]
     },
     "metadata": {
      "needs_background": "light"
     },
     "output_type": "display_data"
    }
   ],
   "source": [
    "sns.boxplot(y='Experience', data=dataset)"
   ]
  },
  {
   "cell_type": "code",
   "execution_count": 14,
   "metadata": {},
   "outputs": [],
   "source": [
    "dataset['Age'] = dataset['Age'].fillna(dataset['Age'].mean())\n",
    "# dataset['Age'] = dataset['Age'].fillna(dataset['Age'].median())"
   ]
  },
  {
   "cell_type": "code",
   "execution_count": 15,
   "metadata": {},
   "outputs": [],
   "source": [
    "dataset['Experience'] = dataset['Experience'].fillna(dataset['Experience'].mean())"
   ]
  },
  {
   "cell_type": "code",
   "execution_count": 16,
   "metadata": {},
   "outputs": [
    {
     "name": "stdout",
     "output_type": "stream",
     "text": [
      "<class 'pandas.core.frame.DataFrame'>\n",
      "RangeIndex: 100 entries, 0 to 99\n",
      "Data columns (total 7 columns):\n",
      " #   Column       Non-Null Count  Dtype  \n",
      "---  ------       --------------  -----  \n",
      " 0   Employee Id  100 non-null    int64  \n",
      " 1   First Name   100 non-null    object \n",
      " 2   Last Name    100 non-null    object \n",
      " 3   Department   100 non-null    object \n",
      " 4   Age          100 non-null    float64\n",
      " 5   Experience   100 non-null    float64\n",
      " 6   Salary       100 non-null    int64  \n",
      "dtypes: float64(2), int64(2), object(3)\n",
      "memory usage: 5.6+ KB\n"
     ]
    }
   ],
   "source": [
    "dataset.info()"
   ]
  },
  {
   "cell_type": "code",
   "execution_count": 17,
   "metadata": {},
   "outputs": [
    {
     "data": {
      "text/html": [
       "<div>\n",
       "<style scoped>\n",
       "    .dataframe tbody tr th:only-of-type {\n",
       "        vertical-align: middle;\n",
       "    }\n",
       "\n",
       "    .dataframe tbody tr th {\n",
       "        vertical-align: top;\n",
       "    }\n",
       "\n",
       "    .dataframe thead th {\n",
       "        text-align: right;\n",
       "    }\n",
       "</style>\n",
       "<table border=\"1\" class=\"dataframe\">\n",
       "  <thead>\n",
       "    <tr style=\"text-align: right;\">\n",
       "      <th></th>\n",
       "      <th>Employee Id</th>\n",
       "      <th>First Name</th>\n",
       "      <th>Last Name</th>\n",
       "      <th>Department</th>\n",
       "      <th>Age</th>\n",
       "      <th>Experience</th>\n",
       "      <th>Salary</th>\n",
       "    </tr>\n",
       "  </thead>\n",
       "  <tbody>\n",
       "    <tr>\n",
       "      <th>0</th>\n",
       "      <td>1</td>\n",
       "      <td>Joy</td>\n",
       "      <td>Bass</td>\n",
       "      <td>Sales and Marketing</td>\n",
       "      <td>28.0</td>\n",
       "      <td>3.0</td>\n",
       "      <td>32889</td>\n",
       "    </tr>\n",
       "    <tr>\n",
       "      <th>1</th>\n",
       "      <td>2</td>\n",
       "      <td>Sheila</td>\n",
       "      <td>Garza</td>\n",
       "      <td>Sales and Marketing</td>\n",
       "      <td>22.0</td>\n",
       "      <td>1.0</td>\n",
       "      <td>15944</td>\n",
       "    </tr>\n",
       "    <tr>\n",
       "      <th>2</th>\n",
       "      <td>3</td>\n",
       "      <td>John</td>\n",
       "      <td>Bryant</td>\n",
       "      <td>Customer Relations</td>\n",
       "      <td>22.0</td>\n",
       "      <td>1.0</td>\n",
       "      <td>40343</td>\n",
       "    </tr>\n",
       "    <tr>\n",
       "      <th>3</th>\n",
       "      <td>4</td>\n",
       "      <td>Christian</td>\n",
       "      <td>Farley</td>\n",
       "      <td>Customer Relations</td>\n",
       "      <td>22.0</td>\n",
       "      <td>1.0</td>\n",
       "      <td>19018</td>\n",
       "    </tr>\n",
       "    <tr>\n",
       "      <th>4</th>\n",
       "      <td>5</td>\n",
       "      <td>Colorado</td>\n",
       "      <td>Bowen</td>\n",
       "      <td>Accounting</td>\n",
       "      <td>27.0</td>\n",
       "      <td>0.0</td>\n",
       "      <td>24795</td>\n",
       "    </tr>\n",
       "  </tbody>\n",
       "</table>\n",
       "</div>"
      ],
      "text/plain": [
       "   Employee Id First Name Last Name           Department   Age  Experience  \\\n",
       "0            1        Joy      Bass  Sales and Marketing  28.0         3.0   \n",
       "1            2     Sheila     Garza  Sales and Marketing  22.0         1.0   \n",
       "2            3       John    Bryant   Customer Relations  22.0         1.0   \n",
       "3            4  Christian    Farley   Customer Relations  22.0         1.0   \n",
       "4            5   Colorado     Bowen           Accounting  27.0         0.0   \n",
       "\n",
       "   Salary  \n",
       "0   32889  \n",
       "1   15944  \n",
       "2   40343  \n",
       "3   19018  \n",
       "4   24795  "
      ]
     },
     "execution_count": 17,
     "metadata": {},
     "output_type": "execute_result"
    }
   ],
   "source": [
    "dataset.head()"
   ]
  },
  {
   "cell_type": "code",
   "execution_count": 18,
   "metadata": {},
   "outputs": [],
   "source": [
    "# iloc : slice the dataset \n",
    "dataset1 = dataset.iloc[:,3:]"
   ]
  },
  {
   "cell_type": "code",
   "execution_count": 19,
   "metadata": {},
   "outputs": [
    {
     "data": {
      "text/html": [
       "<div>\n",
       "<style scoped>\n",
       "    .dataframe tbody tr th:only-of-type {\n",
       "        vertical-align: middle;\n",
       "    }\n",
       "\n",
       "    .dataframe tbody tr th {\n",
       "        vertical-align: top;\n",
       "    }\n",
       "\n",
       "    .dataframe thead th {\n",
       "        text-align: right;\n",
       "    }\n",
       "</style>\n",
       "<table border=\"1\" class=\"dataframe\">\n",
       "  <thead>\n",
       "    <tr style=\"text-align: right;\">\n",
       "      <th></th>\n",
       "      <th>Department</th>\n",
       "      <th>Age</th>\n",
       "      <th>Experience</th>\n",
       "      <th>Salary</th>\n",
       "    </tr>\n",
       "  </thead>\n",
       "  <tbody>\n",
       "    <tr>\n",
       "      <th>0</th>\n",
       "      <td>Sales and Marketing</td>\n",
       "      <td>28.0</td>\n",
       "      <td>3.0</td>\n",
       "      <td>32889</td>\n",
       "    </tr>\n",
       "    <tr>\n",
       "      <th>1</th>\n",
       "      <td>Sales and Marketing</td>\n",
       "      <td>22.0</td>\n",
       "      <td>1.0</td>\n",
       "      <td>15944</td>\n",
       "    </tr>\n",
       "    <tr>\n",
       "      <th>2</th>\n",
       "      <td>Customer Relations</td>\n",
       "      <td>22.0</td>\n",
       "      <td>1.0</td>\n",
       "      <td>40343</td>\n",
       "    </tr>\n",
       "    <tr>\n",
       "      <th>3</th>\n",
       "      <td>Customer Relations</td>\n",
       "      <td>22.0</td>\n",
       "      <td>1.0</td>\n",
       "      <td>19018</td>\n",
       "    </tr>\n",
       "    <tr>\n",
       "      <th>4</th>\n",
       "      <td>Accounting</td>\n",
       "      <td>27.0</td>\n",
       "      <td>0.0</td>\n",
       "      <td>24795</td>\n",
       "    </tr>\n",
       "  </tbody>\n",
       "</table>\n",
       "</div>"
      ],
      "text/plain": [
       "            Department   Age  Experience  Salary\n",
       "0  Sales and Marketing  28.0         3.0   32889\n",
       "1  Sales and Marketing  22.0         1.0   15944\n",
       "2   Customer Relations  22.0         1.0   40343\n",
       "3   Customer Relations  22.0         1.0   19018\n",
       "4           Accounting  27.0         0.0   24795"
      ]
     },
     "execution_count": 19,
     "metadata": {},
     "output_type": "execute_result"
    }
   ],
   "source": [
    "dataset1.head()"
   ]
  },
  {
   "cell_type": "markdown",
   "metadata": {},
   "source": [
    "# Encoding and one hot encoder concept"
   ]
  },
  {
   "cell_type": "code",
   "execution_count": 20,
   "metadata": {},
   "outputs": [],
   "source": [
    "dataset1['Department'] = dataset1['Department'].astype('category')\n",
    "dataset1['Department'] = dataset1['Department'].cat.codes\n",
    "dataset2 = pd.get_dummies(dataset1, columns=['Department'])"
   ]
  },
  {
   "cell_type": "code",
   "execution_count": 21,
   "metadata": {},
   "outputs": [
    {
     "data": {
      "text/html": [
       "<div>\n",
       "<style scoped>\n",
       "    .dataframe tbody tr th:only-of-type {\n",
       "        vertical-align: middle;\n",
       "    }\n",
       "\n",
       "    .dataframe tbody tr th {\n",
       "        vertical-align: top;\n",
       "    }\n",
       "\n",
       "    .dataframe thead th {\n",
       "        text-align: right;\n",
       "    }\n",
       "</style>\n",
       "<table border=\"1\" class=\"dataframe\">\n",
       "  <thead>\n",
       "    <tr style=\"text-align: right;\">\n",
       "      <th></th>\n",
       "      <th>Age</th>\n",
       "      <th>Experience</th>\n",
       "      <th>Salary</th>\n",
       "      <th>Department_0</th>\n",
       "      <th>Department_1</th>\n",
       "      <th>Department_2</th>\n",
       "    </tr>\n",
       "  </thead>\n",
       "  <tbody>\n",
       "    <tr>\n",
       "      <th>0</th>\n",
       "      <td>28.0</td>\n",
       "      <td>3.0</td>\n",
       "      <td>32889</td>\n",
       "      <td>0</td>\n",
       "      <td>0</td>\n",
       "      <td>1</td>\n",
       "    </tr>\n",
       "    <tr>\n",
       "      <th>1</th>\n",
       "      <td>22.0</td>\n",
       "      <td>1.0</td>\n",
       "      <td>15944</td>\n",
       "      <td>0</td>\n",
       "      <td>0</td>\n",
       "      <td>1</td>\n",
       "    </tr>\n",
       "    <tr>\n",
       "      <th>2</th>\n",
       "      <td>22.0</td>\n",
       "      <td>1.0</td>\n",
       "      <td>40343</td>\n",
       "      <td>0</td>\n",
       "      <td>1</td>\n",
       "      <td>0</td>\n",
       "    </tr>\n",
       "    <tr>\n",
       "      <th>3</th>\n",
       "      <td>22.0</td>\n",
       "      <td>1.0</td>\n",
       "      <td>19018</td>\n",
       "      <td>0</td>\n",
       "      <td>1</td>\n",
       "      <td>0</td>\n",
       "    </tr>\n",
       "    <tr>\n",
       "      <th>4</th>\n",
       "      <td>27.0</td>\n",
       "      <td>0.0</td>\n",
       "      <td>24795</td>\n",
       "      <td>1</td>\n",
       "      <td>0</td>\n",
       "      <td>0</td>\n",
       "    </tr>\n",
       "    <tr>\n",
       "      <th>...</th>\n",
       "      <td>...</td>\n",
       "      <td>...</td>\n",
       "      <td>...</td>\n",
       "      <td>...</td>\n",
       "      <td>...</td>\n",
       "      <td>...</td>\n",
       "    </tr>\n",
       "    <tr>\n",
       "      <th>95</th>\n",
       "      <td>47.0</td>\n",
       "      <td>22.0</td>\n",
       "      <td>79077</td>\n",
       "      <td>0</td>\n",
       "      <td>0</td>\n",
       "      <td>1</td>\n",
       "    </tr>\n",
       "    <tr>\n",
       "      <th>96</th>\n",
       "      <td>46.0</td>\n",
       "      <td>20.0</td>\n",
       "      <td>81187</td>\n",
       "      <td>0</td>\n",
       "      <td>0</td>\n",
       "      <td>1</td>\n",
       "    </tr>\n",
       "    <tr>\n",
       "      <th>97</th>\n",
       "      <td>44.0</td>\n",
       "      <td>18.0</td>\n",
       "      <td>83847</td>\n",
       "      <td>0</td>\n",
       "      <td>1</td>\n",
       "      <td>0</td>\n",
       "    </tr>\n",
       "    <tr>\n",
       "      <th>98</th>\n",
       "      <td>47.0</td>\n",
       "      <td>22.0</td>\n",
       "      <td>89158</td>\n",
       "      <td>0</td>\n",
       "      <td>1</td>\n",
       "      <td>0</td>\n",
       "    </tr>\n",
       "    <tr>\n",
       "      <th>99</th>\n",
       "      <td>44.0</td>\n",
       "      <td>21.0</td>\n",
       "      <td>91645</td>\n",
       "      <td>1</td>\n",
       "      <td>0</td>\n",
       "      <td>0</td>\n",
       "    </tr>\n",
       "  </tbody>\n",
       "</table>\n",
       "<p>100 rows × 6 columns</p>\n",
       "</div>"
      ],
      "text/plain": [
       "     Age  Experience  Salary  Department_0  Department_1  Department_2\n",
       "0   28.0         3.0   32889             0             0             1\n",
       "1   22.0         1.0   15944             0             0             1\n",
       "2   22.0         1.0   40343             0             1             0\n",
       "3   22.0         1.0   19018             0             1             0\n",
       "4   27.0         0.0   24795             1             0             0\n",
       "..   ...         ...     ...           ...           ...           ...\n",
       "95  47.0        22.0   79077             0             0             1\n",
       "96  46.0        20.0   81187             0             0             1\n",
       "97  44.0        18.0   83847             0             1             0\n",
       "98  47.0        22.0   89158             0             1             0\n",
       "99  44.0        21.0   91645             1             0             0\n",
       "\n",
       "[100 rows x 6 columns]"
      ]
     },
     "execution_count": 21,
     "metadata": {},
     "output_type": "execute_result"
    }
   ],
   "source": [
    "dataset2"
   ]
  },
  {
   "cell_type": "code",
   "execution_count": 22,
   "metadata": {},
   "outputs": [],
   "source": [
    "dataset2 = dataset2.iloc[:,0:5]"
   ]
  },
  {
   "cell_type": "code",
   "execution_count": 23,
   "metadata": {},
   "outputs": [
    {
     "data": {
      "text/html": [
       "<div>\n",
       "<style scoped>\n",
       "    .dataframe tbody tr th:only-of-type {\n",
       "        vertical-align: middle;\n",
       "    }\n",
       "\n",
       "    .dataframe tbody tr th {\n",
       "        vertical-align: top;\n",
       "    }\n",
       "\n",
       "    .dataframe thead th {\n",
       "        text-align: right;\n",
       "    }\n",
       "</style>\n",
       "<table border=\"1\" class=\"dataframe\">\n",
       "  <thead>\n",
       "    <tr style=\"text-align: right;\">\n",
       "      <th></th>\n",
       "      <th>Age</th>\n",
       "      <th>Experience</th>\n",
       "      <th>Salary</th>\n",
       "      <th>Department_0</th>\n",
       "      <th>Department_1</th>\n",
       "    </tr>\n",
       "  </thead>\n",
       "  <tbody>\n",
       "    <tr>\n",
       "      <th>0</th>\n",
       "      <td>28.0</td>\n",
       "      <td>3.0</td>\n",
       "      <td>32889</td>\n",
       "      <td>0</td>\n",
       "      <td>0</td>\n",
       "    </tr>\n",
       "    <tr>\n",
       "      <th>1</th>\n",
       "      <td>22.0</td>\n",
       "      <td>1.0</td>\n",
       "      <td>15944</td>\n",
       "      <td>0</td>\n",
       "      <td>0</td>\n",
       "    </tr>\n",
       "    <tr>\n",
       "      <th>2</th>\n",
       "      <td>22.0</td>\n",
       "      <td>1.0</td>\n",
       "      <td>40343</td>\n",
       "      <td>0</td>\n",
       "      <td>1</td>\n",
       "    </tr>\n",
       "    <tr>\n",
       "      <th>3</th>\n",
       "      <td>22.0</td>\n",
       "      <td>1.0</td>\n",
       "      <td>19018</td>\n",
       "      <td>0</td>\n",
       "      <td>1</td>\n",
       "    </tr>\n",
       "    <tr>\n",
       "      <th>4</th>\n",
       "      <td>27.0</td>\n",
       "      <td>0.0</td>\n",
       "      <td>24795</td>\n",
       "      <td>1</td>\n",
       "      <td>0</td>\n",
       "    </tr>\n",
       "    <tr>\n",
       "      <th>...</th>\n",
       "      <td>...</td>\n",
       "      <td>...</td>\n",
       "      <td>...</td>\n",
       "      <td>...</td>\n",
       "      <td>...</td>\n",
       "    </tr>\n",
       "    <tr>\n",
       "      <th>95</th>\n",
       "      <td>47.0</td>\n",
       "      <td>22.0</td>\n",
       "      <td>79077</td>\n",
       "      <td>0</td>\n",
       "      <td>0</td>\n",
       "    </tr>\n",
       "    <tr>\n",
       "      <th>96</th>\n",
       "      <td>46.0</td>\n",
       "      <td>20.0</td>\n",
       "      <td>81187</td>\n",
       "      <td>0</td>\n",
       "      <td>0</td>\n",
       "    </tr>\n",
       "    <tr>\n",
       "      <th>97</th>\n",
       "      <td>44.0</td>\n",
       "      <td>18.0</td>\n",
       "      <td>83847</td>\n",
       "      <td>0</td>\n",
       "      <td>1</td>\n",
       "    </tr>\n",
       "    <tr>\n",
       "      <th>98</th>\n",
       "      <td>47.0</td>\n",
       "      <td>22.0</td>\n",
       "      <td>89158</td>\n",
       "      <td>0</td>\n",
       "      <td>1</td>\n",
       "    </tr>\n",
       "    <tr>\n",
       "      <th>99</th>\n",
       "      <td>44.0</td>\n",
       "      <td>21.0</td>\n",
       "      <td>91645</td>\n",
       "      <td>1</td>\n",
       "      <td>0</td>\n",
       "    </tr>\n",
       "  </tbody>\n",
       "</table>\n",
       "<p>100 rows × 5 columns</p>\n",
       "</div>"
      ],
      "text/plain": [
       "     Age  Experience  Salary  Department_0  Department_1\n",
       "0   28.0         3.0   32889             0             0\n",
       "1   22.0         1.0   15944             0             0\n",
       "2   22.0         1.0   40343             0             1\n",
       "3   22.0         1.0   19018             0             1\n",
       "4   27.0         0.0   24795             1             0\n",
       "..   ...         ...     ...           ...           ...\n",
       "95  47.0        22.0   79077             0             0\n",
       "96  46.0        20.0   81187             0             0\n",
       "97  44.0        18.0   83847             0             1\n",
       "98  47.0        22.0   89158             0             1\n",
       "99  44.0        21.0   91645             1             0\n",
       "\n",
       "[100 rows x 5 columns]"
      ]
     },
     "execution_count": 23,
     "metadata": {},
     "output_type": "execute_result"
    }
   ],
   "source": [
    "dataset2"
   ]
  },
  {
   "cell_type": "markdown",
   "metadata": {},
   "source": [
    "# using sklearn package to handle the pre-processing steps"
   ]
  },
  {
   "cell_type": "code",
   "execution_count": 27,
   "metadata": {},
   "outputs": [
    {
     "data": {
      "text/html": [
       "<div>\n",
       "<style scoped>\n",
       "    .dataframe tbody tr th:only-of-type {\n",
       "        vertical-align: middle;\n",
       "    }\n",
       "\n",
       "    .dataframe tbody tr th {\n",
       "        vertical-align: top;\n",
       "    }\n",
       "\n",
       "    .dataframe thead th {\n",
       "        text-align: right;\n",
       "    }\n",
       "</style>\n",
       "<table border=\"1\" class=\"dataframe\">\n",
       "  <thead>\n",
       "    <tr style=\"text-align: right;\">\n",
       "      <th></th>\n",
       "      <th>Employee Id</th>\n",
       "      <th>First Name</th>\n",
       "      <th>Last Name</th>\n",
       "      <th>Department</th>\n",
       "      <th>Age</th>\n",
       "      <th>Experience</th>\n",
       "      <th>Salary</th>\n",
       "    </tr>\n",
       "  </thead>\n",
       "  <tbody>\n",
       "    <tr>\n",
       "      <th>0</th>\n",
       "      <td>1</td>\n",
       "      <td>Joy</td>\n",
       "      <td>Bass</td>\n",
       "      <td>Sales and Marketing</td>\n",
       "      <td>28.0</td>\n",
       "      <td>3.0</td>\n",
       "      <td>32889</td>\n",
       "    </tr>\n",
       "    <tr>\n",
       "      <th>1</th>\n",
       "      <td>2</td>\n",
       "      <td>Sheila</td>\n",
       "      <td>Garza</td>\n",
       "      <td>Sales and Marketing</td>\n",
       "      <td>22.0</td>\n",
       "      <td>1.0</td>\n",
       "      <td>15944</td>\n",
       "    </tr>\n",
       "    <tr>\n",
       "      <th>2</th>\n",
       "      <td>3</td>\n",
       "      <td>John</td>\n",
       "      <td>Bryant</td>\n",
       "      <td>Customer Relations</td>\n",
       "      <td>22.0</td>\n",
       "      <td>1.0</td>\n",
       "      <td>40343</td>\n",
       "    </tr>\n",
       "    <tr>\n",
       "      <th>3</th>\n",
       "      <td>4</td>\n",
       "      <td>Christian</td>\n",
       "      <td>Farley</td>\n",
       "      <td>Customer Relations</td>\n",
       "      <td>22.0</td>\n",
       "      <td>1.0</td>\n",
       "      <td>19018</td>\n",
       "    </tr>\n",
       "    <tr>\n",
       "      <th>4</th>\n",
       "      <td>5</td>\n",
       "      <td>Colorado</td>\n",
       "      <td>Bowen</td>\n",
       "      <td>Accounting</td>\n",
       "      <td>27.0</td>\n",
       "      <td>0.0</td>\n",
       "      <td>24795</td>\n",
       "    </tr>\n",
       "  </tbody>\n",
       "</table>\n",
       "</div>"
      ],
      "text/plain": [
       "   Employee Id First Name Last Name           Department   Age  Experience  \\\n",
       "0            1        Joy      Bass  Sales and Marketing  28.0         3.0   \n",
       "1            2     Sheila     Garza  Sales and Marketing  22.0         1.0   \n",
       "2            3       John    Bryant   Customer Relations  22.0         1.0   \n",
       "3            4  Christian    Farley   Customer Relations  22.0         1.0   \n",
       "4            5   Colorado     Bowen           Accounting  27.0         0.0   \n",
       "\n",
       "   Salary  \n",
       "0   32889  \n",
       "1   15944  \n",
       "2   40343  \n",
       "3   19018  \n",
       "4   24795  "
      ]
     },
     "execution_count": 27,
     "metadata": {},
     "output_type": "execute_result"
    }
   ],
   "source": [
    "mydata = pd.read_excel(\"Employee_Data.xls\")\n",
    "mydata.head()"
   ]
  },
  {
   "cell_type": "code",
   "execution_count": 29,
   "metadata": {},
   "outputs": [
    {
     "data": {
      "text/plain": [
       "Employee Id     0\n",
       "First Name      0\n",
       "Last Name       0\n",
       "Department     19\n",
       "Age            18\n",
       "Experience     10\n",
       "Salary          0\n",
       "dtype: int64"
      ]
     },
     "execution_count": 29,
     "metadata": {},
     "output_type": "execute_result"
    }
   ],
   "source": [
    "mydata.isnull().sum()"
   ]
  },
  {
   "cell_type": "code",
   "execution_count": 31,
   "metadata": {},
   "outputs": [
    {
     "name": "stdout",
     "output_type": "stream",
     "text": [
      "[['Sales and Marketing' 28.0 3.0]\n",
      " ['Sales and Marketing' 22.0 1.0]\n",
      " ['Customer Relations' 22.0 1.0]\n",
      " ['Customer Relations' 22.0 1.0]\n",
      " ['Accounting' 27.0 0.0]\n",
      " ['Accounting' 26.0 5.0]\n",
      " ['Customer Relations' 24.0 6.0]\n",
      " ['Customer Relations' 29.0 2.0]\n",
      " ['Sales and Marketing' 29.0 5.0]\n",
      " ['Customer Relations' 30.0 6.0]\n",
      " ['Accounting' 26.0 5.0]\n",
      " ['Sales and Marketing' 26.0 6.0]\n",
      " ['Accounting' 24.0 5.0]\n",
      " ['Accounting' 22.0 2.0]\n",
      " ['Sales and Marketing' 25.0 3.0]\n",
      " ['Accounting' 25.0 nan]\n",
      " ['Customer Relations' 22.0 nan]\n",
      " ['Accounting' 25.0 nan]\n",
      " ['Accounting' 27.0 nan]\n",
      " [nan 25.0 nan]\n",
      " [nan 22.0 nan]\n",
      " [nan 22.0 nan]\n",
      " [nan 24.0 nan]\n",
      " [nan 27.0 nan]\n",
      " [nan 22.0 nan]\n",
      " [nan 33.0 13.0]\n",
      " [nan 36.0 7.0]\n",
      " [nan 35.0 10.0]\n",
      " [nan 33.0 12.0]\n",
      " [nan 30.0 14.0]\n",
      " [nan 40.0 15.0]\n",
      " [nan 39.0 12.0]\n",
      " [nan nan 9.0]\n",
      " [nan nan 7.0]\n",
      " [nan nan 15.0]\n",
      " [nan nan 11.0]\n",
      " [nan nan 10.0]\n",
      " [nan nan 7.0]\n",
      " ['Sales and Marketing' nan 13.0]\n",
      " ['Sales and Marketing' nan 9.0]\n",
      " ['Customer Relations' nan 8.0]\n",
      " ['Accounting' nan 12.0]\n",
      " ['Accounting' nan 9.0]\n",
      " ['Sales and Marketing' nan 12.0]\n",
      " ['Sales and Marketing' nan 15.0]\n",
      " ['Customer Relations' nan 14.0]\n",
      " ['Sales and Marketing' nan 10.0]\n",
      " ['Customer Relations' nan 8.0]\n",
      " ['Customer Relations' nan 12.0]\n",
      " ['Customer Relations' nan 15.0]\n",
      " ['Sales and Marketing' 38.0 14.0]\n",
      " ['Accounting' 41.0 25.0]\n",
      " ['Customer Relations' 44.0 17.0]\n",
      " ['Accounting' 41.0 17.0]\n",
      " ['Sales and Marketing' 50.0 21.0]\n",
      " ['Sales and Marketing' 47.0 19.0]\n",
      " ['Accounting' 43.0 25.0]\n",
      " ['Customer Relations' 48.0 25.0]\n",
      " ['Accounting' 46.0 22.0]\n",
      " ['Customer Relations' 44.0 16.0]\n",
      " ['Accounting' 42.0 21.0]\n",
      " ['Sales and Marketing' 44.0 19.0]\n",
      " ['Customer Relations' 49.0 16.0]\n",
      " ['Customer Relations' 44.0 18.0]\n",
      " ['Sales and Marketing' 49.0 22.0]\n",
      " ['Accounting' 44.0 17.0]\n",
      " ['Sales and Marketing' 48.0 16.0]\n",
      " ['Customer Relations' 47.0 23.0]\n",
      " ['Customer Relations' 50.0 22.0]\n",
      " ['Sales and Marketing' 42.0 19.0]\n",
      " ['Accounting' 48.0 19.0]\n",
      " ['Customer Relations' 46.0 24.0]\n",
      " ['Sales and Marketing' 42.0 23.0]\n",
      " ['Sales and Marketing' 45.0 22.0]\n",
      " ['Customer Relations' 48.0 17.0]\n",
      " ['Sales and Marketing' 41.0 23.0]\n",
      " ['Sales and Marketing' 49.0 19.0]\n",
      " ['Sales and Marketing' 41.0 22.0]\n",
      " ['Sales and Marketing' 42.0 24.0]\n",
      " ['Accounting' 41.0 22.0]\n",
      " ['Accounting' 45.0 21.0]\n",
      " ['Customer Relations' 43.0 16.0]\n",
      " ['Accounting' 46.0 18.0]\n",
      " ['Sales and Marketing' 47.0 20.0]\n",
      " ['Accounting' 45.0 17.0]\n",
      " ['Sales and Marketing' 42.0 17.0]\n",
      " ['Sales and Marketing' 44.0 21.0]\n",
      " ['Accounting' 45.0 19.0]\n",
      " ['Accounting' 44.0 21.0]\n",
      " ['Customer Relations' 47.0 20.0]\n",
      " ['Sales and Marketing' 44.0 19.0]\n",
      " ['Accounting' 44.0 18.0]\n",
      " ['Sales and Marketing' 41.0 17.0]\n",
      " ['Accounting' 48.0 21.0]\n",
      " ['Accounting' 48.0 22.0]\n",
      " ['Sales and Marketing' 47.0 22.0]\n",
      " ['Sales and Marketing' 46.0 20.0]\n",
      " ['Customer Relations' 44.0 18.0]\n",
      " ['Customer Relations' 47.0 22.0]\n",
      " ['Accounting' 44.0 21.0]]\n",
      "[32889 15944 40343 19018 24795 15387 34117 16099 42105 11891 34687 23549\n",
      " 29110 33435 11830 44065 13266 16631 29886 30464 14943 18632 38183 43093\n",
      " 26573 51228 57902 54233 70010 74683 53867 60117 72055 50013 50118 72318\n",
      " 53828 58362 63391 62983 65939 51715 54250 50462 64418 60164 66528 57278\n",
      " 71607 61222 68388 94704 89493 94310 81615 84306 77452 76904 90798 86261\n",
      " 78332 84881 76528 83524 89258 75431 91870 76708 95222 90802 86277 77330\n",
      " 85286 90930 88833 95908 92365 93854 85336 79898 84708 88381 93206 91795\n",
      " 96432 83300 94778 82283 97056 87654 89875 98180 84185 79509 97990 79077\n",
      " 81187 83847 89158 91645]\n"
     ]
    }
   ],
   "source": [
    "# slicing the dataset into idv and dv\n",
    "x = mydata.iloc[:,3:6].values\n",
    "y = mydata.iloc[:,6].values\n",
    "print(x)\n",
    "print(y)\n"
   ]
  },
  {
   "cell_type": "code",
   "execution_count": 33,
   "metadata": {},
   "outputs": [
    {
     "data": {
      "text/plain": [
       "0    19\n",
       "1    18\n",
       "2    10\n",
       "dtype: int64"
      ]
     },
     "execution_count": 33,
     "metadata": {},
     "output_type": "execute_result"
    }
   ],
   "source": [
    "pd.DataFrame(x).isnull().sum()"
   ]
  },
  {
   "cell_type": "code",
   "execution_count": 34,
   "metadata": {},
   "outputs": [],
   "source": [
    "# Handling categorical variable by using sklearn libarary (ML)\n",
    "\n",
    "from sklearn.impute import SimpleImputer\n",
    "impute = SimpleImputer(strategy = \"most_frequent\") \n",
    "x[:,0:1] = impute.fit_transform(x[:,0:1])"
   ]
  },
  {
   "cell_type": "code",
   "execution_count": 35,
   "metadata": {},
   "outputs": [
    {
     "data": {
      "text/plain": [
       "0     0\n",
       "1    18\n",
       "2    10\n",
       "dtype: int64"
      ]
     },
     "execution_count": 35,
     "metadata": {},
     "output_type": "execute_result"
    }
   ],
   "source": [
    "pd.DataFrame(x).isnull().sum()"
   ]
  },
  {
   "cell_type": "code",
   "execution_count": 36,
   "metadata": {},
   "outputs": [],
   "source": [
    "# Handling numerical variable by using sklearn libarary (ML)\n",
    "\n",
    "from sklearn.impute import SimpleImputer\n",
    "impute = SimpleImputer(missing_values = np.nan, strategy = \"mean\") \n",
    "x[:,1:3] = impute.fit_transform(x[:,1:3])"
   ]
  },
  {
   "cell_type": "code",
   "execution_count": 37,
   "metadata": {},
   "outputs": [
    {
     "data": {
      "text/plain": [
       "0    0\n",
       "1    0\n",
       "2    0\n",
       "dtype: int64"
      ]
     },
     "execution_count": 37,
     "metadata": {},
     "output_type": "execute_result"
    }
   ],
   "source": [
    "pd.DataFrame(x).isnull().sum()"
   ]
  },
  {
   "cell_type": "code",
   "execution_count": 38,
   "metadata": {},
   "outputs": [
    {
     "data": {
      "text/html": [
       "<div>\n",
       "<style scoped>\n",
       "    .dataframe tbody tr th:only-of-type {\n",
       "        vertical-align: middle;\n",
       "    }\n",
       "\n",
       "    .dataframe tbody tr th {\n",
       "        vertical-align: top;\n",
       "    }\n",
       "\n",
       "    .dataframe thead th {\n",
       "        text-align: right;\n",
       "    }\n",
       "</style>\n",
       "<table border=\"1\" class=\"dataframe\">\n",
       "  <thead>\n",
       "    <tr style=\"text-align: right;\">\n",
       "      <th></th>\n",
       "      <th>0</th>\n",
       "      <th>1</th>\n",
       "      <th>2</th>\n",
       "    </tr>\n",
       "  </thead>\n",
       "  <tbody>\n",
       "    <tr>\n",
       "      <th>0</th>\n",
       "      <td>Sales and Marketing</td>\n",
       "      <td>28.0</td>\n",
       "      <td>3.0</td>\n",
       "    </tr>\n",
       "    <tr>\n",
       "      <th>1</th>\n",
       "      <td>Sales and Marketing</td>\n",
       "      <td>22.0</td>\n",
       "      <td>1.0</td>\n",
       "    </tr>\n",
       "    <tr>\n",
       "      <th>2</th>\n",
       "      <td>Customer Relations</td>\n",
       "      <td>22.0</td>\n",
       "      <td>1.0</td>\n",
       "    </tr>\n",
       "    <tr>\n",
       "      <th>3</th>\n",
       "      <td>Customer Relations</td>\n",
       "      <td>22.0</td>\n",
       "      <td>1.0</td>\n",
       "    </tr>\n",
       "    <tr>\n",
       "      <th>4</th>\n",
       "      <td>Accounting</td>\n",
       "      <td>27.0</td>\n",
       "      <td>0.0</td>\n",
       "    </tr>\n",
       "  </tbody>\n",
       "</table>\n",
       "</div>"
      ],
      "text/plain": [
       "                     0     1    2\n",
       "0  Sales and Marketing  28.0  3.0\n",
       "1  Sales and Marketing  22.0  1.0\n",
       "2   Customer Relations  22.0  1.0\n",
       "3   Customer Relations  22.0  1.0\n",
       "4           Accounting  27.0  0.0"
      ]
     },
     "execution_count": 38,
     "metadata": {},
     "output_type": "execute_result"
    }
   ],
   "source": [
    "pd.DataFrame(x).head()"
   ]
  },
  {
   "cell_type": "code",
   "execution_count": 39,
   "metadata": {},
   "outputs": [],
   "source": [
    "# Handling Encoding part by the help of sklearn\n",
    "from sklearn.preprocessing import LabelEncoder\n",
    "\n",
    "encoding = LabelEncoder()\n",
    "x[:,0] = encoding.fit_transform(x[:,0] )\n"
   ]
  },
  {
   "cell_type": "code",
   "execution_count": 40,
   "metadata": {},
   "outputs": [
    {
     "data": {
      "text/html": [
       "<div>\n",
       "<style scoped>\n",
       "    .dataframe tbody tr th:only-of-type {\n",
       "        vertical-align: middle;\n",
       "    }\n",
       "\n",
       "    .dataframe tbody tr th {\n",
       "        vertical-align: top;\n",
       "    }\n",
       "\n",
       "    .dataframe thead th {\n",
       "        text-align: right;\n",
       "    }\n",
       "</style>\n",
       "<table border=\"1\" class=\"dataframe\">\n",
       "  <thead>\n",
       "    <tr style=\"text-align: right;\">\n",
       "      <th></th>\n",
       "      <th>0</th>\n",
       "      <th>1</th>\n",
       "      <th>2</th>\n",
       "    </tr>\n",
       "  </thead>\n",
       "  <tbody>\n",
       "    <tr>\n",
       "      <th>0</th>\n",
       "      <td>2</td>\n",
       "      <td>28.0</td>\n",
       "      <td>3.0</td>\n",
       "    </tr>\n",
       "    <tr>\n",
       "      <th>1</th>\n",
       "      <td>2</td>\n",
       "      <td>22.0</td>\n",
       "      <td>1.0</td>\n",
       "    </tr>\n",
       "    <tr>\n",
       "      <th>2</th>\n",
       "      <td>1</td>\n",
       "      <td>22.0</td>\n",
       "      <td>1.0</td>\n",
       "    </tr>\n",
       "    <tr>\n",
       "      <th>3</th>\n",
       "      <td>1</td>\n",
       "      <td>22.0</td>\n",
       "      <td>1.0</td>\n",
       "    </tr>\n",
       "    <tr>\n",
       "      <th>4</th>\n",
       "      <td>0</td>\n",
       "      <td>27.0</td>\n",
       "      <td>0.0</td>\n",
       "    </tr>\n",
       "  </tbody>\n",
       "</table>\n",
       "</div>"
      ],
      "text/plain": [
       "   0     1    2\n",
       "0  2  28.0  3.0\n",
       "1  2  22.0  1.0\n",
       "2  1  22.0  1.0\n",
       "3  1  22.0  1.0\n",
       "4  0  27.0  0.0"
      ]
     },
     "execution_count": 40,
     "metadata": {},
     "output_type": "execute_result"
    }
   ],
   "source": [
    "pd.DataFrame(x).head()"
   ]
  },
  {
   "cell_type": "code",
   "execution_count": 42,
   "metadata": {},
   "outputs": [],
   "source": [
    "# One-Hot-Encoder\n",
    "from sklearn.preprocessing import OneHotEncoder\n",
    "from sklearn.compose import ColumnTransformer"
   ]
  },
  {
   "cell_type": "code",
   "execution_count": 47,
   "metadata": {},
   "outputs": [],
   "source": [
    "columntransfer = ColumnTransformer([('encoder', OneHotEncoder(), [0])], remainder = \"passthrough\")"
   ]
  },
  {
   "cell_type": "code",
   "execution_count": 48,
   "metadata": {},
   "outputs": [],
   "source": [
    "x = columntransfer.fit_transform(x)"
   ]
  },
  {
   "cell_type": "code",
   "execution_count": 49,
   "metadata": {},
   "outputs": [
    {
     "data": {
      "text/html": [
       "<div>\n",
       "<style scoped>\n",
       "    .dataframe tbody tr th:only-of-type {\n",
       "        vertical-align: middle;\n",
       "    }\n",
       "\n",
       "    .dataframe tbody tr th {\n",
       "        vertical-align: top;\n",
       "    }\n",
       "\n",
       "    .dataframe thead th {\n",
       "        text-align: right;\n",
       "    }\n",
       "</style>\n",
       "<table border=\"1\" class=\"dataframe\">\n",
       "  <thead>\n",
       "    <tr style=\"text-align: right;\">\n",
       "      <th></th>\n",
       "      <th>0</th>\n",
       "      <th>1</th>\n",
       "      <th>2</th>\n",
       "      <th>3</th>\n",
       "      <th>4</th>\n",
       "    </tr>\n",
       "  </thead>\n",
       "  <tbody>\n",
       "    <tr>\n",
       "      <th>0</th>\n",
       "      <td>0.0</td>\n",
       "      <td>0.0</td>\n",
       "      <td>1.0</td>\n",
       "      <td>28.0</td>\n",
       "      <td>3.0</td>\n",
       "    </tr>\n",
       "    <tr>\n",
       "      <th>1</th>\n",
       "      <td>0.0</td>\n",
       "      <td>0.0</td>\n",
       "      <td>1.0</td>\n",
       "      <td>22.0</td>\n",
       "      <td>1.0</td>\n",
       "    </tr>\n",
       "    <tr>\n",
       "      <th>2</th>\n",
       "      <td>0.0</td>\n",
       "      <td>1.0</td>\n",
       "      <td>0.0</td>\n",
       "      <td>22.0</td>\n",
       "      <td>1.0</td>\n",
       "    </tr>\n",
       "    <tr>\n",
       "      <th>3</th>\n",
       "      <td>0.0</td>\n",
       "      <td>1.0</td>\n",
       "      <td>0.0</td>\n",
       "      <td>22.0</td>\n",
       "      <td>1.0</td>\n",
       "    </tr>\n",
       "    <tr>\n",
       "      <th>4</th>\n",
       "      <td>1.0</td>\n",
       "      <td>0.0</td>\n",
       "      <td>0.0</td>\n",
       "      <td>27.0</td>\n",
       "      <td>0.0</td>\n",
       "    </tr>\n",
       "  </tbody>\n",
       "</table>\n",
       "</div>"
      ],
      "text/plain": [
       "     0    1    2     3    4\n",
       "0  0.0  0.0  1.0  28.0  3.0\n",
       "1  0.0  0.0  1.0  22.0  1.0\n",
       "2  0.0  1.0  0.0  22.0  1.0\n",
       "3  0.0  1.0  0.0  22.0  1.0\n",
       "4  1.0  0.0  0.0  27.0  0.0"
      ]
     },
     "execution_count": 49,
     "metadata": {},
     "output_type": "execute_result"
    }
   ],
   "source": [
    "pd.DataFrame(x).head()"
   ]
  },
  {
   "cell_type": "code",
   "execution_count": 50,
   "metadata": {},
   "outputs": [],
   "source": [
    "# Dummy variable\n",
    "x1 = x[:,1:]"
   ]
  },
  {
   "cell_type": "code",
   "execution_count": 52,
   "metadata": {},
   "outputs": [
    {
     "data": {
      "text/html": [
       "<div>\n",
       "<style scoped>\n",
       "    .dataframe tbody tr th:only-of-type {\n",
       "        vertical-align: middle;\n",
       "    }\n",
       "\n",
       "    .dataframe tbody tr th {\n",
       "        vertical-align: top;\n",
       "    }\n",
       "\n",
       "    .dataframe thead th {\n",
       "        text-align: right;\n",
       "    }\n",
       "</style>\n",
       "<table border=\"1\" class=\"dataframe\">\n",
       "  <thead>\n",
       "    <tr style=\"text-align: right;\">\n",
       "      <th></th>\n",
       "      <th>0</th>\n",
       "      <th>1</th>\n",
       "      <th>2</th>\n",
       "      <th>3</th>\n",
       "    </tr>\n",
       "  </thead>\n",
       "  <tbody>\n",
       "    <tr>\n",
       "      <th>0</th>\n",
       "      <td>0.0</td>\n",
       "      <td>1.0</td>\n",
       "      <td>28.0</td>\n",
       "      <td>3.0</td>\n",
       "    </tr>\n",
       "    <tr>\n",
       "      <th>1</th>\n",
       "      <td>0.0</td>\n",
       "      <td>1.0</td>\n",
       "      <td>22.0</td>\n",
       "      <td>1.0</td>\n",
       "    </tr>\n",
       "    <tr>\n",
       "      <th>2</th>\n",
       "      <td>1.0</td>\n",
       "      <td>0.0</td>\n",
       "      <td>22.0</td>\n",
       "      <td>1.0</td>\n",
       "    </tr>\n",
       "    <tr>\n",
       "      <th>3</th>\n",
       "      <td>1.0</td>\n",
       "      <td>0.0</td>\n",
       "      <td>22.0</td>\n",
       "      <td>1.0</td>\n",
       "    </tr>\n",
       "    <tr>\n",
       "      <th>4</th>\n",
       "      <td>0.0</td>\n",
       "      <td>0.0</td>\n",
       "      <td>27.0</td>\n",
       "      <td>0.0</td>\n",
       "    </tr>\n",
       "  </tbody>\n",
       "</table>\n",
       "</div>"
      ],
      "text/plain": [
       "     0    1     2    3\n",
       "0  0.0  1.0  28.0  3.0\n",
       "1  0.0  1.0  22.0  1.0\n",
       "2  1.0  0.0  22.0  1.0\n",
       "3  1.0  0.0  22.0  1.0\n",
       "4  0.0  0.0  27.0  0.0"
      ]
     },
     "execution_count": 52,
     "metadata": {},
     "output_type": "execute_result"
    }
   ],
   "source": [
    "pd.DataFrame(x1).head()"
   ]
  },
  {
   "cell_type": "code",
   "execution_count": 56,
   "metadata": {},
   "outputs": [],
   "source": [
    "# Feature Scaling \n",
    "# Standarisation \n",
    "\n",
    "from sklearn.preprocessing import StandardScaler\n",
    "sc_x = StandardScaler()\n",
    "x_fs_standar = sc_x.fit_transform(x1)\n"
   ]
  },
  {
   "cell_type": "code",
   "execution_count": 57,
   "metadata": {},
   "outputs": [
    {
     "data": {
      "text/plain": [
       "array([[-0.56195149,  1.02020406, -1.16485118, -1.81044925],\n",
       "       [-0.56195149,  1.02020406, -1.86547071, -2.11817433],\n",
       "       [ 1.77951304, -0.98019606, -1.86547071, -2.11817433],\n",
       "       [ 1.77951304, -0.98019606, -1.86547071, -2.11817433],\n",
       "       [-0.56195149, -0.98019606, -1.2816211 , -2.27203688],\n",
       "       [-0.56195149, -0.98019606, -1.39839102, -1.50272416],\n",
       "       [ 1.77951304, -0.98019606, -1.63193087, -1.34886162],\n",
       "       [ 1.77951304, -0.98019606, -1.04808125, -1.96431179],\n",
       "       [-0.56195149,  1.02020406, -1.04808125, -1.50272416],\n",
       "       [ 1.77951304, -0.98019606, -0.93131133, -1.34886162],\n",
       "       [-0.56195149, -0.98019606, -1.39839102, -1.50272416],\n",
       "       [-0.56195149,  1.02020406, -1.39839102, -1.34886162],\n",
       "       [-0.56195149, -0.98019606, -1.63193087, -1.50272416],\n",
       "       [-0.56195149, -0.98019606, -1.86547071, -1.96431179],\n",
       "       [-0.56195149,  1.02020406, -1.51516094, -1.81044925],\n",
       "       [-0.56195149, -0.98019606, -1.51516094,  0.        ],\n",
       "       [ 1.77951304, -0.98019606, -1.86547071,  0.        ],\n",
       "       [-0.56195149, -0.98019606, -1.51516094,  0.        ],\n",
       "       [-0.56195149, -0.98019606, -1.2816211 ,  0.        ],\n",
       "       [-0.56195149,  1.02020406, -1.51516094,  0.        ],\n",
       "       [-0.56195149,  1.02020406, -1.86547071,  0.        ],\n",
       "       [-0.56195149,  1.02020406, -1.86547071,  0.        ],\n",
       "       [-0.56195149,  1.02020406, -1.63193087,  0.        ],\n",
       "       [-0.56195149,  1.02020406, -1.2816211 ,  0.        ],\n",
       "       [-0.56195149,  1.02020406, -1.86547071,  0.        ],\n",
       "       [-0.56195149,  1.02020406, -0.58100156, -0.27182382],\n",
       "       [-0.56195149,  1.02020406, -0.2306918 , -1.19499908],\n",
       "       [-0.56195149,  1.02020406, -0.34746172, -0.73341145],\n",
       "       [-0.56195149,  1.02020406, -0.58100156, -0.42568637],\n",
       "       [-0.56195149,  1.02020406, -0.93131133, -0.11796128],\n",
       "       [-0.56195149,  1.02020406,  0.23638789,  0.03590126],\n",
       "       [-0.56195149,  1.02020406,  0.11961797, -0.42568637],\n",
       "       [-0.56195149,  1.02020406,  0.        , -0.88727399],\n",
       "       [-0.56195149,  1.02020406,  0.        , -1.19499908],\n",
       "       [-0.56195149,  1.02020406,  0.        ,  0.03590126],\n",
       "       [-0.56195149,  1.02020406,  0.        , -0.57954891],\n",
       "       [-0.56195149,  1.02020406,  0.        , -0.73341145],\n",
       "       [-0.56195149,  1.02020406,  0.        , -1.19499908],\n",
       "       [-0.56195149,  1.02020406,  0.        , -0.27182382],\n",
       "       [-0.56195149,  1.02020406,  0.        , -0.88727399],\n",
       "       [ 1.77951304, -0.98019606,  0.        , -1.04113654],\n",
       "       [-0.56195149, -0.98019606,  0.        , -0.42568637],\n",
       "       [-0.56195149, -0.98019606,  0.        , -0.88727399],\n",
       "       [-0.56195149,  1.02020406,  0.        , -0.42568637],\n",
       "       [-0.56195149,  1.02020406,  0.        ,  0.03590126],\n",
       "       [ 1.77951304, -0.98019606,  0.        , -0.11796128],\n",
       "       [-0.56195149,  1.02020406,  0.        , -0.73341145],\n",
       "       [ 1.77951304, -0.98019606,  0.        , -1.04113654],\n",
       "       [ 1.77951304, -0.98019606,  0.        , -0.42568637],\n",
       "       [ 1.77951304, -0.98019606,  0.        ,  0.03590126],\n",
       "       [-0.56195149,  1.02020406,  0.00284805, -0.11796128],\n",
       "       [-0.56195149, -0.98019606,  0.35315781,  1.57452668],\n",
       "       [ 1.77951304, -0.98019606,  0.70346758,  0.34362634],\n",
       "       [-0.56195149, -0.98019606,  0.35315781,  0.34362634],\n",
       "       [-0.56195149,  1.02020406,  1.40408712,  0.95907651],\n",
       "       [-0.56195149,  1.02020406,  1.05377735,  0.65135143],\n",
       "       [-0.56195149, -0.98019606,  0.58669766,  1.57452668],\n",
       "       [ 1.77951304, -0.98019606,  1.17054727,  1.57452668],\n",
       "       [-0.56195149, -0.98019606,  0.93700743,  1.11293906],\n",
       "       [ 1.77951304, -0.98019606,  0.70346758,  0.1897638 ],\n",
       "       [-0.56195149, -0.98019606,  0.46992774,  0.95907651],\n",
       "       [-0.56195149,  1.02020406,  0.70346758,  0.65135143],\n",
       "       [ 1.77951304, -0.98019606,  1.28731719,  0.1897638 ],\n",
       "       [ 1.77951304, -0.98019606,  0.70346758,  0.49748889],\n",
       "       [-0.56195149,  1.02020406,  1.28731719,  1.11293906],\n",
       "       [-0.56195149, -0.98019606,  0.70346758,  0.34362634],\n",
       "       [-0.56195149,  1.02020406,  1.17054727,  0.1897638 ],\n",
       "       [ 1.77951304, -0.98019606,  1.05377735,  1.2668016 ],\n",
       "       [ 1.77951304, -0.98019606,  1.40408712,  1.11293906],\n",
       "       [-0.56195149,  1.02020406,  0.46992774,  0.65135143],\n",
       "       [-0.56195149, -0.98019606,  1.17054727,  0.65135143],\n",
       "       [ 1.77951304, -0.98019606,  0.93700743,  1.42066414],\n",
       "       [-0.56195149,  1.02020406,  0.46992774,  1.2668016 ],\n",
       "       [-0.56195149,  1.02020406,  0.8202375 ,  1.11293906],\n",
       "       [ 1.77951304, -0.98019606,  1.17054727,  0.34362634],\n",
       "       [-0.56195149,  1.02020406,  0.35315781,  1.2668016 ],\n",
       "       [-0.56195149,  1.02020406,  1.28731719,  0.65135143],\n",
       "       [-0.56195149,  1.02020406,  0.35315781,  1.11293906],\n",
       "       [-0.56195149,  1.02020406,  0.46992774,  1.42066414],\n",
       "       [-0.56195149, -0.98019606,  0.35315781,  1.11293906],\n",
       "       [-0.56195149, -0.98019606,  0.8202375 ,  0.95907651],\n",
       "       [ 1.77951304, -0.98019606,  0.58669766,  0.1897638 ],\n",
       "       [-0.56195149, -0.98019606,  0.93700743,  0.49748889],\n",
       "       [-0.56195149,  1.02020406,  1.05377735,  0.80521397],\n",
       "       [-0.56195149, -0.98019606,  0.8202375 ,  0.34362634],\n",
       "       [-0.56195149,  1.02020406,  0.46992774,  0.34362634],\n",
       "       [-0.56195149,  1.02020406,  0.70346758,  0.95907651],\n",
       "       [-0.56195149, -0.98019606,  0.8202375 ,  0.65135143],\n",
       "       [-0.56195149, -0.98019606,  0.70346758,  0.95907651],\n",
       "       [ 1.77951304, -0.98019606,  1.05377735,  0.80521397],\n",
       "       [-0.56195149,  1.02020406,  0.70346758,  0.65135143],\n",
       "       [-0.56195149, -0.98019606,  0.70346758,  0.49748889],\n",
       "       [-0.56195149,  1.02020406,  0.35315781,  0.34362634],\n",
       "       [-0.56195149, -0.98019606,  1.17054727,  0.95907651],\n",
       "       [-0.56195149, -0.98019606,  1.17054727,  1.11293906],\n",
       "       [-0.56195149,  1.02020406,  1.05377735,  1.11293906],\n",
       "       [-0.56195149,  1.02020406,  0.93700743,  0.80521397],\n",
       "       [ 1.77951304, -0.98019606,  0.70346758,  0.49748889],\n",
       "       [ 1.77951304, -0.98019606,  1.05377735,  1.11293906],\n",
       "       [-0.56195149, -0.98019606,  0.70346758,  0.95907651]])"
      ]
     },
     "execution_count": 57,
     "metadata": {},
     "output_type": "execute_result"
    }
   ],
   "source": [
    "x_fs_standar"
   ]
  },
  {
   "cell_type": "code",
   "execution_count": 59,
   "metadata": {},
   "outputs": [],
   "source": [
    "# Normalisation \n",
    "from sklearn.preprocessing import Normalizer\n",
    "nr_x = Normalizer()\n",
    "x_fs_norm = nr_x.fit_transform(x1)\n"
   ]
  },
  {
   "cell_type": "code",
   "execution_count": 60,
   "metadata": {},
   "outputs": [
    {
     "data": {
      "text/plain": [
       "array([[0.        , 0.03548867, 0.99368282, 0.10646602],\n",
       "       [0.        , 0.04536092, 0.99794027, 0.04536092],\n",
       "       [0.04536092, 0.        , 0.99794027, 0.04536092],\n",
       "       [0.04536092, 0.        , 0.99794027, 0.04536092],\n",
       "       [0.        , 0.        , 1.        , 0.        ],\n",
       "       [0.        , 0.        , 0.98200645, 0.18884739],\n",
       "       [0.04038962, 0.        , 0.96935087, 0.24233772],\n",
       "       [0.03438071, 0.        , 0.99704054, 0.06876142],\n",
       "       [0.        , 0.03396178, 0.98489164, 0.1698089 ],\n",
       "       [0.03266858, 0.        , 0.98005728, 0.19601146],\n",
       "       [0.        , 0.        , 0.98200645, 0.18884739],\n",
       "       [0.        , 0.03745029, 0.97370765, 0.22470177],\n",
       "       [0.        , 0.        , 0.97898042, 0.20395425],\n",
       "       [0.        , 0.        , 0.99589321, 0.09053575],\n",
       "       [0.        , 0.03968379, 0.99209474, 0.11905137],\n",
       "       [0.        , 0.        , 0.86101793, 0.50857459],\n",
       "       [0.03771425, 0.        , 0.82971359, 0.55691382],\n",
       "       [0.        , 0.        , 0.86101793, 0.50857459],\n",
       "       [0.        , 0.        , 0.87735689, 0.4798384 ],\n",
       "       [0.        , 0.03442031, 0.86050773, 0.50827324],\n",
       "       [0.        , 0.03771425, 0.82971359, 0.55691382],\n",
       "       [0.        , 0.03771425, 0.82971359, 0.55691382],\n",
       "       [0.        , 0.03546513, 0.85116314, 0.52370176],\n",
       "       [0.        , 0.03247756, 0.87689405, 0.47958527],\n",
       "       [0.        , 0.03771425, 0.82971359, 0.55691382],\n",
       "       [0.        , 0.02818299, 0.93003882, 0.36637893],\n",
       "       [0.        , 0.02725696, 0.98125068, 0.19079874],\n",
       "       [0.        , 0.02746175, 0.96116131, 0.27461752],\n",
       "       [0.        , 0.02846705, 0.93941255, 0.34160457],\n",
       "       [0.        , 0.03019233, 0.90577002, 0.42269268],\n",
       "       [0.        , 0.02340182, 0.93607275, 0.35102728],\n",
       "       [0.        , 0.0244998 , 0.95549212, 0.29399757],\n",
       "       [0.        , 0.02561454, 0.97272782, 0.23053087],\n",
       "       [0.        , 0.02588774, 0.98310286, 0.18121421],\n",
       "       [0.        , 0.02448403, 0.92979585, 0.3672604 ],\n",
       "       [0.        , 0.0252849 , 0.96020946, 0.27813389],\n",
       "       [0.        , 0.02545636, 0.96672092, 0.25456363],\n",
       "       [0.        , 0.02588774, 0.98310286, 0.18121421],\n",
       "       [0.        , 0.02490564, 0.94580683, 0.32377331],\n",
       "       [0.        , 0.02561454, 0.97272782, 0.23053087],\n",
       "       [0.0257586 , 0.        , 0.97819842, 0.20606878],\n",
       "       [0.        , 0.        , 0.95352712, 0.30130722],\n",
       "       [0.        , 0.        , 0.97304708, 0.23060653],\n",
       "       [0.        , 0.02510102, 0.95322668, 0.30121228],\n",
       "       [0.        , 0.02448403, 0.92979585, 0.3672604 ],\n",
       "       [0.02469966, 0.        , 0.93798483, 0.34579531],\n",
       "       [0.        , 0.02545636, 0.96672092, 0.25456363],\n",
       "       [0.0257586 , 0.        , 0.97819842, 0.20606878],\n",
       "       [0.02510102, 0.        , 0.95322668, 0.30121228],\n",
       "       [0.02448403, 0.        , 0.92979585, 0.3672604 ],\n",
       "       [0.        , 0.02468571, 0.93805717, 0.34560001],\n",
       "       [0.        , 0.        , 0.85379618, 0.52060742],\n",
       "       [0.0211952 , 0.        , 0.93258859, 0.36031832],\n",
       "       [0.        , 0.        , 0.92374211, 0.38301502],\n",
       "       [0.        , 0.01843651, 0.9218254 , 0.38716667],\n",
       "       [0.        , 0.01972191, 0.92692975, 0.37471628],\n",
       "       [0.        , 0.        , 0.86450719, 0.50262046],\n",
       "       [0.01847422, 0.        , 0.88676272, 0.46185558],\n",
       "       [0.        , 0.        , 0.90213422, 0.4314555 ],\n",
       "       [0.02135407, 0.        , 0.93957913, 0.34166514],\n",
       "       [0.        , 0.        , 0.89442719, 0.4472136 ],\n",
       "       [0.        , 0.02086051, 0.91786258, 0.39634975],\n",
       "       [0.01939646, 0.        , 0.95042662, 0.31034339],\n",
       "       [0.02103051, 0.        , 0.92534226, 0.37854911],\n",
       "       [0.        , 0.01861452, 0.91211147, 0.40951944],\n",
       "       [0.        , 0.        , 0.93279813, 0.36039928],\n",
       "       [0.        , 0.01976038, 0.94849806, 0.31616602],\n",
       "       [0.01910751, 0.        , 0.89805274, 0.43947262],\n",
       "       [0.01830323, 0.        , 0.9151617 , 0.40267115],\n",
       "       [0.        , 0.02168794, 0.91089362, 0.41207092],\n",
       "       [0.        , 0.        , 0.92980661, 0.36804845],\n",
       "       [0.01927   , 0.        , 0.88642022, 0.46248012],\n",
       "       [0.        , 0.02087869, 0.87690508, 0.48020992],\n",
       "       [0.        , 0.01996012, 0.89820538, 0.43912263],\n",
       "       [0.01963428, 0.        , 0.94244551, 0.33378279],\n",
       "       [0.        , 0.02126697, 0.87194579, 0.48914032],\n",
       "       [0.        , 0.01902434, 0.93219257, 0.36146243],\n",
       "       [0.        , 0.02148675, 0.88095684, 0.47270855],\n",
       "       [0.        , 0.02066804, 0.86805768, 0.49603296],\n",
       "       [0.        , 0.        , 0.88116027, 0.4728177 ],\n",
       "       [0.        , 0.        , 0.90618314, 0.42288547],\n",
       "       [0.02179068, 0.        , 0.93699931, 0.34865091],\n",
       "       [0.        , 0.        , 0.93124278, 0.36439935],\n",
       "       [0.        , 0.01957401, 0.91997834, 0.39148015],\n",
       "       [0.        , 0.        , 0.93547209, 0.35340057],\n",
       "       [0.        , 0.02206479, 0.92672114, 0.37510141],\n",
       "       [0.        , 0.02050662, 0.90229126, 0.43063901],\n",
       "       [0.        , 0.        , 0.92124956, 0.38897204],\n",
       "       [0.        , 0.        , 0.90248104, 0.43072959],\n",
       "       [0.01957401, 0.        , 0.91997834, 0.39148015],\n",
       "       [0.        , 0.02086051, 0.91786258, 0.39634975],\n",
       "       [0.        , 0.        , 0.92554696, 0.37863285],\n",
       "       [0.        , 0.02252458, 0.92350775, 0.38291785],\n",
       "       [0.        , 0.        , 0.91615733, 0.40081883],\n",
       "       [0.        , 0.        , 0.90906482, 0.41665471],\n",
       "       [0.        , 0.01926643, 0.90552212, 0.42386142],\n",
       "       [0.        , 0.01993234, 0.91688786, 0.3986469 ],\n",
       "       [0.02103051, 0.        , 0.92534226, 0.37854911],\n",
       "       [0.01926643, 0.        , 0.90552212, 0.42386142],\n",
       "       [0.        , 0.        , 0.90248104, 0.43072959]])"
      ]
     },
     "execution_count": 60,
     "metadata": {},
     "output_type": "execute_result"
    }
   ],
   "source": [
    "x_fs_norm"
   ]
  },
  {
   "cell_type": "code",
   "execution_count": null,
   "metadata": {},
   "outputs": [],
   "source": [
    "# imbalanced dataset : classification data\n",
    "# oversampling\n",
    "# undersampling\n",
    "# class weight"
   ]
  },
  {
   "cell_type": "code",
   "execution_count": 61,
   "metadata": {},
   "outputs": [
    {
     "data": {
      "text/html": [
       "<div>\n",
       "<style scoped>\n",
       "    .dataframe tbody tr th:only-of-type {\n",
       "        vertical-align: middle;\n",
       "    }\n",
       "\n",
       "    .dataframe tbody tr th {\n",
       "        vertical-align: top;\n",
       "    }\n",
       "\n",
       "    .dataframe thead th {\n",
       "        text-align: right;\n",
       "    }\n",
       "</style>\n",
       "<table border=\"1\" class=\"dataframe\">\n",
       "  <thead>\n",
       "    <tr style=\"text-align: right;\">\n",
       "      <th></th>\n",
       "      <th>Time</th>\n",
       "      <th>V1</th>\n",
       "      <th>V2</th>\n",
       "      <th>V3</th>\n",
       "      <th>V4</th>\n",
       "      <th>V5</th>\n",
       "      <th>V6</th>\n",
       "      <th>V7</th>\n",
       "      <th>V8</th>\n",
       "      <th>V9</th>\n",
       "      <th>...</th>\n",
       "      <th>V21</th>\n",
       "      <th>V22</th>\n",
       "      <th>V23</th>\n",
       "      <th>V24</th>\n",
       "      <th>V25</th>\n",
       "      <th>V26</th>\n",
       "      <th>V27</th>\n",
       "      <th>V28</th>\n",
       "      <th>Amount</th>\n",
       "      <th>Class</th>\n",
       "    </tr>\n",
       "  </thead>\n",
       "  <tbody>\n",
       "    <tr>\n",
       "      <th>0</th>\n",
       "      <td>0.0</td>\n",
       "      <td>-1.359807</td>\n",
       "      <td>-0.072781</td>\n",
       "      <td>2.536347</td>\n",
       "      <td>1.378155</td>\n",
       "      <td>-0.338321</td>\n",
       "      <td>0.462388</td>\n",
       "      <td>0.239599</td>\n",
       "      <td>0.098698</td>\n",
       "      <td>0.363787</td>\n",
       "      <td>...</td>\n",
       "      <td>-0.018307</td>\n",
       "      <td>0.277838</td>\n",
       "      <td>-0.110474</td>\n",
       "      <td>0.066928</td>\n",
       "      <td>0.128539</td>\n",
       "      <td>-0.189115</td>\n",
       "      <td>0.133558</td>\n",
       "      <td>-0.021053</td>\n",
       "      <td>149.62</td>\n",
       "      <td>0</td>\n",
       "    </tr>\n",
       "    <tr>\n",
       "      <th>1</th>\n",
       "      <td>0.0</td>\n",
       "      <td>1.191857</td>\n",
       "      <td>0.266151</td>\n",
       "      <td>0.166480</td>\n",
       "      <td>0.448154</td>\n",
       "      <td>0.060018</td>\n",
       "      <td>-0.082361</td>\n",
       "      <td>-0.078803</td>\n",
       "      <td>0.085102</td>\n",
       "      <td>-0.255425</td>\n",
       "      <td>...</td>\n",
       "      <td>-0.225775</td>\n",
       "      <td>-0.638672</td>\n",
       "      <td>0.101288</td>\n",
       "      <td>-0.339846</td>\n",
       "      <td>0.167170</td>\n",
       "      <td>0.125895</td>\n",
       "      <td>-0.008983</td>\n",
       "      <td>0.014724</td>\n",
       "      <td>2.69</td>\n",
       "      <td>0</td>\n",
       "    </tr>\n",
       "    <tr>\n",
       "      <th>2</th>\n",
       "      <td>1.0</td>\n",
       "      <td>-1.358354</td>\n",
       "      <td>-1.340163</td>\n",
       "      <td>1.773209</td>\n",
       "      <td>0.379780</td>\n",
       "      <td>-0.503198</td>\n",
       "      <td>1.800499</td>\n",
       "      <td>0.791461</td>\n",
       "      <td>0.247676</td>\n",
       "      <td>-1.514654</td>\n",
       "      <td>...</td>\n",
       "      <td>0.247998</td>\n",
       "      <td>0.771679</td>\n",
       "      <td>0.909412</td>\n",
       "      <td>-0.689281</td>\n",
       "      <td>-0.327642</td>\n",
       "      <td>-0.139097</td>\n",
       "      <td>-0.055353</td>\n",
       "      <td>-0.059752</td>\n",
       "      <td>378.66</td>\n",
       "      <td>0</td>\n",
       "    </tr>\n",
       "    <tr>\n",
       "      <th>3</th>\n",
       "      <td>1.0</td>\n",
       "      <td>-0.966272</td>\n",
       "      <td>-0.185226</td>\n",
       "      <td>1.792993</td>\n",
       "      <td>-0.863291</td>\n",
       "      <td>-0.010309</td>\n",
       "      <td>1.247203</td>\n",
       "      <td>0.237609</td>\n",
       "      <td>0.377436</td>\n",
       "      <td>-1.387024</td>\n",
       "      <td>...</td>\n",
       "      <td>-0.108300</td>\n",
       "      <td>0.005274</td>\n",
       "      <td>-0.190321</td>\n",
       "      <td>-1.175575</td>\n",
       "      <td>0.647376</td>\n",
       "      <td>-0.221929</td>\n",
       "      <td>0.062723</td>\n",
       "      <td>0.061458</td>\n",
       "      <td>123.50</td>\n",
       "      <td>0</td>\n",
       "    </tr>\n",
       "    <tr>\n",
       "      <th>4</th>\n",
       "      <td>2.0</td>\n",
       "      <td>-1.158233</td>\n",
       "      <td>0.877737</td>\n",
       "      <td>1.548718</td>\n",
       "      <td>0.403034</td>\n",
       "      <td>-0.407193</td>\n",
       "      <td>0.095921</td>\n",
       "      <td>0.592941</td>\n",
       "      <td>-0.270533</td>\n",
       "      <td>0.817739</td>\n",
       "      <td>...</td>\n",
       "      <td>-0.009431</td>\n",
       "      <td>0.798278</td>\n",
       "      <td>-0.137458</td>\n",
       "      <td>0.141267</td>\n",
       "      <td>-0.206010</td>\n",
       "      <td>0.502292</td>\n",
       "      <td>0.219422</td>\n",
       "      <td>0.215153</td>\n",
       "      <td>69.99</td>\n",
       "      <td>0</td>\n",
       "    </tr>\n",
       "  </tbody>\n",
       "</table>\n",
       "<p>5 rows × 31 columns</p>\n",
       "</div>"
      ],
      "text/plain": [
       "   Time        V1        V2        V3        V4        V5        V6        V7  \\\n",
       "0   0.0 -1.359807 -0.072781  2.536347  1.378155 -0.338321  0.462388  0.239599   \n",
       "1   0.0  1.191857  0.266151  0.166480  0.448154  0.060018 -0.082361 -0.078803   \n",
       "2   1.0 -1.358354 -1.340163  1.773209  0.379780 -0.503198  1.800499  0.791461   \n",
       "3   1.0 -0.966272 -0.185226  1.792993 -0.863291 -0.010309  1.247203  0.237609   \n",
       "4   2.0 -1.158233  0.877737  1.548718  0.403034 -0.407193  0.095921  0.592941   \n",
       "\n",
       "         V8        V9  ...       V21       V22       V23       V24       V25  \\\n",
       "0  0.098698  0.363787  ... -0.018307  0.277838 -0.110474  0.066928  0.128539   \n",
       "1  0.085102 -0.255425  ... -0.225775 -0.638672  0.101288 -0.339846  0.167170   \n",
       "2  0.247676 -1.514654  ...  0.247998  0.771679  0.909412 -0.689281 -0.327642   \n",
       "3  0.377436 -1.387024  ... -0.108300  0.005274 -0.190321 -1.175575  0.647376   \n",
       "4 -0.270533  0.817739  ... -0.009431  0.798278 -0.137458  0.141267 -0.206010   \n",
       "\n",
       "        V26       V27       V28  Amount  Class  \n",
       "0 -0.189115  0.133558 -0.021053  149.62      0  \n",
       "1  0.125895 -0.008983  0.014724    2.69      0  \n",
       "2 -0.139097 -0.055353 -0.059752  378.66      0  \n",
       "3 -0.221929  0.062723  0.061458  123.50      0  \n",
       "4  0.502292  0.219422  0.215153   69.99      0  \n",
       "\n",
       "[5 rows x 31 columns]"
      ]
     },
     "execution_count": 61,
     "metadata": {},
     "output_type": "execute_result"
    }
   ],
   "source": [
    "creditcard = pd.read_csv(\"creditcard.csv\")\n",
    "creditcard.head()"
   ]
  },
  {
   "cell_type": "code",
   "execution_count": 62,
   "metadata": {},
   "outputs": [
    {
     "name": "stdout",
     "output_type": "stream",
     "text": [
      "<class 'pandas.core.frame.DataFrame'>\n",
      "RangeIndex: 284807 entries, 0 to 284806\n",
      "Data columns (total 31 columns):\n",
      " #   Column  Non-Null Count   Dtype  \n",
      "---  ------  --------------   -----  \n",
      " 0   Time    284807 non-null  float64\n",
      " 1   V1      284807 non-null  float64\n",
      " 2   V2      284807 non-null  float64\n",
      " 3   V3      284807 non-null  float64\n",
      " 4   V4      284807 non-null  float64\n",
      " 5   V5      284807 non-null  float64\n",
      " 6   V6      284807 non-null  float64\n",
      " 7   V7      284807 non-null  float64\n",
      " 8   V8      284807 non-null  float64\n",
      " 9   V9      284807 non-null  float64\n",
      " 10  V10     284807 non-null  float64\n",
      " 11  V11     284807 non-null  float64\n",
      " 12  V12     284807 non-null  float64\n",
      " 13  V13     284807 non-null  float64\n",
      " 14  V14     284807 non-null  float64\n",
      " 15  V15     284807 non-null  float64\n",
      " 16  V16     284807 non-null  float64\n",
      " 17  V17     284807 non-null  float64\n",
      " 18  V18     284807 non-null  float64\n",
      " 19  V19     284807 non-null  float64\n",
      " 20  V20     284807 non-null  float64\n",
      " 21  V21     284807 non-null  float64\n",
      " 22  V22     284807 non-null  float64\n",
      " 23  V23     284807 non-null  float64\n",
      " 24  V24     284807 non-null  float64\n",
      " 25  V25     284807 non-null  float64\n",
      " 26  V26     284807 non-null  float64\n",
      " 27  V27     284807 non-null  float64\n",
      " 28  V28     284807 non-null  float64\n",
      " 29  Amount  284807 non-null  float64\n",
      " 30  Class   284807 non-null  int64  \n",
      "dtypes: float64(30), int64(1)\n",
      "memory usage: 67.4 MB\n"
     ]
    }
   ],
   "source": [
    "creditcard.info()"
   ]
  },
  {
   "cell_type": "code",
   "execution_count": 64,
   "metadata": {},
   "outputs": [
    {
     "data": {
      "text/plain": [
       "0    284315\n",
       "1       492\n",
       "Name: Class, dtype: int64"
      ]
     },
     "execution_count": 64,
     "metadata": {},
     "output_type": "execute_result"
    }
   ],
   "source": [
    "creditcard[\"Class\"].value_counts()"
   ]
  },
  {
   "cell_type": "code",
   "execution_count": null,
   "metadata": {},
   "outputs": [],
   "source": []
  }
 ],
 "metadata": {
  "kernelspec": {
   "display_name": "Python 3",
   "language": "python",
   "name": "python3"
  },
  "language_info": {
   "codemirror_mode": {
    "name": "ipython",
    "version": 3
   },
   "file_extension": ".py",
   "mimetype": "text/x-python",
   "name": "python",
   "nbconvert_exporter": "python",
   "pygments_lexer": "ipython3",
   "version": "3.7.3"
  }
 },
 "nbformat": 4,
 "nbformat_minor": 2
}
