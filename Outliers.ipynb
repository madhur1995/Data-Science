{
 "cells": [
  {
   "cell_type": "code",
   "execution_count": 21,
   "id": "71984cdb-5f0c-456b-b31b-45004a107e27",
   "metadata": {},
   "outputs": [],
   "source": [
    "import pandas as pd\n",
    "import matplotlib.pyplot as plt"
   ]
  },
  {
   "cell_type": "code",
   "execution_count": 3,
   "id": "96e1e2b6-1448-4556-a5ad-7b50280b44e5",
   "metadata": {},
   "outputs": [
    {
     "data": {
      "text/html": [
       "<div>\n",
       "<style scoped>\n",
       "    .dataframe tbody tr th:only-of-type {\n",
       "        vertical-align: middle;\n",
       "    }\n",
       "\n",
       "    .dataframe tbody tr th {\n",
       "        vertical-align: top;\n",
       "    }\n",
       "\n",
       "    .dataframe thead th {\n",
       "        text-align: right;\n",
       "    }\n",
       "</style>\n",
       "<table border=\"1\" class=\"dataframe\">\n",
       "  <thead>\n",
       "    <tr style=\"text-align: right;\">\n",
       "      <th></th>\n",
       "      <th>Date</th>\n",
       "      <th>RegionID</th>\n",
       "      <th>RegionName</th>\n",
       "      <th>State</th>\n",
       "      <th>Metro</th>\n",
       "      <th>County</th>\n",
       "      <th>SizeRank</th>\n",
       "      <th>Price</th>\n",
       "    </tr>\n",
       "  </thead>\n",
       "  <tbody>\n",
       "    <tr>\n",
       "      <th>0</th>\n",
       "      <td>2017-05-31</td>\n",
       "      <td>6181</td>\n",
       "      <td>New York</td>\n",
       "      <td>NY</td>\n",
       "      <td>New York</td>\n",
       "      <td>Queens</td>\n",
       "      <td>0</td>\n",
       "      <td>672400</td>\n",
       "    </tr>\n",
       "    <tr>\n",
       "      <th>1</th>\n",
       "      <td>2017-05-31</td>\n",
       "      <td>12447</td>\n",
       "      <td>Los Angeles</td>\n",
       "      <td>CA</td>\n",
       "      <td>Los Angeles-Long Beach-Anaheim</td>\n",
       "      <td>Los Angeles</td>\n",
       "      <td>1</td>\n",
       "      <td>629900</td>\n",
       "    </tr>\n",
       "    <tr>\n",
       "      <th>2</th>\n",
       "      <td>2017-05-31</td>\n",
       "      <td>17426</td>\n",
       "      <td>Chicago</td>\n",
       "      <td>IL</td>\n",
       "      <td>Chicago</td>\n",
       "      <td>Cook</td>\n",
       "      <td>2</td>\n",
       "      <td>222700</td>\n",
       "    </tr>\n",
       "    <tr>\n",
       "      <th>3</th>\n",
       "      <td>2017-05-31</td>\n",
       "      <td>13271</td>\n",
       "      <td>Philadelphia</td>\n",
       "      <td>PA</td>\n",
       "      <td>Philadelphia</td>\n",
       "      <td>Philadelphia</td>\n",
       "      <td>3</td>\n",
       "      <td>137300</td>\n",
       "    </tr>\n",
       "    <tr>\n",
       "      <th>4</th>\n",
       "      <td>2017-05-31</td>\n",
       "      <td>40326</td>\n",
       "      <td>Phoenix</td>\n",
       "      <td>AZ</td>\n",
       "      <td>Phoenix</td>\n",
       "      <td>Maricopa</td>\n",
       "      <td>4</td>\n",
       "      <td>211300</td>\n",
       "    </tr>\n",
       "    <tr>\n",
       "      <th>...</th>\n",
       "      <td>...</td>\n",
       "      <td>...</td>\n",
       "      <td>...</td>\n",
       "      <td>...</td>\n",
       "      <td>...</td>\n",
       "      <td>...</td>\n",
       "      <td>...</td>\n",
       "      <td>...</td>\n",
       "    </tr>\n",
       "    <tr>\n",
       "      <th>10825</th>\n",
       "      <td>2017-05-31</td>\n",
       "      <td>26077</td>\n",
       "      <td>Nehalem</td>\n",
       "      <td>OR</td>\n",
       "      <td>NaN</td>\n",
       "      <td>Tillamook</td>\n",
       "      <td>10825</td>\n",
       "      <td>392200</td>\n",
       "    </tr>\n",
       "    <tr>\n",
       "      <th>10826</th>\n",
       "      <td>2017-05-31</td>\n",
       "      <td>24105</td>\n",
       "      <td>Clear Lake Shores</td>\n",
       "      <td>TX</td>\n",
       "      <td>Houston</td>\n",
       "      <td>Galveston</td>\n",
       "      <td>10826</td>\n",
       "      <td>191900</td>\n",
       "    </tr>\n",
       "    <tr>\n",
       "      <th>10827</th>\n",
       "      <td>2017-05-31</td>\n",
       "      <td>737788</td>\n",
       "      <td>Lebanon Borough</td>\n",
       "      <td>NJ</td>\n",
       "      <td>New York</td>\n",
       "      <td>Hunterdon</td>\n",
       "      <td>10827</td>\n",
       "      <td>231100</td>\n",
       "    </tr>\n",
       "    <tr>\n",
       "      <th>10828</th>\n",
       "      <td>2017-05-31</td>\n",
       "      <td>182023</td>\n",
       "      <td>Henrico</td>\n",
       "      <td>VA</td>\n",
       "      <td>Richmond</td>\n",
       "      <td>Henrico</td>\n",
       "      <td>10828</td>\n",
       "      <td>230800</td>\n",
       "    </tr>\n",
       "    <tr>\n",
       "      <th>10829</th>\n",
       "      <td>2017-05-31</td>\n",
       "      <td>51793</td>\n",
       "      <td>East Hampstead</td>\n",
       "      <td>NH</td>\n",
       "      <td>Boston</td>\n",
       "      <td>Rockingham</td>\n",
       "      <td>10829</td>\n",
       "      <td>296400</td>\n",
       "    </tr>\n",
       "  </tbody>\n",
       "</table>\n",
       "<p>10830 rows × 8 columns</p>\n",
       "</div>"
      ],
      "text/plain": [
       "             Date  RegionID         RegionName State  \\\n",
       "0      2017-05-31      6181           New York    NY   \n",
       "1      2017-05-31     12447        Los Angeles    CA   \n",
       "2      2017-05-31     17426            Chicago    IL   \n",
       "3      2017-05-31     13271       Philadelphia    PA   \n",
       "4      2017-05-31     40326            Phoenix    AZ   \n",
       "...           ...       ...                ...   ...   \n",
       "10825  2017-05-31     26077            Nehalem    OR   \n",
       "10826  2017-05-31     24105  Clear Lake Shores    TX   \n",
       "10827  2017-05-31    737788    Lebanon Borough    NJ   \n",
       "10828  2017-05-31    182023            Henrico    VA   \n",
       "10829  2017-05-31     51793     East Hampstead    NH   \n",
       "\n",
       "                                Metro        County  SizeRank   Price  \n",
       "0                            New York        Queens         0  672400  \n",
       "1      Los Angeles-Long Beach-Anaheim   Los Angeles         1  629900  \n",
       "2                             Chicago          Cook         2  222700  \n",
       "3                        Philadelphia  Philadelphia         3  137300  \n",
       "4                             Phoenix      Maricopa         4  211300  \n",
       "...                               ...           ...       ...     ...  \n",
       "10825                             NaN     Tillamook     10825  392200  \n",
       "10826                         Houston     Galveston     10826  191900  \n",
       "10827                        New York     Hunterdon     10827  231100  \n",
       "10828                        Richmond       Henrico     10828  230800  \n",
       "10829                          Boston    Rockingham     10829  296400  \n",
       "\n",
       "[10830 rows x 8 columns]"
      ]
     },
     "execution_count": 3,
     "metadata": {},
     "output_type": "execute_result"
    }
   ],
   "source": [
    "df=pd.read_csv(\"data-zillow.csv\")\n",
    "df"
   ]
  },
  {
   "cell_type": "code",
   "execution_count": 5,
   "id": "cf723af5-7bab-40ec-8ab7-7ca1699470d0",
   "metadata": {},
   "outputs": [
    {
     "data": {
      "text/plain": [
       "(10830, 8)"
      ]
     },
     "execution_count": 5,
     "metadata": {},
     "output_type": "execute_result"
    }
   ],
   "source": [
    "df.shape"
   ]
  },
  {
   "cell_type": "code",
   "execution_count": 6,
   "id": "2c1b185c-49aa-40b1-892e-466711ab284a",
   "metadata": {},
   "outputs": [
    {
     "data": {
      "text/html": [
       "<div>\n",
       "<style scoped>\n",
       "    .dataframe tbody tr th:only-of-type {\n",
       "        vertical-align: middle;\n",
       "    }\n",
       "\n",
       "    .dataframe tbody tr th {\n",
       "        vertical-align: top;\n",
       "    }\n",
       "\n",
       "    .dataframe thead th {\n",
       "        text-align: right;\n",
       "    }\n",
       "</style>\n",
       "<table border=\"1\" class=\"dataframe\">\n",
       "  <thead>\n",
       "    <tr style=\"text-align: right;\">\n",
       "      <th></th>\n",
       "      <th>Date</th>\n",
       "      <th>RegionID</th>\n",
       "      <th>RegionName</th>\n",
       "      <th>State</th>\n",
       "      <th>Metro</th>\n",
       "      <th>County</th>\n",
       "      <th>SizeRank</th>\n",
       "      <th>Price</th>\n",
       "    </tr>\n",
       "  </thead>\n",
       "  <tbody>\n",
       "    <tr>\n",
       "      <th>0</th>\n",
       "      <td>2017-05-31</td>\n",
       "      <td>6181</td>\n",
       "      <td>New York</td>\n",
       "      <td>NY</td>\n",
       "      <td>New York</td>\n",
       "      <td>Queens</td>\n",
       "      <td>0</td>\n",
       "      <td>672400</td>\n",
       "    </tr>\n",
       "    <tr>\n",
       "      <th>1</th>\n",
       "      <td>2017-05-31</td>\n",
       "      <td>12447</td>\n",
       "      <td>Los Angeles</td>\n",
       "      <td>CA</td>\n",
       "      <td>Los Angeles-Long Beach-Anaheim</td>\n",
       "      <td>Los Angeles</td>\n",
       "      <td>1</td>\n",
       "      <td>629900</td>\n",
       "    </tr>\n",
       "    <tr>\n",
       "      <th>2</th>\n",
       "      <td>2017-05-31</td>\n",
       "      <td>17426</td>\n",
       "      <td>Chicago</td>\n",
       "      <td>IL</td>\n",
       "      <td>Chicago</td>\n",
       "      <td>Cook</td>\n",
       "      <td>2</td>\n",
       "      <td>222700</td>\n",
       "    </tr>\n",
       "    <tr>\n",
       "      <th>3</th>\n",
       "      <td>2017-05-31</td>\n",
       "      <td>13271</td>\n",
       "      <td>Philadelphia</td>\n",
       "      <td>PA</td>\n",
       "      <td>Philadelphia</td>\n",
       "      <td>Philadelphia</td>\n",
       "      <td>3</td>\n",
       "      <td>137300</td>\n",
       "    </tr>\n",
       "    <tr>\n",
       "      <th>4</th>\n",
       "      <td>2017-05-31</td>\n",
       "      <td>40326</td>\n",
       "      <td>Phoenix</td>\n",
       "      <td>AZ</td>\n",
       "      <td>Phoenix</td>\n",
       "      <td>Maricopa</td>\n",
       "      <td>4</td>\n",
       "      <td>211300</td>\n",
       "    </tr>\n",
       "  </tbody>\n",
       "</table>\n",
       "</div>"
      ],
      "text/plain": [
       "         Date  RegionID    RegionName State                           Metro  \\\n",
       "0  2017-05-31      6181      New York    NY                        New York   \n",
       "1  2017-05-31     12447   Los Angeles    CA  Los Angeles-Long Beach-Anaheim   \n",
       "2  2017-05-31     17426       Chicago    IL                         Chicago   \n",
       "3  2017-05-31     13271  Philadelphia    PA                    Philadelphia   \n",
       "4  2017-05-31     40326       Phoenix    AZ                         Phoenix   \n",
       "\n",
       "         County  SizeRank   Price  \n",
       "0        Queens         0  672400  \n",
       "1   Los Angeles         1  629900  \n",
       "2          Cook         2  222700  \n",
       "3  Philadelphia         3  137300  \n",
       "4      Maricopa         4  211300  "
      ]
     },
     "execution_count": 6,
     "metadata": {},
     "output_type": "execute_result"
    }
   ],
   "source": [
    "df.head()"
   ]
  },
  {
   "cell_type": "code",
   "execution_count": 7,
   "id": "80c4850d-551c-4bf7-9dae-cc7dbb9aa714",
   "metadata": {},
   "outputs": [
    {
     "data": {
      "text/plain": [
       "0            0\n",
       "1            1\n",
       "2            2\n",
       "3            3\n",
       "4            4\n",
       "         ...  \n",
       "10825    10825\n",
       "10826    10826\n",
       "10827    10827\n",
       "10828    10828\n",
       "10829    10829\n",
       "Name: SizeRank, Length: 10830, dtype: int64"
      ]
     },
     "execution_count": 7,
     "metadata": {},
     "output_type": "execute_result"
    }
   ],
   "source": [
    "df[\"SizeRank\"]"
   ]
  },
  {
   "cell_type": "code",
   "execution_count": 11,
   "id": "f1d847b5-8e48-429d-a22b-e8ee61e9f31e",
   "metadata": {},
   "outputs": [
    {
     "data": {
      "text/plain": [
       "2047    1\n",
       "5416    1\n",
       "3379    1\n",
       "1330    1\n",
       "7473    1\n",
       "       ..\n",
       "2652    1\n",
       "8793    1\n",
       "4695    1\n",
       "6742    1\n",
       "0       1\n",
       "Name: SizeRank, Length: 10830, dtype: int64"
      ]
     },
     "execution_count": 11,
     "metadata": {},
     "output_type": "execute_result"
    }
   ],
   "source": [
    "df[\"SizeRank\"].value_counts()"
   ]
  },
  {
   "cell_type": "code",
   "execution_count": 12,
   "id": "462d923b-c91c-492d-9015-74b8007f92a3",
   "metadata": {},
   "outputs": [
    {
     "name": "stdout",
     "output_type": "stream",
     "text": [
      "<class 'pandas.core.frame.DataFrame'>\n",
      "RangeIndex: 10830 entries, 0 to 10829\n",
      "Data columns (total 8 columns):\n",
      " #   Column      Non-Null Count  Dtype \n",
      "---  ------      --------------  ----- \n",
      " 0   Date        10830 non-null  object\n",
      " 1   RegionID    10830 non-null  int64 \n",
      " 2   RegionName  10830 non-null  object\n",
      " 3   State       10830 non-null  object\n",
      " 4   Metro       10256 non-null  object\n",
      " 5   County      10830 non-null  object\n",
      " 6   SizeRank    10830 non-null  int64 \n",
      " 7   Price       10830 non-null  int64 \n",
      "dtypes: int64(3), object(5)\n",
      "memory usage: 677.0+ KB\n"
     ]
    }
   ],
   "source": [
    "df.info()"
   ]
  },
  {
   "cell_type": "code",
   "execution_count": 13,
   "id": "6e9b5886-8866-4f76-a9a9-26b7526aa4e3",
   "metadata": {},
   "outputs": [
    {
     "data": {
      "text/html": [
       "<div>\n",
       "<style scoped>\n",
       "    .dataframe tbody tr th:only-of-type {\n",
       "        vertical-align: middle;\n",
       "    }\n",
       "\n",
       "    .dataframe tbody tr th {\n",
       "        vertical-align: top;\n",
       "    }\n",
       "\n",
       "    .dataframe thead th {\n",
       "        text-align: right;\n",
       "    }\n",
       "</style>\n",
       "<table border=\"1\" class=\"dataframe\">\n",
       "  <thead>\n",
       "    <tr style=\"text-align: right;\">\n",
       "      <th></th>\n",
       "      <th>Date</th>\n",
       "      <th>RegionID</th>\n",
       "      <th>RegionName</th>\n",
       "      <th>State</th>\n",
       "      <th>Metro</th>\n",
       "      <th>County</th>\n",
       "      <th>SizeRank</th>\n",
       "      <th>Price</th>\n",
       "    </tr>\n",
       "  </thead>\n",
       "  <tbody>\n",
       "    <tr>\n",
       "      <th>10825</th>\n",
       "      <td>2017-05-31</td>\n",
       "      <td>26077</td>\n",
       "      <td>Nehalem</td>\n",
       "      <td>OR</td>\n",
       "      <td>NaN</td>\n",
       "      <td>Tillamook</td>\n",
       "      <td>10825</td>\n",
       "      <td>392200</td>\n",
       "    </tr>\n",
       "    <tr>\n",
       "      <th>10826</th>\n",
       "      <td>2017-05-31</td>\n",
       "      <td>24105</td>\n",
       "      <td>Clear Lake Shores</td>\n",
       "      <td>TX</td>\n",
       "      <td>Houston</td>\n",
       "      <td>Galveston</td>\n",
       "      <td>10826</td>\n",
       "      <td>191900</td>\n",
       "    </tr>\n",
       "    <tr>\n",
       "      <th>10827</th>\n",
       "      <td>2017-05-31</td>\n",
       "      <td>737788</td>\n",
       "      <td>Lebanon Borough</td>\n",
       "      <td>NJ</td>\n",
       "      <td>New York</td>\n",
       "      <td>Hunterdon</td>\n",
       "      <td>10827</td>\n",
       "      <td>231100</td>\n",
       "    </tr>\n",
       "    <tr>\n",
       "      <th>10828</th>\n",
       "      <td>2017-05-31</td>\n",
       "      <td>182023</td>\n",
       "      <td>Henrico</td>\n",
       "      <td>VA</td>\n",
       "      <td>Richmond</td>\n",
       "      <td>Henrico</td>\n",
       "      <td>10828</td>\n",
       "      <td>230800</td>\n",
       "    </tr>\n",
       "    <tr>\n",
       "      <th>10829</th>\n",
       "      <td>2017-05-31</td>\n",
       "      <td>51793</td>\n",
       "      <td>East Hampstead</td>\n",
       "      <td>NH</td>\n",
       "      <td>Boston</td>\n",
       "      <td>Rockingham</td>\n",
       "      <td>10829</td>\n",
       "      <td>296400</td>\n",
       "    </tr>\n",
       "  </tbody>\n",
       "</table>\n",
       "</div>"
      ],
      "text/plain": [
       "             Date  RegionID         RegionName State     Metro      County  \\\n",
       "10825  2017-05-31     26077            Nehalem    OR       NaN   Tillamook   \n",
       "10826  2017-05-31     24105  Clear Lake Shores    TX   Houston   Galveston   \n",
       "10827  2017-05-31    737788    Lebanon Borough    NJ  New York   Hunterdon   \n",
       "10828  2017-05-31    182023            Henrico    VA  Richmond     Henrico   \n",
       "10829  2017-05-31     51793     East Hampstead    NH    Boston  Rockingham   \n",
       "\n",
       "       SizeRank   Price  \n",
       "10825     10825  392200  \n",
       "10826     10826  191900  \n",
       "10827     10827  231100  \n",
       "10828     10828  230800  \n",
       "10829     10829  296400  "
      ]
     },
     "execution_count": 13,
     "metadata": {},
     "output_type": "execute_result"
    }
   ],
   "source": [
    "df.tail()"
   ]
  },
  {
   "cell_type": "code",
   "execution_count": 14,
   "id": "c1c0329a-9fcc-4c87-8e11-6dea206d2394",
   "metadata": {},
   "outputs": [
    {
     "data": {
      "text/html": [
       "<div>\n",
       "<style scoped>\n",
       "    .dataframe tbody tr th:only-of-type {\n",
       "        vertical-align: middle;\n",
       "    }\n",
       "\n",
       "    .dataframe tbody tr th {\n",
       "        vertical-align: top;\n",
       "    }\n",
       "\n",
       "    .dataframe thead th {\n",
       "        text-align: right;\n",
       "    }\n",
       "</style>\n",
       "<table border=\"1\" class=\"dataframe\">\n",
       "  <thead>\n",
       "    <tr style=\"text-align: right;\">\n",
       "      <th></th>\n",
       "      <th>RegionID</th>\n",
       "      <th>SizeRank</th>\n",
       "      <th>Price</th>\n",
       "    </tr>\n",
       "  </thead>\n",
       "  <tbody>\n",
       "    <tr>\n",
       "      <th>count</th>\n",
       "      <td>10830.000000</td>\n",
       "      <td>10830.000000</td>\n",
       "      <td>1.083000e+04</td>\n",
       "    </tr>\n",
       "    <tr>\n",
       "      <th>mean</th>\n",
       "      <td>84344.818837</td>\n",
       "      <td>5414.500000</td>\n",
       "      <td>2.503076e+05</td>\n",
       "    </tr>\n",
       "    <tr>\n",
       "      <th>std</th>\n",
       "      <td>125679.686534</td>\n",
       "      <td>3126.496042</td>\n",
       "      <td>2.565582e+05</td>\n",
       "    </tr>\n",
       "    <tr>\n",
       "      <th>min</th>\n",
       "      <td>3301.000000</td>\n",
       "      <td>0.000000</td>\n",
       "      <td>3.740000e+04</td>\n",
       "    </tr>\n",
       "    <tr>\n",
       "      <th>25%</th>\n",
       "      <td>19346.250000</td>\n",
       "      <td>2707.250000</td>\n",
       "      <td>1.269000e+05</td>\n",
       "    </tr>\n",
       "    <tr>\n",
       "      <th>50%</th>\n",
       "      <td>35444.500000</td>\n",
       "      <td>5414.500000</td>\n",
       "      <td>1.818000e+05</td>\n",
       "    </tr>\n",
       "    <tr>\n",
       "      <th>75%</th>\n",
       "      <td>52608.250000</td>\n",
       "      <td>8121.750000</td>\n",
       "      <td>2.823500e+05</td>\n",
       "    </tr>\n",
       "    <tr>\n",
       "      <th>max</th>\n",
       "      <td>737791.000000</td>\n",
       "      <td>10829.000000</td>\n",
       "      <td>6.343800e+06</td>\n",
       "    </tr>\n",
       "  </tbody>\n",
       "</table>\n",
       "</div>"
      ],
      "text/plain": [
       "            RegionID      SizeRank         Price\n",
       "count   10830.000000  10830.000000  1.083000e+04\n",
       "mean    84344.818837   5414.500000  2.503076e+05\n",
       "std    125679.686534   3126.496042  2.565582e+05\n",
       "min      3301.000000      0.000000  3.740000e+04\n",
       "25%     19346.250000   2707.250000  1.269000e+05\n",
       "50%     35444.500000   5414.500000  1.818000e+05\n",
       "75%     52608.250000   8121.750000  2.823500e+05\n",
       "max    737791.000000  10829.000000  6.343800e+06"
      ]
     },
     "execution_count": 14,
     "metadata": {},
     "output_type": "execute_result"
    }
   ],
   "source": [
    "df.describe()"
   ]
  },
  {
   "cell_type": "code",
   "execution_count": 15,
   "id": "ae22da89-674a-4cee-b8d2-acebae06f42c",
   "metadata": {},
   "outputs": [
    {
     "name": "stdout",
     "output_type": "stream",
     "text": [
      "RegionID     33262.0\n",
      "SizeRank      5414.5\n",
      "Price       155450.0\n",
      "dtype: float64\n"
     ]
    }
   ],
   "source": [
    "Q1 = df.quantile(0.25)\n",
    "Q3 = df.quantile(0.75)\n",
    "IQR = Q3 - Q1\n",
    "print(IQR)"
   ]
  },
  {
   "cell_type": "code",
   "execution_count": 16,
   "id": "87cc6be6-ba1a-4757-b294-e12f7d535279",
   "metadata": {},
   "outputs": [
    {
     "data": {
      "text/plain": [
       "RegionID     19346.25\n",
       "SizeRank      2707.25\n",
       "Price       126900.00\n",
       "Name: 0.25, dtype: float64"
      ]
     },
     "execution_count": 16,
     "metadata": {},
     "output_type": "execute_result"
    }
   ],
   "source": [
    "Q1"
   ]
  },
  {
   "cell_type": "code",
   "execution_count": 17,
   "id": "39be23da-bf13-4da5-a734-79c914aadff0",
   "metadata": {},
   "outputs": [
    {
     "data": {
      "text/plain": [
       "RegionID     52608.25\n",
       "SizeRank      8121.75\n",
       "Price       282350.00\n",
       "Name: 0.75, dtype: float64"
      ]
     },
     "execution_count": 17,
     "metadata": {},
     "output_type": "execute_result"
    }
   ],
   "source": [
    "Q3"
   ]
  },
  {
   "cell_type": "code",
   "execution_count": 18,
   "id": "24763b4b-8eec-4a5f-9b76-31c24bb70fb7",
   "metadata": {},
   "outputs": [
    {
     "data": {
      "text/plain": [
       "6.71481060008079"
      ]
     },
     "execution_count": 18,
     "metadata": {},
     "output_type": "execute_result"
    }
   ],
   "source": [
    "df['Price'].skew()"
   ]
  },
  {
   "cell_type": "code",
   "execution_count": 19,
   "id": "7cfd85c8-13f9-4c7d-bc86-e1616bc22bc7",
   "metadata": {},
   "outputs": [
    {
     "data": {
      "text/plain": [
       "count    1.083000e+04\n",
       "mean     2.503076e+05\n",
       "std      2.565582e+05\n",
       "min      3.740000e+04\n",
       "25%      1.269000e+05\n",
       "50%      1.818000e+05\n",
       "75%      2.823500e+05\n",
       "max      6.343800e+06\n",
       "Name: Price, dtype: float64"
      ]
     },
     "execution_count": 19,
     "metadata": {},
     "output_type": "execute_result"
    }
   ],
   "source": [
    "df['Price'].describe()"
   ]
  },
  {
   "cell_type": "code",
   "execution_count": 22,
   "id": "49c8c9bd-d4f4-48c4-a2bb-deb756595619",
   "metadata": {},
   "outputs": [
    {
     "data": {
      "image/png": "[encoded data removed]",
      "text/plain": [
       "<Figure size 432x288 with 1 Axes>"
      ]
     },
     "metadata": {
      "needs_background": "light"
     },
     "output_type": "display_data"
    }
   ],
   "source": [
    "plt.boxplot(df[\"Price\"])\n",
    "plt.show()"
   ]
  },
  {
   "cell_type": "code",
   "execution_count": 23,
   "id": "6afcd45e-6bfa-488a-a250-0e8891508c59",
   "metadata": {},
   "outputs": [
    {
     "data": {
      "text/plain": [
       "<AxesSubplot:>"
      ]
     },
     "execution_count": 23,
     "metadata": {},
     "output_type": "execute_result"
    },
    {
     "data": {
      "image/png": "[encoded data removed]",
      "text/plain": [
       "<Figure size 432x288 with 1 Axes>"
      ]
     },
     "metadata": {
      "needs_background": "light"
     },
     "output_type": "display_data"
    }
   ],
   "source": [
    "df.Price.hist()"
   ]
  },
  {
   "cell_type": "code",
   "execution_count": 24,
   "id": "17c0ba29-8f5c-4655-85d8-0b5650e5dd53",
   "metadata": {},
   "outputs": [
    {
     "data": {
      "image/png": "[encoded data removed]",
      "text/plain": [
       "<Figure size 432x288 with 1 Axes>"
      ]
     },
     "metadata": {
      "needs_background": "light"
     },
     "output_type": "display_data"
    }
   ],
   "source": [
    "plt.boxplot(df[\"SizeRank\"])\n",
    "plt.show()"
   ]
  },
  {
   "cell_type": "code",
   "execution_count": 25,
   "id": "90812a4e-836b-4f0d-bfaa-6de38d2b1554",
   "metadata": {},
   "outputs": [
    {
     "data": {
      "image/png": "[encoded data removed]",
      "text/plain": [
       "<Figure size 432x288 with 1 Axes>"
      ]
     },
     "metadata": {
      "needs_background": "light"
     },
     "output_type": "display_data"
    }
   ],
   "source": [
    "plt.boxplot(df[\"RegionID\"])\n",
    "plt.show()"
   ]
  },
  {
   "cell_type": "code",
   "execution_count": null,
   "id": "16a38a17-c375-44bd-b293-6544fa3f255f",
   "metadata": {},
   "outputs": [],
   "source": []
  }
 ],
 "metadata": {
  "kernelspec": {
   "display_name": "Python",
   "language": "python",
   "name": "conda-env-python-py"
  },
  "language_info": {
   "codemirror_mode": {
    "name": "ipython",
    "version": 3
   },
   "file_extension": ".py",
   "mimetype": "text/x-python",
   "name": "python",
   "nbconvert_exporter": "python",
   "pygments_lexer": "ipython3",
   "version": "3.6.13"
  }
 },
 "nbformat": 4,
 "nbformat_minor": 5
}
