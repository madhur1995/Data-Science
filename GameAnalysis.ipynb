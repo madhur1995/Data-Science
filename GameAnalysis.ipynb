{
 "cells": [
  {
   "cell_type": "code",
   "execution_count": 8,
   "id": "e00fd4e4-231a-4bd2-a6a6-47828b83d836",
   "metadata": {},
   "outputs": [],
   "source": [
    "import pandas as pd\n",
    "import seaborn as sns"
   ]
  },
  {
   "cell_type": "code",
   "execution_count": 3,
   "id": "923a3fff-a96f-4666-883d-329dff2cb7bd",
   "metadata": {},
   "outputs": [
    {
     "data": {
      "text/html": [
       "<div>\n",
       "<style scoped>\n",
       "    .dataframe tbody tr th:only-of-type {\n",
       "        vertical-align: middle;\n",
       "    }\n",
       "\n",
       "    .dataframe tbody tr th {\n",
       "        vertical-align: top;\n",
       "    }\n",
       "\n",
       "    .dataframe thead th {\n",
       "        text-align: right;\n",
       "    }\n",
       "</style>\n",
       "<table border=\"1\" class=\"dataframe\">\n",
       "  <thead>\n",
       "    <tr style=\"text-align: right;\">\n",
       "      <th></th>\n",
       "      <th>id</th>\n",
       "      <th>type</th>\n",
       "      <th>name</th>\n",
       "      <th>yearpublished</th>\n",
       "      <th>minplayers</th>\n",
       "      <th>maxplayers</th>\n",
       "      <th>playingtime</th>\n",
       "      <th>minplaytime</th>\n",
       "      <th>maxplaytime</th>\n",
       "      <th>minage</th>\n",
       "      <th>users_rated</th>\n",
       "      <th>average_rating</th>\n",
       "      <th>bayes_average_rating</th>\n",
       "      <th>total_owners</th>\n",
       "      <th>total_traders</th>\n",
       "      <th>total_wanters</th>\n",
       "      <th>total_wishers</th>\n",
       "      <th>total_comments</th>\n",
       "      <th>total_weights</th>\n",
       "      <th>average_weight</th>\n",
       "    </tr>\n",
       "  </thead>\n",
       "  <tbody>\n",
       "    <tr>\n",
       "      <th>0</th>\n",
       "      <td>12333</td>\n",
       "      <td>boardgame</td>\n",
       "      <td>Twilight Struggle</td>\n",
       "      <td>2005.0</td>\n",
       "      <td>2.0</td>\n",
       "      <td>2.0</td>\n",
       "      <td>180.0</td>\n",
       "      <td>180.0</td>\n",
       "      <td>180.0</td>\n",
       "      <td>13.0</td>\n",
       "      <td>20113.0</td>\n",
       "      <td>8.33774</td>\n",
       "      <td>8.22186</td>\n",
       "      <td>26647.0</td>\n",
       "      <td>372.0</td>\n",
       "      <td>1219.0</td>\n",
       "      <td>5865.0</td>\n",
       "      <td>5347.0</td>\n",
       "      <td>2562.0</td>\n",
       "      <td>3.4785</td>\n",
       "    </tr>\n",
       "    <tr>\n",
       "      <th>1</th>\n",
       "      <td>120677</td>\n",
       "      <td>boardgame</td>\n",
       "      <td>Terra Mystica</td>\n",
       "      <td>2012.0</td>\n",
       "      <td>2.0</td>\n",
       "      <td>5.0</td>\n",
       "      <td>150.0</td>\n",
       "      <td>60.0</td>\n",
       "      <td>150.0</td>\n",
       "      <td>12.0</td>\n",
       "      <td>14383.0</td>\n",
       "      <td>8.28798</td>\n",
       "      <td>8.14232</td>\n",
       "      <td>16519.0</td>\n",
       "      <td>132.0</td>\n",
       "      <td>1586.0</td>\n",
       "      <td>6277.0</td>\n",
       "      <td>2526.0</td>\n",
       "      <td>1423.0</td>\n",
       "      <td>3.8939</td>\n",
       "    </tr>\n",
       "    <tr>\n",
       "      <th>2</th>\n",
       "      <td>102794</td>\n",
       "      <td>boardgame</td>\n",
       "      <td>Caverna: The Cave Farmers</td>\n",
       "      <td>2013.0</td>\n",
       "      <td>1.0</td>\n",
       "      <td>7.0</td>\n",
       "      <td>210.0</td>\n",
       "      <td>30.0</td>\n",
       "      <td>210.0</td>\n",
       "      <td>12.0</td>\n",
       "      <td>9262.0</td>\n",
       "      <td>8.28994</td>\n",
       "      <td>8.06886</td>\n",
       "      <td>12230.0</td>\n",
       "      <td>99.0</td>\n",
       "      <td>1476.0</td>\n",
       "      <td>5600.0</td>\n",
       "      <td>1700.0</td>\n",
       "      <td>777.0</td>\n",
       "      <td>3.7761</td>\n",
       "    </tr>\n",
       "    <tr>\n",
       "      <th>3</th>\n",
       "      <td>25613</td>\n",
       "      <td>boardgame</td>\n",
       "      <td>Through the Ages: A Story of Civilization</td>\n",
       "      <td>2006.0</td>\n",
       "      <td>2.0</td>\n",
       "      <td>4.0</td>\n",
       "      <td>240.0</td>\n",
       "      <td>240.0</td>\n",
       "      <td>240.0</td>\n",
       "      <td>12.0</td>\n",
       "      <td>13294.0</td>\n",
       "      <td>8.20407</td>\n",
       "      <td>8.05804</td>\n",
       "      <td>14343.0</td>\n",
       "      <td>362.0</td>\n",
       "      <td>1084.0</td>\n",
       "      <td>5075.0</td>\n",
       "      <td>3378.0</td>\n",
       "      <td>1642.0</td>\n",
       "      <td>4.1590</td>\n",
       "    </tr>\n",
       "    <tr>\n",
       "      <th>4</th>\n",
       "      <td>3076</td>\n",
       "      <td>boardgame</td>\n",
       "      <td>Puerto Rico</td>\n",
       "      <td>2002.0</td>\n",
       "      <td>2.0</td>\n",
       "      <td>5.0</td>\n",
       "      <td>150.0</td>\n",
       "      <td>90.0</td>\n",
       "      <td>150.0</td>\n",
       "      <td>12.0</td>\n",
       "      <td>39883.0</td>\n",
       "      <td>8.14261</td>\n",
       "      <td>8.04524</td>\n",
       "      <td>44362.0</td>\n",
       "      <td>795.0</td>\n",
       "      <td>861.0</td>\n",
       "      <td>5414.0</td>\n",
       "      <td>9173.0</td>\n",
       "      <td>5213.0</td>\n",
       "      <td>3.2943</td>\n",
       "    </tr>\n",
       "    <tr>\n",
       "      <th>...</th>\n",
       "      <td>...</td>\n",
       "      <td>...</td>\n",
       "      <td>...</td>\n",
       "      <td>...</td>\n",
       "      <td>...</td>\n",
       "      <td>...</td>\n",
       "      <td>...</td>\n",
       "      <td>...</td>\n",
       "      <td>...</td>\n",
       "      <td>...</td>\n",
       "      <td>...</td>\n",
       "      <td>...</td>\n",
       "      <td>...</td>\n",
       "      <td>...</td>\n",
       "      <td>...</td>\n",
       "      <td>...</td>\n",
       "      <td>...</td>\n",
       "      <td>...</td>\n",
       "      <td>...</td>\n",
       "      <td>...</td>\n",
       "    </tr>\n",
       "    <tr>\n",
       "      <th>35720</th>\n",
       "      <td>32059</td>\n",
       "      <td>boardgame</td>\n",
       "      <td>Special Train</td>\n",
       "      <td>1948.0</td>\n",
       "      <td>2.0</td>\n",
       "      <td>2.0</td>\n",
       "      <td>40.0</td>\n",
       "      <td>40.0</td>\n",
       "      <td>40.0</td>\n",
       "      <td>0.0</td>\n",
       "      <td>1.0</td>\n",
       "      <td>8.00000</td>\n",
       "      <td>0.00000</td>\n",
       "      <td>1.0</td>\n",
       "      <td>0.0</td>\n",
       "      <td>1.0</td>\n",
       "      <td>1.0</td>\n",
       "      <td>0.0</td>\n",
       "      <td>0.0</td>\n",
       "      <td>0.0000</td>\n",
       "    </tr>\n",
       "    <tr>\n",
       "      <th>35721</th>\n",
       "      <td>32060</td>\n",
       "      <td>boardgame</td>\n",
       "      <td>Kwest: A Game of the Sea</td>\n",
       "      <td>0.0</td>\n",
       "      <td>2.0</td>\n",
       "      <td>2.0</td>\n",
       "      <td>40.0</td>\n",
       "      <td>40.0</td>\n",
       "      <td>40.0</td>\n",
       "      <td>0.0</td>\n",
       "      <td>1.0</td>\n",
       "      <td>5.00000</td>\n",
       "      <td>0.00000</td>\n",
       "      <td>2.0</td>\n",
       "      <td>0.0</td>\n",
       "      <td>2.0</td>\n",
       "      <td>2.0</td>\n",
       "      <td>0.0</td>\n",
       "      <td>0.0</td>\n",
       "      <td>0.0000</td>\n",
       "    </tr>\n",
       "    <tr>\n",
       "      <th>35722</th>\n",
       "      <td>32061</td>\n",
       "      <td>boardgame</td>\n",
       "      <td>Battle Royal</td>\n",
       "      <td>1945.0</td>\n",
       "      <td>2.0</td>\n",
       "      <td>4.0</td>\n",
       "      <td>40.0</td>\n",
       "      <td>40.0</td>\n",
       "      <td>40.0</td>\n",
       "      <td>0.0</td>\n",
       "      <td>2.0</td>\n",
       "      <td>5.50000</td>\n",
       "      <td>0.00000</td>\n",
       "      <td>9.0</td>\n",
       "      <td>0.0</td>\n",
       "      <td>2.0</td>\n",
       "      <td>1.0</td>\n",
       "      <td>1.0</td>\n",
       "      <td>0.0</td>\n",
       "      <td>0.0000</td>\n",
       "    </tr>\n",
       "    <tr>\n",
       "      <th>35723</th>\n",
       "      <td>32062</td>\n",
       "      <td>boardgame</td>\n",
       "      <td>Kirsch Royal</td>\n",
       "      <td>1987.0</td>\n",
       "      <td>2.0</td>\n",
       "      <td>4.0</td>\n",
       "      <td>40.0</td>\n",
       "      <td>40.0</td>\n",
       "      <td>40.0</td>\n",
       "      <td>0.0</td>\n",
       "      <td>0.0</td>\n",
       "      <td>0.00000</td>\n",
       "      <td>0.00000</td>\n",
       "      <td>3.0</td>\n",
       "      <td>0.0</td>\n",
       "      <td>1.0</td>\n",
       "      <td>1.0</td>\n",
       "      <td>0.0</td>\n",
       "      <td>0.0</td>\n",
       "      <td>0.0000</td>\n",
       "    </tr>\n",
       "    <tr>\n",
       "      <th>35724</th>\n",
       "      <td>32063</td>\n",
       "      <td>boardgame</td>\n",
       "      <td>Generic Outlandishly Big Spacefleets (G</td>\n",
       "      <td>NaN</td>\n",
       "      <td>NaN</td>\n",
       "      <td>NaN</td>\n",
       "      <td>NaN</td>\n",
       "      <td>NaN</td>\n",
       "      <td>NaN</td>\n",
       "      <td>NaN</td>\n",
       "      <td>NaN</td>\n",
       "      <td>NaN</td>\n",
       "      <td>NaN</td>\n",
       "      <td>NaN</td>\n",
       "      <td>NaN</td>\n",
       "      <td>NaN</td>\n",
       "      <td>NaN</td>\n",
       "      <td>NaN</td>\n",
       "      <td>NaN</td>\n",
       "      <td>NaN</td>\n",
       "    </tr>\n",
       "  </tbody>\n",
       "</table>\n",
       "<p>35725 rows × 20 columns</p>\n",
       "</div>"
      ],
      "text/plain": [
       "           id       type                                       name  \\\n",
       "0       12333  boardgame                          Twilight Struggle   \n",
       "1      120677  boardgame                              Terra Mystica   \n",
       "2      102794  boardgame                  Caverna: The Cave Farmers   \n",
       "3       25613  boardgame  Through the Ages: A Story of Civilization   \n",
       "4        3076  boardgame                                Puerto Rico   \n",
       "...       ...        ...                                        ...   \n",
       "35720   32059  boardgame                              Special Train   \n",
       "35721   32060  boardgame                   Kwest: A Game of the Sea   \n",
       "35722   32061  boardgame                               Battle Royal   \n",
       "35723   32062  boardgame                               Kirsch Royal   \n",
       "35724   32063  boardgame    Generic Outlandishly Big Spacefleets (G   \n",
       "\n",
       "       yearpublished  minplayers  maxplayers  playingtime  minplaytime  \\\n",
       "0             2005.0         2.0         2.0        180.0        180.0   \n",
       "1             2012.0         2.0         5.0        150.0         60.0   \n",
       "2             2013.0         1.0         7.0        210.0         30.0   \n",
       "3             2006.0         2.0         4.0        240.0        240.0   \n",
       "4             2002.0         2.0         5.0        150.0         90.0   \n",
       "...              ...         ...         ...          ...          ...   \n",
       "35720         1948.0         2.0         2.0         40.0         40.0   \n",
       "35721            0.0         2.0         2.0         40.0         40.0   \n",
       "35722         1945.0         2.0         4.0         40.0         40.0   \n",
       "35723         1987.0         2.0         4.0         40.0         40.0   \n",
       "35724            NaN         NaN         NaN          NaN          NaN   \n",
       "\n",
       "       maxplaytime  minage  users_rated  average_rating  bayes_average_rating  \\\n",
       "0            180.0    13.0      20113.0         8.33774               8.22186   \n",
       "1            150.0    12.0      14383.0         8.28798               8.14232   \n",
       "2            210.0    12.0       9262.0         8.28994               8.06886   \n",
       "3            240.0    12.0      13294.0         8.20407               8.05804   \n",
       "4            150.0    12.0      39883.0         8.14261               8.04524   \n",
       "...            ...     ...          ...             ...                   ...   \n",
       "35720         40.0     0.0          1.0         8.00000               0.00000   \n",
       "35721         40.0     0.0          1.0         5.00000               0.00000   \n",
       "35722         40.0     0.0          2.0         5.50000               0.00000   \n",
       "35723         40.0     0.0          0.0         0.00000               0.00000   \n",
       "35724          NaN     NaN          NaN             NaN                   NaN   \n",
       "\n",
       "       total_owners  total_traders  total_wanters  total_wishers  \\\n",
       "0           26647.0          372.0         1219.0         5865.0   \n",
       "1           16519.0          132.0         1586.0         6277.0   \n",
       "2           12230.0           99.0         1476.0         5600.0   \n",
       "3           14343.0          362.0         1084.0         5075.0   \n",
       "4           44362.0          795.0          861.0         5414.0   \n",
       "...             ...            ...            ...            ...   \n",
       "35720           1.0            0.0            1.0            1.0   \n",
       "35721           2.0            0.0            2.0            2.0   \n",
       "35722           9.0            0.0            2.0            1.0   \n",
       "35723           3.0            0.0            1.0            1.0   \n",
       "35724           NaN            NaN            NaN            NaN   \n",
       "\n",
       "       total_comments  total_weights  average_weight  \n",
       "0              5347.0         2562.0          3.4785  \n",
       "1              2526.0         1423.0          3.8939  \n",
       "2              1700.0          777.0          3.7761  \n",
       "3              3378.0         1642.0          4.1590  \n",
       "4              9173.0         5213.0          3.2943  \n",
       "...               ...            ...             ...  \n",
       "35720             0.0            0.0          0.0000  \n",
       "35721             0.0            0.0          0.0000  \n",
       "35722             1.0            0.0          0.0000  \n",
       "35723             0.0            0.0          0.0000  \n",
       "35724             NaN            NaN             NaN  \n",
       "\n",
       "[35725 rows x 20 columns]"
      ]
     },
     "execution_count": 3,
     "metadata": {},
     "output_type": "execute_result"
    }
   ],
   "source": [
    "df=pd.read_csv(\"games.csv\")\n",
    "df"
   ]
  },
  {
   "cell_type": "code",
   "execution_count": 4,
   "id": "962f6908-f7fd-4090-b1c3-fd4fcebe0d21",
   "metadata": {},
   "outputs": [
    {
     "name": "stdout",
     "output_type": "stream",
     "text": [
      "<class 'pandas.core.frame.DataFrame'>\n",
      "RangeIndex: 35725 entries, 0 to 35724\n",
      "Data columns (total 20 columns):\n",
      " #   Column                Non-Null Count  Dtype  \n",
      "---  ------                --------------  -----  \n",
      " 0   id                    35725 non-null  int64  \n",
      " 1   type                  35725 non-null  object \n",
      " 2   name                  35723 non-null  object \n",
      " 3   yearpublished         35724 non-null  float64\n",
      " 4   minplayers            35724 non-null  float64\n",
      " 5   maxplayers            35724 non-null  float64\n",
      " 6   playingtime           35724 non-null  float64\n",
      " 7   minplaytime           35724 non-null  float64\n",
      " 8   maxplaytime           35724 non-null  float64\n",
      " 9   minage                35724 non-null  float64\n",
      " 10  users_rated           35724 non-null  float64\n",
      " 11  average_rating        35724 non-null  float64\n",
      " 12  bayes_average_rating  35724 non-null  float64\n",
      " 13  total_owners          35724 non-null  float64\n",
      " 14  total_traders         35724 non-null  float64\n",
      " 15  total_wanters         35724 non-null  float64\n",
      " 16  total_wishers         35724 non-null  float64\n",
      " 17  total_comments        35724 non-null  float64\n",
      " 18  total_weights         35724 non-null  float64\n",
      " 19  average_weight        35724 non-null  float64\n",
      "dtypes: float64(17), int64(1), object(2)\n",
      "memory usage: 5.5+ MB\n"
     ]
    }
   ],
   "source": [
    "df.info()"
   ]
  },
  {
   "cell_type": "code",
   "execution_count": 5,
   "id": "41abfe60-4abb-4576-b77d-3dc13bedaec0",
   "metadata": {},
   "outputs": [
    {
     "data": {
      "text/plain": [
       "(35725, 20)"
      ]
     },
     "execution_count": 5,
     "metadata": {},
     "output_type": "execute_result"
    }
   ],
   "source": [
    "df.shape"
   ]
  },
  {
   "cell_type": "code",
   "execution_count": 6,
   "id": "7308cf4e-090e-45d8-8379-a881c6f42576",
   "metadata": {},
   "outputs": [
    {
     "data": {
      "text/plain": [
       "boardgame             34017\n",
       "boardgameexpansion     1708\n",
       "Name: type, dtype: int64"
      ]
     },
     "execution_count": 6,
     "metadata": {},
     "output_type": "execute_result"
    }
   ],
   "source": [
    "df[\"type\"].value_counts()"
   ]
  },
  {
   "cell_type": "code",
   "execution_count": 9,
   "id": "3fdf2a98-d826-471f-8f56-04959e4496e4",
   "metadata": {},
   "outputs": [
    {
     "data": {
      "text/plain": [
       "<AxesSubplot:xlabel='type', ylabel='count'>"
      ]
     },
     "execution_count": 9,
     "metadata": {},
     "output_type": "execute_result"
    },
    {
     "data": {
      "image/png": "[encoded data removed]",
      "text/plain": [
       "<Figure size 432x288 with 1 Axes>"
      ]
     },
     "metadata": {
      "needs_background": "light"
     },
     "output_type": "display_data"
    }
   ],
   "source": [
    "sns.countplot(x=\"type\", data=df)\n"
   ]
  },
  {
   "cell_type": "code",
   "execution_count": 10,
   "id": "38a9bbd4-1c7d-4313-a850-b6f563a1a2b3",
   "metadata": {},
   "outputs": [
    {
     "data": {
      "text/plain": [
       "<AxesSubplot:>"
      ]
     },
     "execution_count": 10,
     "metadata": {},
     "output_type": "execute_result"
    },
    {
     "data": {
      "image/png": "[encoded data removed]",
      "text/plain": [
       "<Figure size 432x288 with 1 Axes>"
      ]
     },
     "metadata": {
      "needs_background": "light"
     },
     "output_type": "display_data"
    }
   ],
   "source": [
    "df[\"minplayers\"].hist()"
   ]
  },
  {
   "cell_type": "code",
   "execution_count": 11,
   "id": "47a0b68d-a560-48ce-96c2-0052b640b4c4",
   "metadata": {},
   "outputs": [
    {
     "data": {
      "text/plain": [
       "<AxesSubplot:>"
      ]
     },
     "execution_count": 11,
     "metadata": {},
     "output_type": "execute_result"
    },
    {
     "data": {
      "image/png": "[encoded data removed]",
      "text/plain": [
       "<Figure size 432x288 with 1 Axes>"
      ]
     },
     "metadata": {
      "needs_background": "light"
     },
     "output_type": "display_data"
    }
   ],
   "source": [
    "df['minplayers'].hist(bins=2)"
   ]
  },
  {
   "cell_type": "code",
   "execution_count": 12,
   "id": "d2bc09d6-58b8-4359-a4c0-ac825532ed7b",
   "metadata": {},
   "outputs": [
    {
     "data": {
      "text/plain": [
       "<AxesSubplot:>"
      ]
     },
     "execution_count": 12,
     "metadata": {},
     "output_type": "execute_result"
    },
    {
     "data": {
      "image/png": "[encoded data removed]",
      "text/plain": [
       "<Figure size 432x288 with 1 Axes>"
      ]
     },
     "metadata": {
      "needs_background": "light"
     },
     "output_type": "display_data"
    }
   ],
   "source": [
    "df['maxplayers'].hist()"
   ]
  },
  {
   "cell_type": "code",
   "execution_count": null,
   "id": "11303fd4-0b6f-4501-9956-b1939111ca0d",
   "metadata": {},
   "outputs": [],
   "source": []
  }
 ],
 "metadata": {
  "kernelspec": {
   "display_name": "Python",
   "language": "python",
   "name": "conda-env-python-py"
  },
  "language_info": {
   "codemirror_mode": {
    "name": "ipython",
    "version": 3
   },
   "file_extension": ".py",
   "mimetype": "text/x-python",
   "name": "python",
   "nbconvert_exporter": "python",
   "pygments_lexer": "ipython3",
   "version": "3.6.13"
  }
 },
 "nbformat": 4,
 "nbformat_minor": 5
}
