{
 "cells": [
  {
   "cell_type": "code",
   "execution_count": 1,
   "id": "22300c57",
   "metadata": {},
   "outputs": [],
   "source": [
    "import os\n",
    "os.chdir(\"C:\\\\Users\\\\Lenovo\\\\Desktop\\\\New folder\\\\LetsUpgrade_Python_Aug\\\\KNN\")"
   ]
  },
  {
   "cell_type": "code",
   "execution_count": 2,
   "id": "79dffda3",
   "metadata": {},
   "outputs": [],
   "source": [
    "import pandas as pd\n",
    "import matplotlib.pyplot as plt\n",
    "import seaborn as sns\n",
    "import numpy as np"
   ]
  },
  {
   "cell_type": "code",
   "execution_count": 5,
   "id": "27adf823",
   "metadata": {},
   "outputs": [],
   "source": [
    "df = pd.read_csv(\"Classified Data\", index_col=0)"
   ]
  },
  {
   "cell_type": "code",
   "execution_count": 6,
   "id": "ee5c3fef",
   "metadata": {},
   "outputs": [
    {
     "data": {
      "text/html": [
       "<div>\n",
       "<style scoped>\n",
       "    .dataframe tbody tr th:only-of-type {\n",
       "        vertical-align: middle;\n",
       "    }\n",
       "\n",
       "    .dataframe tbody tr th {\n",
       "        vertical-align: top;\n",
       "    }\n",
       "\n",
       "    .dataframe thead th {\n",
       "        text-align: right;\n",
       "    }\n",
       "</style>\n",
       "<table border=\"1\" class=\"dataframe\">\n",
       "  <thead>\n",
       "    <tr style=\"text-align: right;\">\n",
       "      <th></th>\n",
       "      <th>WTT</th>\n",
       "      <th>PTI</th>\n",
       "      <th>EQW</th>\n",
       "      <th>SBI</th>\n",
       "      <th>LQE</th>\n",
       "      <th>QWG</th>\n",
       "      <th>FDJ</th>\n",
       "      <th>PJF</th>\n",
       "      <th>HQE</th>\n",
       "      <th>NXJ</th>\n",
       "      <th>TARGET CLASS</th>\n",
       "    </tr>\n",
       "  </thead>\n",
       "  <tbody>\n",
       "    <tr>\n",
       "      <th>0</th>\n",
       "      <td>0.913917</td>\n",
       "      <td>1.162073</td>\n",
       "      <td>0.567946</td>\n",
       "      <td>0.755464</td>\n",
       "      <td>0.780862</td>\n",
       "      <td>0.352608</td>\n",
       "      <td>0.759697</td>\n",
       "      <td>0.643798</td>\n",
       "      <td>0.879422</td>\n",
       "      <td>1.231409</td>\n",
       "      <td>1</td>\n",
       "    </tr>\n",
       "    <tr>\n",
       "      <th>1</th>\n",
       "      <td>0.635632</td>\n",
       "      <td>1.003722</td>\n",
       "      <td>0.535342</td>\n",
       "      <td>0.825645</td>\n",
       "      <td>0.924109</td>\n",
       "      <td>0.648450</td>\n",
       "      <td>0.675334</td>\n",
       "      <td>1.013546</td>\n",
       "      <td>0.621552</td>\n",
       "      <td>1.492702</td>\n",
       "      <td>0</td>\n",
       "    </tr>\n",
       "    <tr>\n",
       "      <th>2</th>\n",
       "      <td>0.721360</td>\n",
       "      <td>1.201493</td>\n",
       "      <td>0.921990</td>\n",
       "      <td>0.855595</td>\n",
       "      <td>1.526629</td>\n",
       "      <td>0.720781</td>\n",
       "      <td>1.626351</td>\n",
       "      <td>1.154483</td>\n",
       "      <td>0.957877</td>\n",
       "      <td>1.285597</td>\n",
       "      <td>0</td>\n",
       "    </tr>\n",
       "    <tr>\n",
       "      <th>3</th>\n",
       "      <td>1.234204</td>\n",
       "      <td>1.386726</td>\n",
       "      <td>0.653046</td>\n",
       "      <td>0.825624</td>\n",
       "      <td>1.142504</td>\n",
       "      <td>0.875128</td>\n",
       "      <td>1.409708</td>\n",
       "      <td>1.380003</td>\n",
       "      <td>1.522692</td>\n",
       "      <td>1.153093</td>\n",
       "      <td>1</td>\n",
       "    </tr>\n",
       "    <tr>\n",
       "      <th>4</th>\n",
       "      <td>1.279491</td>\n",
       "      <td>0.949750</td>\n",
       "      <td>0.627280</td>\n",
       "      <td>0.668976</td>\n",
       "      <td>1.232537</td>\n",
       "      <td>0.703727</td>\n",
       "      <td>1.115596</td>\n",
       "      <td>0.646691</td>\n",
       "      <td>1.463812</td>\n",
       "      <td>1.419167</td>\n",
       "      <td>1</td>\n",
       "    </tr>\n",
       "  </tbody>\n",
       "</table>\n",
       "</div>"
      ],
      "text/plain": [
       "        WTT       PTI       EQW       SBI       LQE       QWG       FDJ  \\\n",
       "0  0.913917  1.162073  0.567946  0.755464  0.780862  0.352608  0.759697   \n",
       "1  0.635632  1.003722  0.535342  0.825645  0.924109  0.648450  0.675334   \n",
       "2  0.721360  1.201493  0.921990  0.855595  1.526629  0.720781  1.626351   \n",
       "3  1.234204  1.386726  0.653046  0.825624  1.142504  0.875128  1.409708   \n",
       "4  1.279491  0.949750  0.627280  0.668976  1.232537  0.703727  1.115596   \n",
       "\n",
       "        PJF       HQE       NXJ  TARGET CLASS  \n",
       "0  0.643798  0.879422  1.231409             1  \n",
       "1  1.013546  0.621552  1.492702             0  \n",
       "2  1.154483  0.957877  1.285597             0  \n",
       "3  1.380003  1.522692  1.153093             1  \n",
       "4  0.646691  1.463812  1.419167             1  "
      ]
     },
     "execution_count": 6,
     "metadata": {},
     "output_type": "execute_result"
    }
   ],
   "source": [
    "df.head()"
   ]
  },
  {
   "cell_type": "code",
   "execution_count": 30,
   "id": "da4b2eb6",
   "metadata": {},
   "outputs": [
    {
     "data": {
      "text/plain": [
       "1000"
      ]
     },
     "execution_count": 30,
     "metadata": {},
     "output_type": "execute_result"
    }
   ],
   "source": [
    "len(df)"
   ]
  },
  {
   "cell_type": "code",
   "execution_count": null,
   "id": "7c7f62dc",
   "metadata": {},
   "outputs": [],
   "source": [
    "# TARGET CLASS - Dependent variables\n",
    "# Rest are independent variables"
   ]
  },
  {
   "cell_type": "code",
   "execution_count": 9,
   "id": "42822f26",
   "metadata": {},
   "outputs": [
    {
     "data": {
      "text/plain": [
       "WTT             0\n",
       "PTI             0\n",
       "EQW             0\n",
       "SBI             0\n",
       "LQE             0\n",
       "QWG             0\n",
       "FDJ             0\n",
       "PJF             0\n",
       "HQE             0\n",
       "NXJ             0\n",
       "TARGET CLASS    0\n",
       "dtype: int64"
      ]
     },
     "execution_count": 9,
     "metadata": {},
     "output_type": "execute_result"
    }
   ],
   "source": [
    "# any will give boolean value and sum will give count\n",
    "#df.isnull().any()\n",
    "df.isnull().sum()"
   ]
  },
  {
   "cell_type": "code",
   "execution_count": 8,
   "id": "dfb72e1a",
   "metadata": {},
   "outputs": [
    {
     "data": {
      "text/plain": [
       "0    500\n",
       "1    500\n",
       "Name: TARGET CLASS, dtype: int64"
      ]
     },
     "execution_count": 8,
     "metadata": {},
     "output_type": "execute_result"
    }
   ],
   "source": [
    "df['TARGET CLASS'].value_counts()"
   ]
  },
  {
   "cell_type": "code",
   "execution_count": 11,
   "id": "38ce595e",
   "metadata": {},
   "outputs": [],
   "source": [
    "x = df.iloc[:,:-1]\n",
    "y = df.iloc[:,-1]"
   ]
  },
  {
   "cell_type": "code",
   "execution_count": 12,
   "id": "feb5d2ce",
   "metadata": {},
   "outputs": [
    {
     "name": "stdout",
     "output_type": "stream",
     "text": [
      "        WTT       PTI       EQW       SBI       LQE       QWG       FDJ  \\\n",
      "0  0.913917  1.162073  0.567946  0.755464  0.780862  0.352608  0.759697   \n",
      "1  0.635632  1.003722  0.535342  0.825645  0.924109  0.648450  0.675334   \n",
      "2  0.721360  1.201493  0.921990  0.855595  1.526629  0.720781  1.626351   \n",
      "3  1.234204  1.386726  0.653046  0.825624  1.142504  0.875128  1.409708   \n",
      "4  1.279491  0.949750  0.627280  0.668976  1.232537  0.703727  1.115596   \n",
      "\n",
      "        PJF       HQE       NXJ  \n",
      "0  0.643798  0.879422  1.231409  \n",
      "1  1.013546  0.621552  1.492702  \n",
      "2  1.154483  0.957877  1.285597  \n",
      "3  1.380003  1.522692  1.153093  \n",
      "4  0.646691  1.463812  1.419167  \n",
      "0    1\n",
      "1    0\n",
      "2    0\n",
      "3    1\n",
      "4    1\n",
      "Name: TARGET CLASS, dtype: int64\n"
     ]
    }
   ],
   "source": [
    "print(x.head())\n",
    "print(y.head())"
   ]
  },
  {
   "cell_type": "code",
   "execution_count": null,
   "id": "309c02eb",
   "metadata": {},
   "outputs": [],
   "source": [
    "# split the data into train and test"
   ]
  },
  {
   "cell_type": "code",
   "execution_count": 10,
   "id": "744f5f07",
   "metadata": {},
   "outputs": [],
   "source": [
    "from sklearn.model_selection import train_test_split"
   ]
  },
  {
   "cell_type": "code",
   "execution_count": 13,
   "id": "12cfb117",
   "metadata": {},
   "outputs": [],
   "source": [
    "x_train, x_test, y_train, y_test = train_test_split(x, y, train_size=0.75,random_state=1)"
   ]
  },
  {
   "cell_type": "markdown",
   "id": "4d07c658",
   "metadata": {},
   "source": [
    "# KNN Model"
   ]
  },
  {
   "cell_type": "code",
   "execution_count": 14,
   "id": "8dddcefb",
   "metadata": {},
   "outputs": [],
   "source": [
    "from sklearn.neighbors import KNeighborsClassifier"
   ]
  },
  {
   "cell_type": "code",
   "execution_count": 16,
   "id": "8d033458",
   "metadata": {},
   "outputs": [
    {
     "data": {
      "text/plain": [
       "KNeighborsClassifier()"
      ]
     },
     "execution_count": 16,
     "metadata": {},
     "output_type": "execute_result"
    }
   ],
   "source": [
    "knn = KNeighborsClassifier(n_neighbors=5)\n",
    "knn.fit(x_train, y_train)"
   ]
  },
  {
   "cell_type": "code",
   "execution_count": 17,
   "id": "ae2f12b1",
   "metadata": {},
   "outputs": [],
   "source": [
    "y_pred_train = knn.predict(x_train)\n",
    "y_pred_test = knn.predict(x_test)"
   ]
  },
  {
   "cell_type": "code",
   "execution_count": 18,
   "id": "9b98f6c4",
   "metadata": {},
   "outputs": [],
   "source": [
    "from sklearn.metrics import classification_report, confusion_matrix, accuracy_score"
   ]
  },
  {
   "cell_type": "code",
   "execution_count": 19,
   "id": "9f1ea087",
   "metadata": {},
   "outputs": [
    {
     "name": "stdout",
     "output_type": "stream",
     "text": [
      "              precision    recall  f1-score   support\n",
      "\n",
      "           0       0.97      0.94      0.95       371\n",
      "           1       0.95      0.97      0.96       379\n",
      "\n",
      "    accuracy                           0.96       750\n",
      "   macro avg       0.96      0.96      0.96       750\n",
      "weighted avg       0.96      0.96      0.96       750\n",
      "\n",
      "              precision    recall  f1-score   support\n",
      "\n",
      "           0       0.94      0.94      0.94       129\n",
      "           1       0.93      0.93      0.93       121\n",
      "\n",
      "    accuracy                           0.94       250\n",
      "   macro avg       0.94      0.94      0.94       250\n",
      "weighted avg       0.94      0.94      0.94       250\n",
      "\n"
     ]
    }
   ],
   "source": [
    "print(classification_report(y_train, y_pred_train))\n",
    "print(classification_report(y_test, y_pred_test))"
   ]
  },
  {
   "cell_type": "code",
   "execution_count": 20,
   "id": "3fa8b6ff",
   "metadata": {},
   "outputs": [
    {
     "name": "stdout",
     "output_type": "stream",
     "text": [
      "[[350  21]\n",
      " [ 12 367]]\n",
      "[[121   8]\n",
      " [  8 113]]\n"
     ]
    }
   ],
   "source": [
    "print(confusion_matrix(y_train, y_pred_train))\n",
    "print(confusion_matrix(y_test, y_pred_test))"
   ]
  },
  {
   "cell_type": "code",
   "execution_count": 21,
   "id": "e4eabcee",
   "metadata": {},
   "outputs": [
    {
     "name": "stdout",
     "output_type": "stream",
     "text": [
      "0.956\n",
      "0.936\n"
     ]
    }
   ],
   "source": [
    "print(accuracy_score(y_train, y_pred_train))\n",
    "print(accuracy_score(y_test, y_pred_test))"
   ]
  },
  {
   "cell_type": "markdown",
   "id": "eac09344",
   "metadata": {},
   "source": [
    "# Find best k value (HyperParam)"
   ]
  },
  {
   "cell_type": "code",
   "execution_count": 23,
   "id": "31d2326f",
   "metadata": {},
   "outputs": [],
   "source": [
    "error =[]\n",
    "\n",
    "for i in range(1,40):\n",
    "    knn = KNeighborsClassifier(n_neighbors=i)\n",
    "    knn.fit(x_train, y_train)\n",
    "    pred_i = knn.predict(x_test)\n",
    "    error.append(np.mean(pred_i !=y_test))"
   ]
  },
  {
   "cell_type": "code",
   "execution_count": 24,
   "id": "72c3a16e",
   "metadata": {},
   "outputs": [
    {
     "data": {
      "text/plain": [
       "[0.084,\n",
       " 0.076,\n",
       " 0.068,\n",
       " 0.068,\n",
       " 0.064,\n",
       " 0.064,\n",
       " 0.064,\n",
       " 0.072,\n",
       " 0.072,\n",
       " 0.06,\n",
       " 0.06,\n",
       " 0.052,\n",
       " 0.048,\n",
       " 0.052,\n",
       " 0.048,\n",
       " 0.052,\n",
       " 0.056,\n",
       " 0.052,\n",
       " 0.052,\n",
       " 0.048,\n",
       " 0.044,\n",
       " 0.052,\n",
       " 0.052,\n",
       " 0.048,\n",
       " 0.048,\n",
       " 0.044,\n",
       " 0.048,\n",
       " 0.048,\n",
       " 0.056,\n",
       " 0.048,\n",
       " 0.056,\n",
       " 0.052,\n",
       " 0.052,\n",
       " 0.052,\n",
       " 0.056,\n",
       " 0.048,\n",
       " 0.056,\n",
       " 0.048,\n",
       " 0.052]"
      ]
     },
     "execution_count": 24,
     "metadata": {},
     "output_type": "execute_result"
    }
   ],
   "source": [
    "error"
   ]
  },
  {
   "cell_type": "code",
   "execution_count": 26,
   "id": "86a2a7fc",
   "metadata": {},
   "outputs": [
    {
     "data": {
      "image/png": "[encoded data removed]",
      "text/plain": [
       "<Figure size 1080x1080 with 1 Axes>"
      ]
     },
     "metadata": {
      "needs_background": "light"
     },
     "output_type": "display_data"
    }
   ],
   "source": [
    "plt.figure(figsize=(15,15))\n",
    "plt.plot(range(1,40), error, color='blue', linestyle='dashed',\n",
    "        marker='o', markersize=12, markerfacecolor = \"red\" )\n",
    "plt.title(\"Error Rate Vs K-Value\")\n",
    "plt.xlabel(\"K-Value\")\n",
    "plt.ylabel(\"Error Percentage\")\n",
    "plt.show()"
   ]
  },
  {
   "cell_type": "code",
   "execution_count": 27,
   "id": "1b47b680",
   "metadata": {},
   "outputs": [
    {
     "data": {
      "text/plain": [
       "KNeighborsClassifier(n_neighbors=21)"
      ]
     },
     "execution_count": 27,
     "metadata": {},
     "output_type": "execute_result"
    }
   ],
   "source": [
    "knn = KNeighborsClassifier(n_neighbors=21)\n",
    "knn.fit(x_train, y_train)"
   ]
  },
  {
   "cell_type": "code",
   "execution_count": 28,
   "id": "70f69f99",
   "metadata": {},
   "outputs": [],
   "source": [
    "y_pred_train = knn.predict(x_train)\n",
    "y_pred_test = knn.predict(x_test)"
   ]
  },
  {
   "cell_type": "code",
   "execution_count": 29,
   "id": "e65656cc",
   "metadata": {},
   "outputs": [
    {
     "name": "stdout",
     "output_type": "stream",
     "text": [
      "0.9373333333333334\n",
      "0.956\n"
     ]
    }
   ],
   "source": [
    "print(accuracy_score(y_train, y_pred_train))\n",
    "print(accuracy_score(y_test, y_pred_test))"
   ]
  },
  {
   "cell_type": "markdown",
   "id": "07fc3a3d",
   "metadata": {},
   "source": [
    "# Support Vector Machine"
   ]
  },
  {
   "cell_type": "code",
   "execution_count": 32,
   "id": "ac3081fc",
   "metadata": {},
   "outputs": [],
   "source": [
    "# Support Vector Machine\n",
    "# Kernel = approach\n",
    "\n",
    "from sklearn.svm import SVC"
   ]
  },
  {
   "cell_type": "code",
   "execution_count": 34,
   "id": "2f43d83d",
   "metadata": {},
   "outputs": [
    {
     "data": {
      "text/plain": [
       "SVC(kernel='linear', random_state=1)"
      ]
     },
     "execution_count": 34,
     "metadata": {},
     "output_type": "execute_result"
    }
   ],
   "source": [
    "svm_linear = SVC(kernel='linear', random_state=1,C=1.0 )\n",
    "svm_linear.fit(x_train, y_train)"
   ]
  },
  {
   "cell_type": "code",
   "execution_count": 35,
   "id": "3d5b1d80",
   "metadata": {},
   "outputs": [],
   "source": [
    "y_pred_train_linear = svm_linear.predict(x_train)\n",
    "y_pred_test_linear = svm_linear.predict(x_test)"
   ]
  },
  {
   "cell_type": "code",
   "execution_count": 36,
   "id": "a3098e52",
   "metadata": {},
   "outputs": [
    {
     "name": "stdout",
     "output_type": "stream",
     "text": [
      "0.9493333333333334\n",
      "0.96\n"
     ]
    }
   ],
   "source": [
    "print(accuracy_score(y_train, y_pred_train_linear))\n",
    "print(accuracy_score(y_test, y_pred_test_linear))"
   ]
  },
  {
   "cell_type": "code",
   "execution_count": 37,
   "id": "df470b55",
   "metadata": {},
   "outputs": [
    {
     "data": {
      "text/plain": [
       "SVC(kernel='sigmoid', random_state=1)"
      ]
     },
     "execution_count": 37,
     "metadata": {},
     "output_type": "execute_result"
    }
   ],
   "source": [
    "svm_sigmoid = SVC(kernel='sigmoid', random_state=1,C=1.0 )\n",
    "svm_sigmoid.fit(x_train, y_train)"
   ]
  },
  {
   "cell_type": "code",
   "execution_count": 38,
   "id": "ad6bb42d",
   "metadata": {},
   "outputs": [],
   "source": [
    "y_pred_train_sigmoid = svm_sigmoid.predict(x_train)\n",
    "y_pred_test_sigmoid = svm_sigmoid.predict(x_test)"
   ]
  },
  {
   "cell_type": "code",
   "execution_count": 39,
   "id": "e229d4e7",
   "metadata": {},
   "outputs": [
    {
     "name": "stdout",
     "output_type": "stream",
     "text": [
      "0.5053333333333333\n",
      "0.484\n"
     ]
    }
   ],
   "source": [
    "print(accuracy_score(y_train, y_pred_train_sigmoid))\n",
    "print(accuracy_score(y_test, y_pred_test_sigmoid))"
   ]
  },
  {
   "cell_type": "code",
   "execution_count": 40,
   "id": "394e2245",
   "metadata": {},
   "outputs": [
    {
     "data": {
      "text/plain": [
       "SVC(kernel='poly', random_state=1)"
      ]
     },
     "execution_count": 40,
     "metadata": {},
     "output_type": "execute_result"
    }
   ],
   "source": [
    "svm_poly = SVC(kernel='poly', random_state=1,C=1.0 )\n",
    "svm_poly.fit(x_train, y_train)"
   ]
  },
  {
   "cell_type": "code",
   "execution_count": 41,
   "id": "0208dd7e",
   "metadata": {},
   "outputs": [],
   "source": [
    "y_pred_train_poly = svm_poly.predict(x_train)\n",
    "y_pred_test_poly = svm_poly.predict(x_test)"
   ]
  },
  {
   "cell_type": "code",
   "execution_count": 42,
   "id": "4480ac52",
   "metadata": {},
   "outputs": [
    {
     "name": "stdout",
     "output_type": "stream",
     "text": [
      "0.9706666666666667\n",
      "0.916\n"
     ]
    }
   ],
   "source": [
    "print(accuracy_score(y_train, y_pred_train_poly))\n",
    "print(accuracy_score(y_test, y_pred_test_poly))"
   ]
  },
  {
   "cell_type": "code",
   "execution_count": 43,
   "id": "546c2de2",
   "metadata": {},
   "outputs": [
    {
     "data": {
      "text/plain": [
       "SVC(random_state=1)"
      ]
     },
     "execution_count": 43,
     "metadata": {},
     "output_type": "execute_result"
    }
   ],
   "source": [
    "svm_rbf = SVC(kernel='rbf', random_state=1,C=1.0 )\n",
    "svm_rbf.fit(x_train, y_train)"
   ]
  },
  {
   "cell_type": "code",
   "execution_count": 44,
   "id": "f706ff30",
   "metadata": {},
   "outputs": [],
   "source": [
    "y_pred_train_rbf = svm_rbf.predict(x_train)\n",
    "y_pred_test_rbf = svm_rbf.predict(x_test)"
   ]
  },
  {
   "cell_type": "code",
   "execution_count": 45,
   "id": "ca903ef2",
   "metadata": {},
   "outputs": [
    {
     "name": "stdout",
     "output_type": "stream",
     "text": [
      "0.956\n",
      "0.956\n"
     ]
    }
   ],
   "source": [
    "print(accuracy_score(y_train, y_pred_train_rbf))\n",
    "print(accuracy_score(y_test, y_pred_test_rbf))"
   ]
  },
  {
   "cell_type": "markdown",
   "id": "03cbb4f5",
   "metadata": {},
   "source": [
    "# Naive Bayes Theorem"
   ]
  },
  {
   "cell_type": "code",
   "execution_count": 46,
   "id": "777cdab7",
   "metadata": {},
   "outputs": [],
   "source": [
    "from sklearn.naive_bayes import GaussianNB"
   ]
  },
  {
   "cell_type": "code",
   "execution_count": 47,
   "id": "858dc640",
   "metadata": {},
   "outputs": [
    {
     "data": {
      "text/plain": [
       "GaussianNB()"
      ]
     },
     "execution_count": 47,
     "metadata": {},
     "output_type": "execute_result"
    }
   ],
   "source": [
    "naive = GaussianNB()\n",
    "naive.fit(x_train, y_train)"
   ]
  },
  {
   "cell_type": "code",
   "execution_count": 48,
   "id": "8276decc",
   "metadata": {},
   "outputs": [],
   "source": [
    "y_pred_train_nb = naive.predict(x_train)\n",
    "y_pred_test_nb = naive.predict(x_test)"
   ]
  },
  {
   "cell_type": "code",
   "execution_count": 49,
   "id": "6059a188",
   "metadata": {},
   "outputs": [
    {
     "name": "stdout",
     "output_type": "stream",
     "text": [
      "0.9386666666666666\n",
      "0.96\n"
     ]
    }
   ],
   "source": [
    "print(accuracy_score(y_train, y_pred_train_nb))\n",
    "print(accuracy_score(y_test, y_pred_test_nb))"
   ]
  },
  {
   "cell_type": "code",
   "execution_count": null,
   "id": "6b466105",
   "metadata": {},
   "outputs": [],
   "source": []
  }
 ],
 "metadata": {
  "kernelspec": {
   "display_name": "Python 3",
   "language": "python",
   "name": "python3"
  },
  "language_info": {
   "codemirror_mode": {
    "name": "ipython",
    "version": 3
   },
   "file_extension": ".py",
   "mimetype": "text/x-python",
   "name": "python",
   "nbconvert_exporter": "python",
   "pygments_lexer": "ipython3",
   "version": "3.8.8"
  }
 },
 "nbformat": 4,
 "nbformat_minor": 5
}
