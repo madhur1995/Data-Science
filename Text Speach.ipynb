{
 "cells": [
  {
   "cell_type": "code",
   "execution_count": 1,
   "id": "f9ea135c-a245-4cf5-92fc-b389c5f1a8c7",
   "metadata": {},
   "outputs": [
    {
     "name": "stdin",
     "output_type": "stream",
     "text": [
      "Enter your text to speech:\n",
      " > The Hindu ePaper, a digital replica of the daily newspaper, is designed to provide a familiar reading format to the digital 'on-the-go' consumer. The user-friendly navigation will let you view the pages of each edition as you would with the printed copy of the newspaper and lets you search instantly, save stories and share them with friends on social media. Easy to access across multiple devices and choice of formats in the form of text, image or PDF, it creates a reading experience that is pleasant and convenient. The ePaper also offers free access to 60 days of archived newspapers from the date of purchase\n"
     ]
    }
   ],
   "source": [
    "my_text=input(\"Enter your text to speech:\\n >\")"
   ]
  },
  {
   "cell_type": "code",
   "execution_count": 2,
   "id": "43a0632e-b7dd-45af-97b7-2f033903e211",
   "metadata": {},
   "outputs": [
    {
     "name": "stdout",
     "output_type": "stream",
     "text": [
      "Collecting gTTS\n",
      "  Downloading https://files.pythonhosted.org/packages/e4/9e/fe139150719281309c6e52a799e86d7d8d19f6f2593b340e3693f6ef2c77/gTTS-2.2.3-py3-none-any.whl\n",
      "Requirement already satisfied: click in /home/jupyterlab/conda/envs/python/lib/python3.6/site-packages (from gTTS) (8.0.1)\n",
      "Requirement already satisfied: six in /home/jupyterlab/conda/envs/python/lib/python3.6/site-packages (from gTTS) (1.15.0)\n",
      "Requirement already satisfied: requests in /home/jupyterlab/conda/envs/python/lib/python3.6/site-packages (from gTTS) (2.25.1)\n",
      "Requirement already satisfied: importlib-metadata; python_version < \"3.8\" in /home/jupyterlab/conda/envs/python/lib/python3.6/site-packages (from click->gTTS) (4.6.1)\n",
      "Requirement already satisfied: idna<3,>=2.5 in /home/jupyterlab/conda/envs/python/lib/python3.6/site-packages (from requests->gTTS) (2.10)\n",
      "Requirement already satisfied: urllib3<1.27,>=1.21.1 in /home/jupyterlab/conda/envs/python/lib/python3.6/site-packages (from requests->gTTS) (1.26.6)\n",
      "Requirement already satisfied: certifi>=2017.4.17 in /home/jupyterlab/conda/envs/python/lib/python3.6/site-packages (from requests->gTTS) (2021.5.30)\n",
      "Requirement already satisfied: chardet<5,>=3.0.2 in /home/jupyterlab/conda/envs/python/lib/python3.6/site-packages (from requests->gTTS) (4.0.0)\n",
      "Requirement already satisfied: zipp>=0.5 in /home/jupyterlab/conda/envs/python/lib/python3.6/site-packages (from importlib-metadata; python_version < \"3.8\"->click->gTTS) (3.5.0)\n",
      "Requirement already satisfied: typing-extensions>=3.6.4; python_version < \"3.8\" in /home/jupyterlab/conda/envs/python/lib/python3.6/site-packages (from importlib-metadata; python_version < \"3.8\"->click->gTTS) (3.10.0.0)\n",
      "Installing collected packages: gTTS\n",
      "Successfully installed gTTS-2.2.3\n"
     ]
    }
   ],
   "source": [
    "!pip install gTTS"
   ]
  },
  {
   "cell_type": "code",
   "execution_count": 3,
   "id": "588e40dd-ecb1-4dc1-8c55-4197849bbeb7",
   "metadata": {},
   "outputs": [],
   "source": [
    "from gtts import gTTS"
   ]
  },
  {
   "cell_type": "code",
   "execution_count": 4,
   "id": "5f60c01f-66ef-445c-b117-8d30f4b9f0f4",
   "metadata": {},
   "outputs": [],
   "source": [
    "english=gTTS(text = my_text ,lang='en',slow=False)"
   ]
  },
  {
   "cell_type": "code",
   "execution_count": 5,
   "id": "0e132fca-1ab4-428d-b581-03e7cb9e8617",
   "metadata": {},
   "outputs": [],
   "source": [
    "english.save('english.mp3')"
   ]
  },
  {
   "cell_type": "code",
   "execution_count": null,
   "id": "2d2cf5fb-97c8-4fb7-b0be-76d791efc786",
   "metadata": {},
   "outputs": [],
   "source": []
  }
 ],
 "metadata": {
  "kernelspec": {
   "display_name": "Python",
   "language": "python",
   "name": "conda-env-python-py"
  },
  "language_info": {
   "codemirror_mode": {
    "name": "ipython",
    "version": 3
   },
   "file_extension": ".py",
   "mimetype": "text/x-python",
   "name": "python",
   "nbconvert_exporter": "python",
   "pygments_lexer": "ipython3",
   "version": "3.6.13"
  }
 },
 "nbformat": 4,
 "nbformat_minor": 5
}
