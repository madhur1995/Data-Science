{
 "cells": [
  {
   "cell_type": "code",
   "execution_count": 4,
   "metadata": {},
   "outputs": [],
   "source": [
    "import numpy as np\n",
    "import pandas as pd\n",
    "import matplotlib.pyplot as plt\n",
    "import seaborn as sns"
   ]
  },
  {
   "cell_type": "code",
   "execution_count": 6,
   "metadata": {},
   "outputs": [
    {
     "data": {
      "text/html": [
       "<div>\n",
       "<style scoped>\n",
       "    .dataframe tbody tr th:only-of-type {\n",
       "        vertical-align: middle;\n",
       "    }\n",
       "\n",
       "    .dataframe tbody tr th {\n",
       "        vertical-align: top;\n",
       "    }\n",
       "\n",
       "    .dataframe thead th {\n",
       "        text-align: right;\n",
       "    }\n",
       "</style>\n",
       "<table border=\"1\" class=\"dataframe\">\n",
       "  <thead>\n",
       "    <tr style=\"text-align: right;\">\n",
       "      <th></th>\n",
       "      <th>id</th>\n",
       "      <th>title</th>\n",
       "      <th>original_air_date</th>\n",
       "      <th>production_code</th>\n",
       "      <th>season</th>\n",
       "      <th>number_in_season</th>\n",
       "      <th>number_in_series</th>\n",
       "      <th>us_viewers_in_millions</th>\n",
       "      <th>views</th>\n",
       "      <th>imdb_rating</th>\n",
       "      <th>imdb_votes</th>\n",
       "      <th>image_url</th>\n",
       "      <th>video_url</th>\n",
       "    </tr>\n",
       "  </thead>\n",
       "  <tbody>\n",
       "    <tr>\n",
       "      <th>0</th>\n",
       "      <td>10</td>\n",
       "      <td>Homer's Night Out</td>\n",
       "      <td>1990-03-25</td>\n",
       "      <td>7G10</td>\n",
       "      <td>1</td>\n",
       "      <td>10</td>\n",
       "      <td>10</td>\n",
       "      <td>30.30</td>\n",
       "      <td>50816.0</td>\n",
       "      <td>7.4</td>\n",
       "      <td>1511.0</td>\n",
       "      <td>http://static-media.fxx.com/img/FX_Networks_-_...</td>\n",
       "      <td>http://www.simpsonsworld.com/video/275197507879</td>\n",
       "    </tr>\n",
       "    <tr>\n",
       "      <th>1</th>\n",
       "      <td>12</td>\n",
       "      <td>Krusty Gets Busted</td>\n",
       "      <td>1990-04-29</td>\n",
       "      <td>7G12</td>\n",
       "      <td>1</td>\n",
       "      <td>12</td>\n",
       "      <td>12</td>\n",
       "      <td>30.40</td>\n",
       "      <td>62561.0</td>\n",
       "      <td>8.3</td>\n",
       "      <td>1716.0</td>\n",
       "      <td>http://static-media.fxx.com/img/FX_Networks_-_...</td>\n",
       "      <td>http://www.simpsonsworld.com/video/288019523914</td>\n",
       "    </tr>\n",
       "    <tr>\n",
       "      <th>2</th>\n",
       "      <td>14</td>\n",
       "      <td>Bart Gets an \"F\"</td>\n",
       "      <td>1990-10-11</td>\n",
       "      <td>7F03</td>\n",
       "      <td>2</td>\n",
       "      <td>1</td>\n",
       "      <td>14</td>\n",
       "      <td>33.60</td>\n",
       "      <td>59575.0</td>\n",
       "      <td>8.2</td>\n",
       "      <td>1638.0</td>\n",
       "      <td>http://static-media.fxx.com/img/FX_Networks_-_...</td>\n",
       "      <td>http://www.simpsonsworld.com/video/260539459671</td>\n",
       "    </tr>\n",
       "    <tr>\n",
       "      <th>3</th>\n",
       "      <td>17</td>\n",
       "      <td>Two Cars in Every Garage and Three Eyes on Eve...</td>\n",
       "      <td>1990-11-01</td>\n",
       "      <td>7F01</td>\n",
       "      <td>2</td>\n",
       "      <td>4</td>\n",
       "      <td>17</td>\n",
       "      <td>26.10</td>\n",
       "      <td>64959.0</td>\n",
       "      <td>8.1</td>\n",
       "      <td>1457.0</td>\n",
       "      <td>http://static-media.fxx.com/img/FX_Networks_-_...</td>\n",
       "      <td>http://www.simpsonsworld.com/video/260537411822</td>\n",
       "    </tr>\n",
       "    <tr>\n",
       "      <th>4</th>\n",
       "      <td>19</td>\n",
       "      <td>Dead Putting Society</td>\n",
       "      <td>1990-11-15</td>\n",
       "      <td>7F08</td>\n",
       "      <td>2</td>\n",
       "      <td>6</td>\n",
       "      <td>19</td>\n",
       "      <td>25.40</td>\n",
       "      <td>50691.0</td>\n",
       "      <td>8.0</td>\n",
       "      <td>1366.0</td>\n",
       "      <td>http://static-media.fxx.com/img/FX_Networks_-_...</td>\n",
       "      <td>http://www.simpsonsworld.com/video/260539459670</td>\n",
       "    </tr>\n",
       "    <tr>\n",
       "      <th>...</th>\n",
       "      <td>...</td>\n",
       "      <td>...</td>\n",
       "      <td>...</td>\n",
       "      <td>...</td>\n",
       "      <td>...</td>\n",
       "      <td>...</td>\n",
       "      <td>...</td>\n",
       "      <td>...</td>\n",
       "      <td>...</td>\n",
       "      <td>...</td>\n",
       "      <td>...</td>\n",
       "      <td>...</td>\n",
       "      <td>...</td>\n",
       "    </tr>\n",
       "    <tr>\n",
       "      <th>595</th>\n",
       "      <td>500</td>\n",
       "      <td>At Long Last Leave</td>\n",
       "      <td>2012-02-19</td>\n",
       "      <td>PABF07</td>\n",
       "      <td>23</td>\n",
       "      <td>14</td>\n",
       "      <td>500</td>\n",
       "      <td>5.77</td>\n",
       "      <td>45226.0</td>\n",
       "      <td>7.0</td>\n",
       "      <td>580.0</td>\n",
       "      <td>http://static-media.fxx.com/img/FX_Networks_-_...</td>\n",
       "      <td>http://www.simpsonsworld.com/video/230541891832</td>\n",
       "    </tr>\n",
       "    <tr>\n",
       "      <th>596</th>\n",
       "      <td>502</td>\n",
       "      <td>How I Wet Your Mother</td>\n",
       "      <td>2012-03-11</td>\n",
       "      <td>PABF08</td>\n",
       "      <td>23</td>\n",
       "      <td>16</td>\n",
       "      <td>502</td>\n",
       "      <td>4.97</td>\n",
       "      <td>44818.0</td>\n",
       "      <td>7.3</td>\n",
       "      <td>541.0</td>\n",
       "      <td>http://static-media.fxx.com/img/FX_Networks_-_...</td>\n",
       "      <td>http://www.simpsonsworld.com/video/230597187582</td>\n",
       "    </tr>\n",
       "    <tr>\n",
       "      <th>597</th>\n",
       "      <td>511</td>\n",
       "      <td>Adventures in Baby-Getting</td>\n",
       "      <td>2012-11-04</td>\n",
       "      <td>PABF18</td>\n",
       "      <td>24</td>\n",
       "      <td>3</td>\n",
       "      <td>511</td>\n",
       "      <td>5.65</td>\n",
       "      <td>39687.0</td>\n",
       "      <td>6.9</td>\n",
       "      <td>460.0</td>\n",
       "      <td>http://static-media.fxx.com/img/FX_Networks_-_...</td>\n",
       "      <td>http://www.simpsonsworld.com/video/221688899646</td>\n",
       "    </tr>\n",
       "    <tr>\n",
       "      <th>598</th>\n",
       "      <td>542</td>\n",
       "      <td>Diggs</td>\n",
       "      <td>2014-03-09</td>\n",
       "      <td>SABF08</td>\n",
       "      <td>25</td>\n",
       "      <td>12</td>\n",
       "      <td>542</td>\n",
       "      <td>2.69</td>\n",
       "      <td>39292.0</td>\n",
       "      <td>6.4</td>\n",
       "      <td>473.0</td>\n",
       "      <td>http://static-media.fxx.com/img/FX_Networks_-_...</td>\n",
       "      <td>http://www.simpsonsworld.com/video/310529091639</td>\n",
       "    </tr>\n",
       "    <tr>\n",
       "      <th>599</th>\n",
       "      <td>548</td>\n",
       "      <td>Days of Future Future</td>\n",
       "      <td>2014-04-13</td>\n",
       "      <td>SABF13</td>\n",
       "      <td>25</td>\n",
       "      <td>18</td>\n",
       "      <td>548</td>\n",
       "      <td>3.64</td>\n",
       "      <td>55742.0</td>\n",
       "      <td>7.0</td>\n",
       "      <td>504.0</td>\n",
       "      <td>http://static-media.fxx.com/img/FX_Networks_-_...</td>\n",
       "      <td>http://www.simpsonsworld.com/video/310257731892</td>\n",
       "    </tr>\n",
       "  </tbody>\n",
       "</table>\n",
       "<p>600 rows × 13 columns</p>\n",
       "</div>"
      ],
      "text/plain": [
       "      id                                              title original_air_date  \\\n",
       "0     10                                  Homer's Night Out        1990-03-25   \n",
       "1     12                                 Krusty Gets Busted        1990-04-29   \n",
       "2     14                                   Bart Gets an \"F\"        1990-10-11   \n",
       "3     17  Two Cars in Every Garage and Three Eyes on Eve...        1990-11-01   \n",
       "4     19                               Dead Putting Society        1990-11-15   \n",
       "..   ...                                                ...               ...   \n",
       "595  500                                 At Long Last Leave        2012-02-19   \n",
       "596  502                              How I Wet Your Mother        2012-03-11   \n",
       "597  511                         Adventures in Baby-Getting        2012-11-04   \n",
       "598  542                                              Diggs        2014-03-09   \n",
       "599  548                              Days of Future Future        2014-04-13   \n",
       "\n",
       "    production_code  season  number_in_season  number_in_series  \\\n",
       "0              7G10       1                10                10   \n",
       "1              7G12       1                12                12   \n",
       "2              7F03       2                 1                14   \n",
       "3              7F01       2                 4                17   \n",
       "4              7F08       2                 6                19   \n",
       "..              ...     ...               ...               ...   \n",
       "595          PABF07      23                14               500   \n",
       "596          PABF08      23                16               502   \n",
       "597          PABF18      24                 3               511   \n",
       "598          SABF08      25                12               542   \n",
       "599          SABF13      25                18               548   \n",
       "\n",
       "     us_viewers_in_millions    views  imdb_rating  imdb_votes  \\\n",
       "0                     30.30  50816.0          7.4      1511.0   \n",
       "1                     30.40  62561.0          8.3      1716.0   \n",
       "2                     33.60  59575.0          8.2      1638.0   \n",
       "3                     26.10  64959.0          8.1      1457.0   \n",
       "4                     25.40  50691.0          8.0      1366.0   \n",
       "..                      ...      ...          ...         ...   \n",
       "595                    5.77  45226.0          7.0       580.0   \n",
       "596                    4.97  44818.0          7.3       541.0   \n",
       "597                    5.65  39687.0          6.9       460.0   \n",
       "598                    2.69  39292.0          6.4       473.0   \n",
       "599                    3.64  55742.0          7.0       504.0   \n",
       "\n",
       "                                             image_url  \\\n",
       "0    http://static-media.fxx.com/img/FX_Networks_-_...   \n",
       "1    http://static-media.fxx.com/img/FX_Networks_-_...   \n",
       "2    http://static-media.fxx.com/img/FX_Networks_-_...   \n",
       "3    http://static-media.fxx.com/img/FX_Networks_-_...   \n",
       "4    http://static-media.fxx.com/img/FX_Networks_-_...   \n",
       "..                                                 ...   \n",
       "595  http://static-media.fxx.com/img/FX_Networks_-_...   \n",
       "596  http://static-media.fxx.com/img/FX_Networks_-_...   \n",
       "597  http://static-media.fxx.com/img/FX_Networks_-_...   \n",
       "598  http://static-media.fxx.com/img/FX_Networks_-_...   \n",
       "599  http://static-media.fxx.com/img/FX_Networks_-_...   \n",
       "\n",
       "                                           video_url  \n",
       "0    http://www.simpsonsworld.com/video/275197507879  \n",
       "1    http://www.simpsonsworld.com/video/288019523914  \n",
       "2    http://www.simpsonsworld.com/video/260539459671  \n",
       "3    http://www.simpsonsworld.com/video/260537411822  \n",
       "4    http://www.simpsonsworld.com/video/260539459670  \n",
       "..                                               ...  \n",
       "595  http://www.simpsonsworld.com/video/230541891832  \n",
       "596  http://www.simpsonsworld.com/video/230597187582  \n",
       "597  http://www.simpsonsworld.com/video/221688899646  \n",
       "598  http://www.simpsonsworld.com/video/310529091639  \n",
       "599  http://www.simpsonsworld.com/video/310257731892  \n",
       "\n",
       "[600 rows x 13 columns]"
      ]
     },
     "execution_count": 6,
     "metadata": {},
     "output_type": "execute_result"
    }
   ],
   "source": [
    "df=pd.read_csv(\"data_simpsons_episodes.csv\")\n",
    "df"
   ]
  },
  {
   "cell_type": "code",
   "execution_count": 8,
   "metadata": {},
   "outputs": [
    {
     "name": "stdout",
     "output_type": "stream",
     "text": [
      "<class 'pandas.core.frame.DataFrame'>\n",
      "RangeIndex: 600 entries, 0 to 599\n",
      "Data columns (total 13 columns):\n",
      " #   Column                  Non-Null Count  Dtype  \n",
      "---  ------                  --------------  -----  \n",
      " 0   id                      600 non-null    int64  \n",
      " 1   title                   600 non-null    object \n",
      " 2   original_air_date       600 non-null    object \n",
      " 3   production_code         600 non-null    object \n",
      " 4   season                  600 non-null    int64  \n",
      " 5   number_in_season        600 non-null    int64  \n",
      " 6   number_in_series        600 non-null    int64  \n",
      " 7   us_viewers_in_millions  594 non-null    float64\n",
      " 8   views                   596 non-null    float64\n",
      " 9   imdb_rating             597 non-null    float64\n",
      " 10  imdb_votes              597 non-null    float64\n",
      " 11  image_url               596 non-null    object \n",
      " 12  video_url               596 non-null    object \n",
      "dtypes: float64(4), int64(4), object(5)\n",
      "memory usage: 61.1+ KB\n"
     ]
    }
   ],
   "source": [
    "df.info()"
   ]
  },
  {
   "cell_type": "code",
   "execution_count": 9,
   "metadata": {},
   "outputs": [
    {
     "data": {
      "text/html": [
       "<div>\n",
       "<style scoped>\n",
       "    .dataframe tbody tr th:only-of-type {\n",
       "        vertical-align: middle;\n",
       "    }\n",
       "\n",
       "    .dataframe tbody tr th {\n",
       "        vertical-align: top;\n",
       "    }\n",
       "\n",
       "    .dataframe thead th {\n",
       "        text-align: right;\n",
       "    }\n",
       "</style>\n",
       "<table border=\"1\" class=\"dataframe\">\n",
       "  <thead>\n",
       "    <tr style=\"text-align: right;\">\n",
       "      <th></th>\n",
       "      <th>id</th>\n",
       "      <th>season</th>\n",
       "      <th>number_in_season</th>\n",
       "      <th>number_in_series</th>\n",
       "      <th>us_viewers_in_millions</th>\n",
       "      <th>views</th>\n",
       "      <th>imdb_rating</th>\n",
       "      <th>imdb_votes</th>\n",
       "    </tr>\n",
       "  </thead>\n",
       "  <tbody>\n",
       "    <tr>\n",
       "      <th>count</th>\n",
       "      <td>600.000000</td>\n",
       "      <td>600.000000</td>\n",
       "      <td>600.000000</td>\n",
       "      <td>600.000000</td>\n",
       "      <td>594.000000</td>\n",
       "      <td>596.000000</td>\n",
       "      <td>597.000000</td>\n",
       "      <td>597.000000</td>\n",
       "    </tr>\n",
       "    <tr>\n",
       "      <th>mean</th>\n",
       "      <td>300.500000</td>\n",
       "      <td>14.100000</td>\n",
       "      <td>11.585000</td>\n",
       "      <td>300.500000</td>\n",
       "      <td>11.842795</td>\n",
       "      <td>48759.377517</td>\n",
       "      <td>7.386097</td>\n",
       "      <td>832.365159</td>\n",
       "    </tr>\n",
       "    <tr>\n",
       "      <th>std</th>\n",
       "      <td>173.349358</td>\n",
       "      <td>7.755444</td>\n",
       "      <td>6.549881</td>\n",
       "      <td>173.349358</td>\n",
       "      <td>6.414218</td>\n",
       "      <td>17751.308464</td>\n",
       "      <td>0.732439</td>\n",
       "      <td>396.117937</td>\n",
       "    </tr>\n",
       "    <tr>\n",
       "      <th>min</th>\n",
       "      <td>1.000000</td>\n",
       "      <td>1.000000</td>\n",
       "      <td>1.000000</td>\n",
       "      <td>1.000000</td>\n",
       "      <td>2.320000</td>\n",
       "      <td>144.000000</td>\n",
       "      <td>4.500000</td>\n",
       "      <td>104.000000</td>\n",
       "    </tr>\n",
       "    <tr>\n",
       "      <th>25%</th>\n",
       "      <td>150.750000</td>\n",
       "      <td>7.000000</td>\n",
       "      <td>6.000000</td>\n",
       "      <td>150.750000</td>\n",
       "      <td>7.055000</td>\n",
       "      <td>41301.750000</td>\n",
       "      <td>6.900000</td>\n",
       "      <td>560.000000</td>\n",
       "    </tr>\n",
       "    <tr>\n",
       "      <th>50%</th>\n",
       "      <td>300.500000</td>\n",
       "      <td>14.000000</td>\n",
       "      <td>11.000000</td>\n",
       "      <td>300.500000</td>\n",
       "      <td>10.300000</td>\n",
       "      <td>46036.000000</td>\n",
       "      <td>7.300000</td>\n",
       "      <td>697.000000</td>\n",
       "    </tr>\n",
       "    <tr>\n",
       "      <th>75%</th>\n",
       "      <td>450.250000</td>\n",
       "      <td>21.000000</td>\n",
       "      <td>17.000000</td>\n",
       "      <td>450.250000</td>\n",
       "      <td>15.250000</td>\n",
       "      <td>57593.750000</td>\n",
       "      <td>8.000000</td>\n",
       "      <td>1095.000000</td>\n",
       "    </tr>\n",
       "    <tr>\n",
       "      <th>max</th>\n",
       "      <td>600.000000</td>\n",
       "      <td>28.000000</td>\n",
       "      <td>25.000000</td>\n",
       "      <td>600.000000</td>\n",
       "      <td>33.600000</td>\n",
       "      <td>171408.000000</td>\n",
       "      <td>9.200000</td>\n",
       "      <td>3734.000000</td>\n",
       "    </tr>\n",
       "  </tbody>\n",
       "</table>\n",
       "</div>"
      ],
      "text/plain": [
       "               id      season  number_in_season  number_in_series  \\\n",
       "count  600.000000  600.000000        600.000000        600.000000   \n",
       "mean   300.500000   14.100000         11.585000        300.500000   \n",
       "std    173.349358    7.755444          6.549881        173.349358   \n",
       "min      1.000000    1.000000          1.000000          1.000000   \n",
       "25%    150.750000    7.000000          6.000000        150.750000   \n",
       "50%    300.500000   14.000000         11.000000        300.500000   \n",
       "75%    450.250000   21.000000         17.000000        450.250000   \n",
       "max    600.000000   28.000000         25.000000        600.000000   \n",
       "\n",
       "       us_viewers_in_millions          views  imdb_rating   imdb_votes  \n",
       "count              594.000000     596.000000   597.000000   597.000000  \n",
       "mean                11.842795   48759.377517     7.386097   832.365159  \n",
       "std                  6.414218   17751.308464     0.732439   396.117937  \n",
       "min                  2.320000     144.000000     4.500000   104.000000  \n",
       "25%                  7.055000   41301.750000     6.900000   560.000000  \n",
       "50%                 10.300000   46036.000000     7.300000   697.000000  \n",
       "75%                 15.250000   57593.750000     8.000000  1095.000000  \n",
       "max                 33.600000  171408.000000     9.200000  3734.000000  "
      ]
     },
     "execution_count": 9,
     "metadata": {},
     "output_type": "execute_result"
    }
   ],
   "source": [
    "df.describe()"
   ]
  },
  {
   "cell_type": "code",
   "execution_count": 12,
   "metadata": {},
   "outputs": [
    {
     "data": {
      "text/plain": [
       "<AxesSubplot:>"
      ]
     },
     "execution_count": 12,
     "metadata": {},
     "output_type": "execute_result"
    },
    {
     "data": {
      "image/png": "[encoded data removed]",
      "text/plain": [
       "<Figure size 432x288 with 1 Axes>"
      ]
     },
     "metadata": {
      "needs_background": "light"
     },
     "output_type": "display_data"
    }
   ],
   "source": [
    "df[\"imdb_rating\"].hist(bins=10)"
   ]
  },
  {
   "cell_type": "code",
   "execution_count": 13,
   "metadata": {},
   "outputs": [
    {
     "name": "stderr",
     "output_type": "stream",
     "text": [
      "C:\\Conda\\lib\\site-packages\\seaborn\\_decorators.py:36: FutureWarning: Pass the following variable as a keyword arg: x. From version 0.12, the only valid positional argument will be `data`, and passing other arguments without an explicit keyword will result in an error or misinterpretation.\n",
      "  warnings.warn(\n",
      "C:\\Conda\\lib\\site-packages\\seaborn\\_core.py:1303: UserWarning: Vertical orientation ignored with only `x` specified.\n",
      "  warnings.warn(single_var_warning.format(\"Vertical\", \"x\"))\n"
     ]
    },
    {
     "data": {
      "text/plain": [
       "<AxesSubplot:xlabel='imdb_votes'>"
      ]
     },
     "execution_count": 13,
     "metadata": {},
     "output_type": "execute_result"
    },
    {
     "data": {
      "image/png": "[encoded data removed]",
      "text/plain": [
       "<Figure size 432x288 with 1 Axes>"
      ]
     },
     "metadata": {
      "needs_background": "light"
     },
     "output_type": "display_data"
    }
   ],
   "source": [
    "sns.boxplot(df[\"imdb_votes\"], orient=\"v\")"
   ]
  },
  {
   "cell_type": "code",
   "execution_count": 14,
   "metadata": {},
   "outputs": [
    {
     "data": {
      "text/html": [
       "<div>\n",
       "<style scoped>\n",
       "    .dataframe tbody tr th:only-of-type {\n",
       "        vertical-align: middle;\n",
       "    }\n",
       "\n",
       "    .dataframe tbody tr th {\n",
       "        vertical-align: top;\n",
       "    }\n",
       "\n",
       "    .dataframe thead th {\n",
       "        text-align: right;\n",
       "    }\n",
       "</style>\n",
       "<table border=\"1\" class=\"dataframe\">\n",
       "  <thead>\n",
       "    <tr style=\"text-align: right;\">\n",
       "      <th></th>\n",
       "      <th>id</th>\n",
       "      <th>season</th>\n",
       "      <th>number_in_season</th>\n",
       "      <th>number_in_series</th>\n",
       "      <th>us_viewers_in_millions</th>\n",
       "      <th>views</th>\n",
       "      <th>imdb_rating</th>\n",
       "      <th>imdb_votes</th>\n",
       "    </tr>\n",
       "  </thead>\n",
       "  <tbody>\n",
       "    <tr>\n",
       "      <th>id</th>\n",
       "      <td>1.000000</td>\n",
       "      <td>0.999073</td>\n",
       "      <td>0.000436</td>\n",
       "      <td>1.000000</td>\n",
       "      <td>-0.855775</td>\n",
       "      <td>-0.592811</td>\n",
       "      <td>-0.747142</td>\n",
       "      <td>-0.849787</td>\n",
       "    </tr>\n",
       "    <tr>\n",
       "      <th>season</th>\n",
       "      <td>0.999073</td>\n",
       "      <td>1.000000</td>\n",
       "      <td>-0.036681</td>\n",
       "      <td>0.999073</td>\n",
       "      <td>-0.846410</td>\n",
       "      <td>-0.590396</td>\n",
       "      <td>-0.742424</td>\n",
       "      <td>-0.841633</td>\n",
       "    </tr>\n",
       "    <tr>\n",
       "      <th>number_in_season</th>\n",
       "      <td>0.000436</td>\n",
       "      <td>-0.036681</td>\n",
       "      <td>1.000000</td>\n",
       "      <td>0.000436</td>\n",
       "      <td>-0.155224</td>\n",
       "      <td>-0.015030</td>\n",
       "      <td>-0.000065</td>\n",
       "      <td>-0.103570</td>\n",
       "    </tr>\n",
       "    <tr>\n",
       "      <th>number_in_series</th>\n",
       "      <td>1.000000</td>\n",
       "      <td>0.999073</td>\n",
       "      <td>0.000436</td>\n",
       "      <td>1.000000</td>\n",
       "      <td>-0.855775</td>\n",
       "      <td>-0.592811</td>\n",
       "      <td>-0.747142</td>\n",
       "      <td>-0.849787</td>\n",
       "    </tr>\n",
       "    <tr>\n",
       "      <th>us_viewers_in_millions</th>\n",
       "      <td>-0.855775</td>\n",
       "      <td>-0.846410</td>\n",
       "      <td>-0.155224</td>\n",
       "      <td>-0.855775</td>\n",
       "      <td>1.000000</td>\n",
       "      <td>0.551805</td>\n",
       "      <td>0.623260</td>\n",
       "      <td>0.786840</td>\n",
       "    </tr>\n",
       "    <tr>\n",
       "      <th>views</th>\n",
       "      <td>-0.592811</td>\n",
       "      <td>-0.590396</td>\n",
       "      <td>-0.015030</td>\n",
       "      <td>-0.592811</td>\n",
       "      <td>0.551805</td>\n",
       "      <td>1.000000</td>\n",
       "      <td>0.575512</td>\n",
       "      <td>0.668230</td>\n",
       "    </tr>\n",
       "    <tr>\n",
       "      <th>imdb_rating</th>\n",
       "      <td>-0.747142</td>\n",
       "      <td>-0.742424</td>\n",
       "      <td>-0.000065</td>\n",
       "      <td>-0.747142</td>\n",
       "      <td>0.623260</td>\n",
       "      <td>0.575512</td>\n",
       "      <td>1.000000</td>\n",
       "      <td>0.783829</td>\n",
       "    </tr>\n",
       "    <tr>\n",
       "      <th>imdb_votes</th>\n",
       "      <td>-0.849787</td>\n",
       "      <td>-0.841633</td>\n",
       "      <td>-0.103570</td>\n",
       "      <td>-0.849787</td>\n",
       "      <td>0.786840</td>\n",
       "      <td>0.668230</td>\n",
       "      <td>0.783829</td>\n",
       "      <td>1.000000</td>\n",
       "    </tr>\n",
       "  </tbody>\n",
       "</table>\n",
       "</div>"
      ],
      "text/plain": [
       "                              id    season  number_in_season  \\\n",
       "id                      1.000000  0.999073          0.000436   \n",
       "season                  0.999073  1.000000         -0.036681   \n",
       "number_in_season        0.000436 -0.036681          1.000000   \n",
       "number_in_series        1.000000  0.999073          0.000436   \n",
       "us_viewers_in_millions -0.855775 -0.846410         -0.155224   \n",
       "views                  -0.592811 -0.590396         -0.015030   \n",
       "imdb_rating            -0.747142 -0.742424         -0.000065   \n",
       "imdb_votes             -0.849787 -0.841633         -0.103570   \n",
       "\n",
       "                        number_in_series  us_viewers_in_millions     views  \\\n",
       "id                              1.000000               -0.855775 -0.592811   \n",
       "season                          0.999073               -0.846410 -0.590396   \n",
       "number_in_season                0.000436               -0.155224 -0.015030   \n",
       "number_in_series                1.000000               -0.855775 -0.592811   \n",
       "us_viewers_in_millions         -0.855775                1.000000  0.551805   \n",
       "views                          -0.592811                0.551805  1.000000   \n",
       "imdb_rating                    -0.747142                0.623260  0.575512   \n",
       "imdb_votes                     -0.849787                0.786840  0.668230   \n",
       "\n",
       "                        imdb_rating  imdb_votes  \n",
       "id                        -0.747142   -0.849787  \n",
       "season                    -0.742424   -0.841633  \n",
       "number_in_season          -0.000065   -0.103570  \n",
       "number_in_series          -0.747142   -0.849787  \n",
       "us_viewers_in_millions     0.623260    0.786840  \n",
       "views                      0.575512    0.668230  \n",
       "imdb_rating                1.000000    0.783829  \n",
       "imdb_votes                 0.783829    1.000000  "
      ]
     },
     "execution_count": 14,
     "metadata": {},
     "output_type": "execute_result"
    }
   ],
   "source": [
    "df.corr()"
   ]
  },
  {
   "cell_type": "code",
   "execution_count": 15,
   "metadata": {},
   "outputs": [
    {
     "data": {
      "text/html": [
       "<div>\n",
       "<style scoped>\n",
       "    .dataframe tbody tr th:only-of-type {\n",
       "        vertical-align: middle;\n",
       "    }\n",
       "\n",
       "    .dataframe tbody tr th {\n",
       "        vertical-align: top;\n",
       "    }\n",
       "\n",
       "    .dataframe thead th {\n",
       "        text-align: right;\n",
       "    }\n",
       "</style>\n",
       "<table border=\"1\" class=\"dataframe\">\n",
       "  <thead>\n",
       "    <tr style=\"text-align: right;\">\n",
       "      <th></th>\n",
       "      <th>id</th>\n",
       "      <th>title</th>\n",
       "      <th>original_air_date</th>\n",
       "      <th>production_code</th>\n",
       "      <th>season</th>\n",
       "      <th>number_in_season</th>\n",
       "      <th>number_in_series</th>\n",
       "      <th>us_viewers_in_millions</th>\n",
       "      <th>views</th>\n",
       "      <th>imdb_rating</th>\n",
       "      <th>imdb_votes</th>\n",
       "      <th>image_url</th>\n",
       "      <th>video_url</th>\n",
       "    </tr>\n",
       "  </thead>\n",
       "  <tbody>\n",
       "    <tr>\n",
       "      <th>0</th>\n",
       "      <td>False</td>\n",
       "      <td>False</td>\n",
       "      <td>False</td>\n",
       "      <td>False</td>\n",
       "      <td>False</td>\n",
       "      <td>False</td>\n",
       "      <td>False</td>\n",
       "      <td>False</td>\n",
       "      <td>False</td>\n",
       "      <td>False</td>\n",
       "      <td>False</td>\n",
       "      <td>False</td>\n",
       "      <td>False</td>\n",
       "    </tr>\n",
       "    <tr>\n",
       "      <th>1</th>\n",
       "      <td>False</td>\n",
       "      <td>False</td>\n",
       "      <td>False</td>\n",
       "      <td>False</td>\n",
       "      <td>False</td>\n",
       "      <td>False</td>\n",
       "      <td>False</td>\n",
       "      <td>False</td>\n",
       "      <td>False</td>\n",
       "      <td>False</td>\n",
       "      <td>False</td>\n",
       "      <td>False</td>\n",
       "      <td>False</td>\n",
       "    </tr>\n",
       "    <tr>\n",
       "      <th>2</th>\n",
       "      <td>False</td>\n",
       "      <td>False</td>\n",
       "      <td>False</td>\n",
       "      <td>False</td>\n",
       "      <td>False</td>\n",
       "      <td>False</td>\n",
       "      <td>False</td>\n",
       "      <td>False</td>\n",
       "      <td>False</td>\n",
       "      <td>False</td>\n",
       "      <td>False</td>\n",
       "      <td>False</td>\n",
       "      <td>False</td>\n",
       "    </tr>\n",
       "    <tr>\n",
       "      <th>3</th>\n",
       "      <td>False</td>\n",
       "      <td>False</td>\n",
       "      <td>False</td>\n",
       "      <td>False</td>\n",
       "      <td>False</td>\n",
       "      <td>False</td>\n",
       "      <td>False</td>\n",
       "      <td>False</td>\n",
       "      <td>False</td>\n",
       "      <td>False</td>\n",
       "      <td>False</td>\n",
       "      <td>False</td>\n",
       "      <td>False</td>\n",
       "    </tr>\n",
       "    <tr>\n",
       "      <th>4</th>\n",
       "      <td>False</td>\n",
       "      <td>False</td>\n",
       "      <td>False</td>\n",
       "      <td>False</td>\n",
       "      <td>False</td>\n",
       "      <td>False</td>\n",
       "      <td>False</td>\n",
       "      <td>False</td>\n",
       "      <td>False</td>\n",
       "      <td>False</td>\n",
       "      <td>False</td>\n",
       "      <td>False</td>\n",
       "      <td>False</td>\n",
       "    </tr>\n",
       "    <tr>\n",
       "      <th>...</th>\n",
       "      <td>...</td>\n",
       "      <td>...</td>\n",
       "      <td>...</td>\n",
       "      <td>...</td>\n",
       "      <td>...</td>\n",
       "      <td>...</td>\n",
       "      <td>...</td>\n",
       "      <td>...</td>\n",
       "      <td>...</td>\n",
       "      <td>...</td>\n",
       "      <td>...</td>\n",
       "      <td>...</td>\n",
       "      <td>...</td>\n",
       "    </tr>\n",
       "    <tr>\n",
       "      <th>595</th>\n",
       "      <td>False</td>\n",
       "      <td>False</td>\n",
       "      <td>False</td>\n",
       "      <td>False</td>\n",
       "      <td>False</td>\n",
       "      <td>False</td>\n",
       "      <td>False</td>\n",
       "      <td>False</td>\n",
       "      <td>False</td>\n",
       "      <td>False</td>\n",
       "      <td>False</td>\n",
       "      <td>False</td>\n",
       "      <td>False</td>\n",
       "    </tr>\n",
       "    <tr>\n",
       "      <th>596</th>\n",
       "      <td>False</td>\n",
       "      <td>False</td>\n",
       "      <td>False</td>\n",
       "      <td>False</td>\n",
       "      <td>False</td>\n",
       "      <td>False</td>\n",
       "      <td>False</td>\n",
       "      <td>False</td>\n",
       "      <td>False</td>\n",
       "      <td>False</td>\n",
       "      <td>False</td>\n",
       "      <td>False</td>\n",
       "      <td>False</td>\n",
       "    </tr>\n",
       "    <tr>\n",
       "      <th>597</th>\n",
       "      <td>False</td>\n",
       "      <td>False</td>\n",
       "      <td>False</td>\n",
       "      <td>False</td>\n",
       "      <td>False</td>\n",
       "      <td>False</td>\n",
       "      <td>False</td>\n",
       "      <td>False</td>\n",
       "      <td>False</td>\n",
       "      <td>False</td>\n",
       "      <td>False</td>\n",
       "      <td>False</td>\n",
       "      <td>False</td>\n",
       "    </tr>\n",
       "    <tr>\n",
       "      <th>598</th>\n",
       "      <td>False</td>\n",
       "      <td>False</td>\n",
       "      <td>False</td>\n",
       "      <td>False</td>\n",
       "      <td>False</td>\n",
       "      <td>False</td>\n",
       "      <td>False</td>\n",
       "      <td>False</td>\n",
       "      <td>False</td>\n",
       "      <td>False</td>\n",
       "      <td>False</td>\n",
       "      <td>False</td>\n",
       "      <td>False</td>\n",
       "    </tr>\n",
       "    <tr>\n",
       "      <th>599</th>\n",
       "      <td>False</td>\n",
       "      <td>False</td>\n",
       "      <td>False</td>\n",
       "      <td>False</td>\n",
       "      <td>False</td>\n",
       "      <td>False</td>\n",
       "      <td>False</td>\n",
       "      <td>False</td>\n",
       "      <td>False</td>\n",
       "      <td>False</td>\n",
       "      <td>False</td>\n",
       "      <td>False</td>\n",
       "      <td>False</td>\n",
       "    </tr>\n",
       "  </tbody>\n",
       "</table>\n",
       "<p>600 rows × 13 columns</p>\n",
       "</div>"
      ],
      "text/plain": [
       "        id  title  original_air_date  production_code  season  \\\n",
       "0    False  False              False            False   False   \n",
       "1    False  False              False            False   False   \n",
       "2    False  False              False            False   False   \n",
       "3    False  False              False            False   False   \n",
       "4    False  False              False            False   False   \n",
       "..     ...    ...                ...              ...     ...   \n",
       "595  False  False              False            False   False   \n",
       "596  False  False              False            False   False   \n",
       "597  False  False              False            False   False   \n",
       "598  False  False              False            False   False   \n",
       "599  False  False              False            False   False   \n",
       "\n",
       "     number_in_season  number_in_series  us_viewers_in_millions  views  \\\n",
       "0               False             False                   False  False   \n",
       "1               False             False                   False  False   \n",
       "2               False             False                   False  False   \n",
       "3               False             False                   False  False   \n",
       "4               False             False                   False  False   \n",
       "..                ...               ...                     ...    ...   \n",
       "595             False             False                   False  False   \n",
       "596             False             False                   False  False   \n",
       "597             False             False                   False  False   \n",
       "598             False             False                   False  False   \n",
       "599             False             False                   False  False   \n",
       "\n",
       "     imdb_rating  imdb_votes  image_url  video_url  \n",
       "0          False       False      False      False  \n",
       "1          False       False      False      False  \n",
       "2          False       False      False      False  \n",
       "3          False       False      False      False  \n",
       "4          False       False      False      False  \n",
       "..           ...         ...        ...        ...  \n",
       "595        False       False      False      False  \n",
       "596        False       False      False      False  \n",
       "597        False       False      False      False  \n",
       "598        False       False      False      False  \n",
       "599        False       False      False      False  \n",
       "\n",
       "[600 rows x 13 columns]"
      ]
     },
     "execution_count": 15,
     "metadata": {},
     "output_type": "execute_result"
    }
   ],
   "source": [
    "df.isnull()"
   ]
  },
  {
   "cell_type": "code",
   "execution_count": 16,
   "metadata": {},
   "outputs": [
    {
     "data": {
      "text/plain": [
       "<AxesSubplot:>"
      ]
     },
     "execution_count": 16,
     "metadata": {},
     "output_type": "execute_result"
    },
    {
     "data": {
      "image/png": "[encoded data removed]",
      "text/plain": [
       "<Figure size 432x288 with 2 Axes>"
      ]
     },
     "metadata": {
      "needs_background": "light"
     },
     "output_type": "display_data"
    }
   ],
   "source": [
    "sns.heatmap(df.isnull())"
   ]
  },
  {
   "cell_type": "code",
   "execution_count": 17,
   "metadata": {},
   "outputs": [],
   "source": [
    "new_df=df.dropna()"
   ]
  },
  {
   "cell_type": "code",
   "execution_count": 19,
   "metadata": {},
   "outputs": [
    {
     "name": "stdout",
     "output_type": "stream",
     "text": [
      "<class 'pandas.core.frame.DataFrame'>\n",
      "Int64Index: 593 entries, 0 to 599\n",
      "Data columns (total 13 columns):\n",
      " #   Column                  Non-Null Count  Dtype  \n",
      "---  ------                  --------------  -----  \n",
      " 0   id                      593 non-null    int64  \n",
      " 1   title                   593 non-null    object \n",
      " 2   original_air_date       593 non-null    object \n",
      " 3   production_code         593 non-null    object \n",
      " 4   season                  593 non-null    int64  \n",
      " 5   number_in_season        593 non-null    int64  \n",
      " 6   number_in_series        593 non-null    int64  \n",
      " 7   us_viewers_in_millions  593 non-null    float64\n",
      " 8   views                   593 non-null    float64\n",
      " 9   imdb_rating             593 non-null    float64\n",
      " 10  imdb_votes              593 non-null    float64\n",
      " 11  image_url               593 non-null    object \n",
      " 12  video_url               593 non-null    object \n",
      "dtypes: float64(4), int64(4), object(5)\n",
      "memory usage: 64.9+ KB\n"
     ]
    }
   ],
   "source": [
    "new_df.info()"
   ]
  },
  {
   "cell_type": "code",
   "execution_count": 20,
   "metadata": {},
   "outputs": [
    {
     "data": {
      "text/plain": [
       "<AxesSubplot:>"
      ]
     },
     "execution_count": 20,
     "metadata": {},
     "output_type": "execute_result"
    },
    {
     "data": {
      "image/png": "[encoded data removed]",
      "text/plain": [
       "<Figure size 432x288 with 2 Axes>"
      ]
     },
     "metadata": {
      "needs_background": "light"
     },
     "output_type": "display_data"
    }
   ],
   "source": [
    "sns.heatmap(new_df.isnull())"
   ]
  },
  {
   "cell_type": "code",
   "execution_count": 21,
   "metadata": {},
   "outputs": [
    {
     "data": {
      "text/plain": [
       "7.3"
      ]
     },
     "execution_count": 21,
     "metadata": {},
     "output_type": "execute_result"
    }
   ],
   "source": [
    "df[\"imdb_rating\"].median()"
   ]
  },
  {
   "cell_type": "code",
   "execution_count": 22,
   "metadata": {},
   "outputs": [
    {
     "data": {
      "text/plain": [
       "7.3860971524288095"
      ]
     },
     "execution_count": 22,
     "metadata": {},
     "output_type": "execute_result"
    }
   ],
   "source": [
    "df[\"imdb_rating\"].mean()"
   ]
  },
  {
   "cell_type": "code",
   "execution_count": 23,
   "metadata": {},
   "outputs": [
    {
     "data": {
      "text/plain": [
       "0    7.3\n",
       "dtype: float64"
      ]
     },
     "execution_count": 23,
     "metadata": {},
     "output_type": "execute_result"
    }
   ],
   "source": [
    "df[\"imdb_rating\"].mode()"
   ]
  },
  {
   "cell_type": "code",
   "execution_count": 25,
   "metadata": {},
   "outputs": [
    {
     "data": {
      "text/plain": [
       "7.3860971524288095"
      ]
     },
     "execution_count": 25,
     "metadata": {},
     "output_type": "execute_result"
    }
   ],
   "source": [
    "mean_ratings=df[\"imdb_rating\"].mean()\n",
    "mean_ratings"
   ]
  },
  {
   "cell_type": "code",
   "execution_count": 26,
   "metadata": {},
   "outputs": [],
   "source": [
    "df[\"imdb_rating\"].fillna(mean_ratings,inplace = True)"
   ]
  },
  {
   "cell_type": "code",
   "execution_count": 27,
   "metadata": {},
   "outputs": [
    {
     "name": "stdout",
     "output_type": "stream",
     "text": [
      "<class 'pandas.core.frame.DataFrame'>\n",
      "RangeIndex: 600 entries, 0 to 599\n",
      "Data columns (total 13 columns):\n",
      " #   Column                  Non-Null Count  Dtype  \n",
      "---  ------                  --------------  -----  \n",
      " 0   id                      600 non-null    int64  \n",
      " 1   title                   600 non-null    object \n",
      " 2   original_air_date       600 non-null    object \n",
      " 3   production_code         600 non-null    object \n",
      " 4   season                  600 non-null    int64  \n",
      " 5   number_in_season        600 non-null    int64  \n",
      " 6   number_in_series        600 non-null    int64  \n",
      " 7   us_viewers_in_millions  594 non-null    float64\n",
      " 8   views                   596 non-null    float64\n",
      " 9   imdb_rating             600 non-null    float64\n",
      " 10  imdb_votes              597 non-null    float64\n",
      " 11  image_url               596 non-null    object \n",
      " 12  video_url               596 non-null    object \n",
      "dtypes: float64(4), int64(4), object(5)\n",
      "memory usage: 61.1+ KB\n"
     ]
    }
   ],
   "source": [
    "df.info()"
   ]
  },
  {
   "cell_type": "code",
   "execution_count": 28,
   "metadata": {},
   "outputs": [
    {
     "data": {
      "text/plain": [
       "832.3651591289782"
      ]
     },
     "execution_count": 28,
     "metadata": {},
     "output_type": "execute_result"
    }
   ],
   "source": [
    "df[\"imdb_votes\"].mean()"
   ]
  },
  {
   "cell_type": "code",
   "execution_count": 29,
   "metadata": {},
   "outputs": [
    {
     "data": {
      "text/plain": [
       "0    554.0\n",
       "1    562.0\n",
       "2    585.0\n",
       "dtype: float64"
      ]
     },
     "execution_count": 29,
     "metadata": {},
     "output_type": "execute_result"
    }
   ],
   "source": [
    "df[\"imdb_votes\"].mode()"
   ]
  },
  {
   "cell_type": "code",
   "execution_count": 37,
   "metadata": {},
   "outputs": [
    {
     "data": {
      "text/plain": [
       "832.3651591289782"
      ]
     },
     "execution_count": 37,
     "metadata": {},
     "output_type": "execute_result"
    }
   ],
   "source": [
    "mean_votes=df[\"imdb_votes\"].mean()\n",
    "mean_votes"
   ]
  },
  {
   "cell_type": "code",
   "execution_count": 38,
   "metadata": {},
   "outputs": [],
   "source": [
    "df[\"imdb_votes\"].fillna(mean_votes,inplace=True)"
   ]
  },
  {
   "cell_type": "code",
   "execution_count": 39,
   "metadata": {},
   "outputs": [
    {
     "name": "stdout",
     "output_type": "stream",
     "text": [
      "<class 'pandas.core.frame.DataFrame'>\n",
      "RangeIndex: 600 entries, 0 to 599\n",
      "Data columns (total 13 columns):\n",
      " #   Column                  Non-Null Count  Dtype  \n",
      "---  ------                  --------------  -----  \n",
      " 0   id                      600 non-null    int64  \n",
      " 1   title                   600 non-null    object \n",
      " 2   original_air_date       600 non-null    object \n",
      " 3   production_code         600 non-null    object \n",
      " 4   season                  600 non-null    int64  \n",
      " 5   number_in_season        600 non-null    int64  \n",
      " 6   number_in_series        600 non-null    int64  \n",
      " 7   us_viewers_in_millions  594 non-null    float64\n",
      " 8   views                   596 non-null    float64\n",
      " 9   imdb_rating             600 non-null    float64\n",
      " 10  imdb_votes              600 non-null    float64\n",
      " 11  image_url               596 non-null    object \n",
      " 12  video_url               596 non-null    object \n",
      "dtypes: float64(4), int64(4), object(5)\n",
      "memory usage: 61.1+ KB\n"
     ]
    }
   ],
   "source": [
    "df.info()"
   ]
  },
  {
   "cell_type": "code",
   "execution_count": 40,
   "metadata": {},
   "outputs": [
    {
     "data": {
      "text/plain": [
       "<AxesSubplot:xlabel='imdb_votes', ylabel='imdb_rating'>"
      ]
     },
     "execution_count": 40,
     "metadata": {},
     "output_type": "execute_result"
    },
    {
     "data": {
      "image/png": "[encoded data removed]",
      "text/plain": [
       "<Figure size 432x288 with 1 Axes>"
      ]
     },
     "metadata": {
      "needs_background": "light"
     },
     "output_type": "display_data"
    }
   ],
   "source": [
    "df.plot.scatter(x=\"imdb_votes\", y=\"imdb_rating\")"
   ]
  },
  {
   "cell_type": "code",
   "execution_count": 41,
   "metadata": {},
   "outputs": [
    {
     "data": {
      "text/plain": [
       "0      170.0\n",
       "1      192.0\n",
       "2    38097.0\n",
       "3    43485.0\n",
       "4    44512.0\n",
       "5    63564.0\n",
       "dtype: float64"
      ]
     },
     "execution_count": 41,
     "metadata": {},
     "output_type": "execute_result"
    }
   ],
   "source": [
    "df[\"views\"].mode()"
   ]
  },
  {
   "cell_type": "code",
   "execution_count": 42,
   "metadata": {},
   "outputs": [
    {
     "data": {
      "text/plain": [
       "48759.37751677852"
      ]
     },
     "execution_count": 42,
     "metadata": {},
     "output_type": "execute_result"
    }
   ],
   "source": [
    "df[\"views\"].mean()\n"
   ]
  },
  {
   "cell_type": "code",
   "execution_count": 43,
   "metadata": {},
   "outputs": [],
   "source": [
    "mean_views=df[\"views\"].mean()"
   ]
  },
  {
   "cell_type": "code",
   "execution_count": 44,
   "metadata": {},
   "outputs": [],
   "source": [
    "df[\"views\"].fillna(mean_views,inplace=True)"
   ]
  },
  {
   "cell_type": "code",
   "execution_count": 45,
   "metadata": {},
   "outputs": [
    {
     "name": "stdout",
     "output_type": "stream",
     "text": [
      "<class 'pandas.core.frame.DataFrame'>\n",
      "RangeIndex: 600 entries, 0 to 599\n",
      "Data columns (total 13 columns):\n",
      " #   Column                  Non-Null Count  Dtype  \n",
      "---  ------                  --------------  -----  \n",
      " 0   id                      600 non-null    int64  \n",
      " 1   title                   600 non-null    object \n",
      " 2   original_air_date       600 non-null    object \n",
      " 3   production_code         600 non-null    object \n",
      " 4   season                  600 non-null    int64  \n",
      " 5   number_in_season        600 non-null    int64  \n",
      " 6   number_in_series        600 non-null    int64  \n",
      " 7   us_viewers_in_millions  594 non-null    float64\n",
      " 8   views                   600 non-null    float64\n",
      " 9   imdb_rating             600 non-null    float64\n",
      " 10  imdb_votes              600 non-null    float64\n",
      " 11  image_url               596 non-null    object \n",
      " 12  video_url               596 non-null    object \n",
      "dtypes: float64(4), int64(4), object(5)\n",
      "memory usage: 61.1+ KB\n"
     ]
    }
   ],
   "source": [
    "df.info()"
   ]
  },
  {
   "cell_type": "code",
   "execution_count": 47,
   "metadata": {},
   "outputs": [
    {
     "data": {
      "text/plain": [
       "11.842794612794606"
      ]
     },
     "execution_count": 47,
     "metadata": {},
     "output_type": "execute_result"
    }
   ],
   "source": [
    "df[\"us_viewers_in_millions\"].mean()"
   ]
  },
  {
   "cell_type": "code",
   "execution_count": 50,
   "metadata": {},
   "outputs": [
    {
     "data": {
      "text/plain": [
       "10.3"
      ]
     },
     "execution_count": 50,
     "metadata": {},
     "output_type": "execute_result"
    }
   ],
   "source": [
    "df[\"us_viewers_in_millions\"].median()"
   ]
  },
  {
   "cell_type": "code",
   "execution_count": 49,
   "metadata": {},
   "outputs": [
    {
     "data": {
      "text/html": [
       "<div>\n",
       "<style scoped>\n",
       "    .dataframe tbody tr th:only-of-type {\n",
       "        vertical-align: middle;\n",
       "    }\n",
       "\n",
       "    .dataframe tbody tr th {\n",
       "        vertical-align: top;\n",
       "    }\n",
       "\n",
       "    .dataframe thead th {\n",
       "        text-align: right;\n",
       "    }\n",
       "</style>\n",
       "<table border=\"1\" class=\"dataframe\">\n",
       "  <thead>\n",
       "    <tr style=\"text-align: right;\">\n",
       "      <th></th>\n",
       "      <th>id</th>\n",
       "      <th>season</th>\n",
       "      <th>number_in_season</th>\n",
       "      <th>number_in_series</th>\n",
       "      <th>us_viewers_in_millions</th>\n",
       "      <th>views</th>\n",
       "      <th>imdb_rating</th>\n",
       "      <th>imdb_votes</th>\n",
       "    </tr>\n",
       "  </thead>\n",
       "  <tbody>\n",
       "    <tr>\n",
       "      <th>count</th>\n",
       "      <td>600.000000</td>\n",
       "      <td>600.000000</td>\n",
       "      <td>600.000000</td>\n",
       "      <td>600.000000</td>\n",
       "      <td>594.000000</td>\n",
       "      <td>600.000000</td>\n",
       "      <td>600.000000</td>\n",
       "      <td>600.000000</td>\n",
       "    </tr>\n",
       "    <tr>\n",
       "      <th>mean</th>\n",
       "      <td>300.500000</td>\n",
       "      <td>14.100000</td>\n",
       "      <td>11.585000</td>\n",
       "      <td>300.500000</td>\n",
       "      <td>11.842795</td>\n",
       "      <td>48759.377517</td>\n",
       "      <td>7.386097</td>\n",
       "      <td>832.365159</td>\n",
       "    </tr>\n",
       "    <tr>\n",
       "      <th>std</th>\n",
       "      <td>173.349358</td>\n",
       "      <td>7.755444</td>\n",
       "      <td>6.549881</td>\n",
       "      <td>173.349358</td>\n",
       "      <td>6.414218</td>\n",
       "      <td>17691.939373</td>\n",
       "      <td>0.730603</td>\n",
       "      <td>395.124744</td>\n",
       "    </tr>\n",
       "    <tr>\n",
       "      <th>min</th>\n",
       "      <td>1.000000</td>\n",
       "      <td>1.000000</td>\n",
       "      <td>1.000000</td>\n",
       "      <td>1.000000</td>\n",
       "      <td>2.320000</td>\n",
       "      <td>144.000000</td>\n",
       "      <td>4.500000</td>\n",
       "      <td>104.000000</td>\n",
       "    </tr>\n",
       "    <tr>\n",
       "      <th>25%</th>\n",
       "      <td>150.750000</td>\n",
       "      <td>7.000000</td>\n",
       "      <td>6.000000</td>\n",
       "      <td>150.750000</td>\n",
       "      <td>7.055000</td>\n",
       "      <td>41318.750000</td>\n",
       "      <td>6.900000</td>\n",
       "      <td>560.000000</td>\n",
       "    </tr>\n",
       "    <tr>\n",
       "      <th>50%</th>\n",
       "      <td>300.500000</td>\n",
       "      <td>14.000000</td>\n",
       "      <td>11.000000</td>\n",
       "      <td>300.500000</td>\n",
       "      <td>10.300000</td>\n",
       "      <td>46205.000000</td>\n",
       "      <td>7.300000</td>\n",
       "      <td>698.000000</td>\n",
       "    </tr>\n",
       "    <tr>\n",
       "      <th>75%</th>\n",
       "      <td>450.250000</td>\n",
       "      <td>21.000000</td>\n",
       "      <td>17.000000</td>\n",
       "      <td>450.250000</td>\n",
       "      <td>15.250000</td>\n",
       "      <td>57584.000000</td>\n",
       "      <td>8.000000</td>\n",
       "      <td>1095.000000</td>\n",
       "    </tr>\n",
       "    <tr>\n",
       "      <th>max</th>\n",
       "      <td>600.000000</td>\n",
       "      <td>28.000000</td>\n",
       "      <td>25.000000</td>\n",
       "      <td>600.000000</td>\n",
       "      <td>33.600000</td>\n",
       "      <td>171408.000000</td>\n",
       "      <td>9.200000</td>\n",
       "      <td>3734.000000</td>\n",
       "    </tr>\n",
       "  </tbody>\n",
       "</table>\n",
       "</div>"
      ],
      "text/plain": [
       "               id      season  number_in_season  number_in_series  \\\n",
       "count  600.000000  600.000000        600.000000        600.000000   \n",
       "mean   300.500000   14.100000         11.585000        300.500000   \n",
       "std    173.349358    7.755444          6.549881        173.349358   \n",
       "min      1.000000    1.000000          1.000000          1.000000   \n",
       "25%    150.750000    7.000000          6.000000        150.750000   \n",
       "50%    300.500000   14.000000         11.000000        300.500000   \n",
       "75%    450.250000   21.000000         17.000000        450.250000   \n",
       "max    600.000000   28.000000         25.000000        600.000000   \n",
       "\n",
       "       us_viewers_in_millions          views  imdb_rating   imdb_votes  \n",
       "count              594.000000     600.000000   600.000000   600.000000  \n",
       "mean                11.842795   48759.377517     7.386097   832.365159  \n",
       "std                  6.414218   17691.939373     0.730603   395.124744  \n",
       "min                  2.320000     144.000000     4.500000   104.000000  \n",
       "25%                  7.055000   41318.750000     6.900000   560.000000  \n",
       "50%                 10.300000   46205.000000     7.300000   698.000000  \n",
       "75%                 15.250000   57584.000000     8.000000  1095.000000  \n",
       "max                 33.600000  171408.000000     9.200000  3734.000000  "
      ]
     },
     "execution_count": 49,
     "metadata": {},
     "output_type": "execute_result"
    }
   ],
   "source": [
    "df.describe()"
   ]
  },
  {
   "cell_type": "code",
   "execution_count": 51,
   "metadata": {},
   "outputs": [],
   "source": [
    "mean_us_viewers_in_millions=df[\"us_viewers_in_millions\"].mean()"
   ]
  },
  {
   "cell_type": "code",
   "execution_count": 52,
   "metadata": {},
   "outputs": [],
   "source": [
    "df[\"us_viewers_in_millions\"].fillna(mean_us_viewers_in_millions,inplace=True)"
   ]
  },
  {
   "cell_type": "code",
   "execution_count": 53,
   "metadata": {},
   "outputs": [
    {
     "name": "stdout",
     "output_type": "stream",
     "text": [
      "<class 'pandas.core.frame.DataFrame'>\n",
      "RangeIndex: 600 entries, 0 to 599\n",
      "Data columns (total 13 columns):\n",
      " #   Column                  Non-Null Count  Dtype  \n",
      "---  ------                  --------------  -----  \n",
      " 0   id                      600 non-null    int64  \n",
      " 1   title                   600 non-null    object \n",
      " 2   original_air_date       600 non-null    object \n",
      " 3   production_code         600 non-null    object \n",
      " 4   season                  600 non-null    int64  \n",
      " 5   number_in_season        600 non-null    int64  \n",
      " 6   number_in_series        600 non-null    int64  \n",
      " 7   us_viewers_in_millions  600 non-null    float64\n",
      " 8   views                   600 non-null    float64\n",
      " 9   imdb_rating             600 non-null    float64\n",
      " 10  imdb_votes              600 non-null    float64\n",
      " 11  image_url               596 non-null    object \n",
      " 12  video_url               596 non-null    object \n",
      "dtypes: float64(4), int64(4), object(5)\n",
      "memory usage: 61.1+ KB\n"
     ]
    }
   ],
   "source": [
    "df.info()"
   ]
  },
  {
   "cell_type": "code",
   "execution_count": null,
   "metadata": {},
   "outputs": [],
   "source": []
  }
 ],
 "metadata": {
  "kernelspec": {
   "display_name": "Python 3",
   "language": "python",
   "name": "python3"
  },
  "language_info": {
   "codemirror_mode": {
    "name": "ipython",
    "version": 3
   },
   "file_extension": ".py",
   "mimetype": "text/x-python",
   "name": "python",
   "nbconvert_exporter": "python",
   "pygments_lexer": "ipython3",
   "version": "3.8.5"
  }
 },
 "nbformat": 4,
 "nbformat_minor": 4
}
